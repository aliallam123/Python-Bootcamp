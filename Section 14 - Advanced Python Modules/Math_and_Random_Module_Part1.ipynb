{
 "cells": [
  {
   "cell_type": "markdown",
   "id": "875014c8-d6fc-4bfd-b359-048602059bb9",
   "metadata": {},
   "source": [
    "# Math and Random Modules"
   ]
  },
  {
   "cell_type": "code",
   "execution_count": 2,
   "id": "3b40c543-d6a2-424c-897c-2989b3300484",
   "metadata": {},
   "outputs": [],
   "source": [
    "# Python comes with a built in math module and random module"
   ]
  },
  {
   "cell_type": "code",
   "execution_count": 3,
   "id": "1b6bc707-30cf-40ac-9722-2e93c35f5902",
   "metadata": {},
   "outputs": [],
   "source": [
    "# We won't go through every function available in these modules since there are so many, but we will show some useful ones."
   ]
  },
  {
   "cell_type": "markdown",
   "id": "74b38aa4-0714-46e6-b5ce-9ea7ada4379c",
   "metadata": {},
   "source": [
    "### Useful Math Functions"
   ]
  },
  {
   "cell_type": "code",
   "execution_count": 4,
   "id": "b4086aeb-6dfd-4684-95c5-518d1322040c",
   "metadata": {},
   "outputs": [],
   "source": [
    "import math"
   ]
  },
  {
   "cell_type": "code",
   "execution_count": 5,
   "id": "0898bb5f-b3d6-4909-bdb5-7dfecdde2fe3",
   "metadata": {},
   "outputs": [
    {
     "name": "stdout",
     "output_type": "stream",
     "text": [
      "Help on built-in module math:\n",
      "\n",
      "NAME\n",
      "    math\n",
      "\n",
      "DESCRIPTION\n",
      "    This module provides access to the mathematical functions\n",
      "    defined by the C standard.\n",
      "\n",
      "FUNCTIONS\n",
      "    acos(x, /)\n",
      "        Return the arc cosine (measured in radians) of x.\n",
      "\n",
      "        The result is between 0 and pi.\n",
      "\n",
      "    acosh(x, /)\n",
      "        Return the inverse hyperbolic cosine of x.\n",
      "\n",
      "    asin(x, /)\n",
      "        Return the arc sine (measured in radians) of x.\n",
      "\n",
      "        The result is between -pi/2 and pi/2.\n",
      "\n",
      "    asinh(x, /)\n",
      "        Return the inverse hyperbolic sine of x.\n",
      "\n",
      "    atan(x, /)\n",
      "        Return the arc tangent (measured in radians) of x.\n",
      "\n",
      "        The result is between -pi/2 and pi/2.\n",
      "\n",
      "    atan2(y, x, /)\n",
      "        Return the arc tangent (measured in radians) of y/x.\n",
      "\n",
      "        Unlike atan(y/x), the signs of both x and y are considered.\n",
      "\n",
      "    atanh(x, /)\n",
      "        Return the inverse hyperbolic tangent of x.\n",
      "\n",
      "    cbrt(x, /)\n",
      "        Return the cube root of x.\n",
      "\n",
      "    ceil(x, /)\n",
      "        Return the ceiling of x as an Integral.\n",
      "\n",
      "        This is the smallest integer >= x.\n",
      "\n",
      "    comb(n, k, /)\n",
      "        Number of ways to choose k items from n items without repetition and without order.\n",
      "\n",
      "        Evaluates to n! / (k! * (n - k)!) when k <= n and evaluates\n",
      "        to zero when k > n.\n",
      "\n",
      "        Also called the binomial coefficient because it is equivalent\n",
      "        to the coefficient of k-th term in polynomial expansion of the\n",
      "        expression (1 + x)**n.\n",
      "\n",
      "        Raises TypeError if either of the arguments are not integers.\n",
      "        Raises ValueError if either of the arguments are negative.\n",
      "\n",
      "    copysign(x, y, /)\n",
      "        Return a float with the magnitude (absolute value) of x but the sign of y.\n",
      "\n",
      "        On platforms that support signed zeros, copysign(1.0, -0.0)\n",
      "        returns -1.0.\n",
      "\n",
      "    cos(x, /)\n",
      "        Return the cosine of x (measured in radians).\n",
      "\n",
      "    cosh(x, /)\n",
      "        Return the hyperbolic cosine of x.\n",
      "\n",
      "    degrees(x, /)\n",
      "        Convert angle x from radians to degrees.\n",
      "\n",
      "    dist(p, q, /)\n",
      "        Return the Euclidean distance between two points p and q.\n",
      "\n",
      "        The points should be specified as sequences (or iterables) of\n",
      "        coordinates.  Both inputs must have the same dimension.\n",
      "\n",
      "        Roughly equivalent to:\n",
      "            sqrt(sum((px - qx) ** 2.0 for px, qx in zip(p, q)))\n",
      "\n",
      "    erf(x, /)\n",
      "        Error function at x.\n",
      "\n",
      "    erfc(x, /)\n",
      "        Complementary error function at x.\n",
      "\n",
      "    exp(x, /)\n",
      "        Return e raised to the power of x.\n",
      "\n",
      "    exp2(x, /)\n",
      "        Return 2 raised to the power of x.\n",
      "\n",
      "    expm1(x, /)\n",
      "        Return exp(x)-1.\n",
      "\n",
      "        This function avoids the loss of precision involved in the direct evaluation of exp(x)-1 for small x.\n",
      "\n",
      "    fabs(x, /)\n",
      "        Return the absolute value of the float x.\n",
      "\n",
      "    factorial(n, /)\n",
      "        Find n!.\n",
      "\n",
      "        Raise a ValueError if x is negative or non-integral.\n",
      "\n",
      "    floor(x, /)\n",
      "        Return the floor of x as an Integral.\n",
      "\n",
      "        This is the largest integer <= x.\n",
      "\n",
      "    fmod(x, y, /)\n",
      "        Return fmod(x, y), according to platform C.\n",
      "\n",
      "        x % y may differ.\n",
      "\n",
      "    frexp(x, /)\n",
      "        Return the mantissa and exponent of x, as pair (m, e).\n",
      "\n",
      "        m is a float and e is an int, such that x = m * 2.**e.\n",
      "        If x is 0, m and e are both 0.  Else 0.5 <= abs(m) < 1.0.\n",
      "\n",
      "    fsum(seq, /)\n",
      "        Return an accurate floating point sum of values in the iterable seq.\n",
      "\n",
      "        Assumes IEEE-754 floating point arithmetic.\n",
      "\n",
      "    gamma(x, /)\n",
      "        Gamma function at x.\n",
      "\n",
      "    gcd(*integers)\n",
      "        Greatest Common Divisor.\n",
      "\n",
      "    hypot(...)\n",
      "        hypot(*coordinates) -> value\n",
      "\n",
      "        Multidimensional Euclidean distance from the origin to a point.\n",
      "\n",
      "        Roughly equivalent to:\n",
      "            sqrt(sum(x**2 for x in coordinates))\n",
      "\n",
      "        For a two dimensional point (x, y), gives the hypotenuse\n",
      "        using the Pythagorean theorem:  sqrt(x*x + y*y).\n",
      "\n",
      "        For example, the hypotenuse of a 3/4/5 right triangle is:\n",
      "\n",
      "            >>> hypot(3.0, 4.0)\n",
      "            5.0\n",
      "\n",
      "    isclose(a, b, *, rel_tol=1e-09, abs_tol=0.0)\n",
      "        Determine whether two floating point numbers are close in value.\n",
      "\n",
      "          rel_tol\n",
      "            maximum difference for being considered \"close\", relative to the\n",
      "            magnitude of the input values\n",
      "          abs_tol\n",
      "            maximum difference for being considered \"close\", regardless of the\n",
      "            magnitude of the input values\n",
      "\n",
      "        Return True if a is close in value to b, and False otherwise.\n",
      "\n",
      "        For the values to be considered close, the difference between them\n",
      "        must be smaller than at least one of the tolerances.\n",
      "\n",
      "        -inf, inf and NaN behave similarly to the IEEE 754 Standard.  That\n",
      "        is, NaN is not close to anything, even itself.  inf and -inf are\n",
      "        only close to themselves.\n",
      "\n",
      "    isfinite(x, /)\n",
      "        Return True if x is neither an infinity nor a NaN, and False otherwise.\n",
      "\n",
      "    isinf(x, /)\n",
      "        Return True if x is a positive or negative infinity, and False otherwise.\n",
      "\n",
      "    isnan(x, /)\n",
      "        Return True if x is a NaN (not a number), and False otherwise.\n",
      "\n",
      "    isqrt(n, /)\n",
      "        Return the integer part of the square root of the input.\n",
      "\n",
      "    lcm(*integers)\n",
      "        Least Common Multiple.\n",
      "\n",
      "    ldexp(x, i, /)\n",
      "        Return x * (2**i).\n",
      "\n",
      "        This is essentially the inverse of frexp().\n",
      "\n",
      "    lgamma(x, /)\n",
      "        Natural logarithm of absolute value of Gamma function at x.\n",
      "\n",
      "    log(...)\n",
      "        log(x, [base=math.e])\n",
      "        Return the logarithm of x to the given base.\n",
      "\n",
      "        If the base is not specified, returns the natural logarithm (base e) of x.\n",
      "\n",
      "    log10(x, /)\n",
      "        Return the base 10 logarithm of x.\n",
      "\n",
      "    log1p(x, /)\n",
      "        Return the natural logarithm of 1+x (base e).\n",
      "\n",
      "        The result is computed in a way which is accurate for x near zero.\n",
      "\n",
      "    log2(x, /)\n",
      "        Return the base 2 logarithm of x.\n",
      "\n",
      "    modf(x, /)\n",
      "        Return the fractional and integer parts of x.\n",
      "\n",
      "        Both results carry the sign of x and are floats.\n",
      "\n",
      "    nextafter(x, y, /, *, steps=None)\n",
      "        Return the floating-point value the given number of steps after x towards y.\n",
      "\n",
      "        If steps is not specified or is None, it defaults to 1.\n",
      "\n",
      "        Raises a TypeError, if x or y is not a double, or if steps is not an integer.\n",
      "        Raises ValueError if steps is negative.\n",
      "\n",
      "    perm(n, k=None, /)\n",
      "        Number of ways to choose k items from n items without repetition and with order.\n",
      "\n",
      "        Evaluates to n! / (n - k)! when k <= n and evaluates\n",
      "        to zero when k > n.\n",
      "\n",
      "        If k is not specified or is None, then k defaults to n\n",
      "        and the function returns n!.\n",
      "\n",
      "        Raises TypeError if either of the arguments are not integers.\n",
      "        Raises ValueError if either of the arguments are negative.\n",
      "\n",
      "    pow(x, y, /)\n",
      "        Return x**y (x to the power of y).\n",
      "\n",
      "    prod(iterable, /, *, start=1)\n",
      "        Calculate the product of all the elements in the input iterable.\n",
      "\n",
      "        The default start value for the product is 1.\n",
      "\n",
      "        When the iterable is empty, return the start value.  This function is\n",
      "        intended specifically for use with numeric values and may reject\n",
      "        non-numeric types.\n",
      "\n",
      "    radians(x, /)\n",
      "        Convert angle x from degrees to radians.\n",
      "\n",
      "    remainder(x, y, /)\n",
      "        Difference between x and the closest integer multiple of y.\n",
      "\n",
      "        Return x - n*y where n*y is the closest integer multiple of y.\n",
      "        In the case where x is exactly halfway between two multiples of\n",
      "        y, the nearest even value of n is used. The result is always exact.\n",
      "\n",
      "    sin(x, /)\n",
      "        Return the sine of x (measured in radians).\n",
      "\n",
      "    sinh(x, /)\n",
      "        Return the hyperbolic sine of x.\n",
      "\n",
      "    sqrt(x, /)\n",
      "        Return the square root of x.\n",
      "\n",
      "    sumprod(p, q, /)\n",
      "        Return the sum of products of values from two iterables p and q.\n",
      "\n",
      "        Roughly equivalent to:\n",
      "\n",
      "            sum(itertools.starmap(operator.mul, zip(p, q, strict=True)))\n",
      "\n",
      "        For float and mixed int/float inputs, the intermediate products\n",
      "        and sums are computed with extended precision.\n",
      "\n",
      "    tan(x, /)\n",
      "        Return the tangent of x (measured in radians).\n",
      "\n",
      "    tanh(x, /)\n",
      "        Return the hyperbolic tangent of x.\n",
      "\n",
      "    trunc(x, /)\n",
      "        Truncates the Real x to the nearest Integral toward 0.\n",
      "\n",
      "        Uses the __trunc__ magic method.\n",
      "\n",
      "    ulp(x, /)\n",
      "        Return the value of the least significant bit of the float x.\n",
      "\n",
      "DATA\n",
      "    e = 2.718281828459045\n",
      "    inf = inf\n",
      "    nan = nan\n",
      "    pi = 3.141592653589793\n",
      "    tau = 6.283185307179586\n",
      "\n",
      "FILE\n",
      "    (built-in)\n",
      "\n",
      "\n"
     ]
    }
   ],
   "source": [
    "help(math)"
   ]
  },
  {
   "cell_type": "code",
   "execution_count": 6,
   "id": "41ff6de4-3050-4827-8187-84426ad3b64f",
   "metadata": {},
   "outputs": [],
   "source": [
    "# rounding numbers"
   ]
  },
  {
   "cell_type": "code",
   "execution_count": 7,
   "id": "27a1c492-6c1f-4ebc-8142-56d70e92b180",
   "metadata": {},
   "outputs": [],
   "source": [
    "value = 28.12"
   ]
  },
  {
   "cell_type": "code",
   "execution_count": 8,
   "id": "6e21f8e3-7f69-4283-8baa-b047e05137df",
   "metadata": {},
   "outputs": [
    {
     "data": {
      "text/plain": [
       "28"
      ]
     },
     "execution_count": 8,
     "metadata": {},
     "output_type": "execute_result"
    }
   ],
   "source": [
    "math.floor(value)"
   ]
  },
  {
   "cell_type": "code",
   "execution_count": 9,
   "id": "d571c5e4-4655-4af5-b64b-7224425c02a2",
   "metadata": {},
   "outputs": [
    {
     "data": {
      "text/plain": [
       "4"
      ]
     },
     "execution_count": 9,
     "metadata": {},
     "output_type": "execute_result"
    }
   ],
   "source": [
    "math.floor(4.80)"
   ]
  },
  {
   "cell_type": "code",
   "execution_count": 10,
   "id": "430f481f-ae78-49b4-a4aa-3bd194a7efbc",
   "metadata": {},
   "outputs": [
    {
     "data": {
      "text/plain": [
       "29"
      ]
     },
     "execution_count": 10,
     "metadata": {},
     "output_type": "execute_result"
    }
   ],
   "source": [
    "math.ceil(value)"
   ]
  },
  {
   "cell_type": "code",
   "execution_count": 13,
   "id": "eb80bacd-a6d7-4508-8ba4-406238cc2857",
   "metadata": {},
   "outputs": [
    {
     "data": {
      "text/plain": [
       "28"
      ]
     },
     "execution_count": 13,
     "metadata": {},
     "output_type": "execute_result"
    }
   ],
   "source": [
    "round(value)"
   ]
  },
  {
   "cell_type": "code",
   "execution_count": 14,
   "id": "b371c174-fbd9-4396-9d88-93e574b2c4b9",
   "metadata": {},
   "outputs": [],
   "source": [
    "# math constants"
   ]
  },
  {
   "cell_type": "code",
   "execution_count": 15,
   "id": "cf1ce58f-5624-492d-b40c-666a35c3c6fb",
   "metadata": {},
   "outputs": [
    {
     "data": {
      "text/plain": [
       "3.141592653589793"
      ]
     },
     "execution_count": 15,
     "metadata": {},
     "output_type": "execute_result"
    }
   ],
   "source": [
    "math.pi"
   ]
  },
  {
   "cell_type": "code",
   "execution_count": 16,
   "id": "10a2dc1a-af0c-4d11-9c88-3238b244e6ee",
   "metadata": {},
   "outputs": [
    {
     "data": {
      "text/plain": [
       "2.718281828459045"
      ]
     },
     "execution_count": 16,
     "metadata": {},
     "output_type": "execute_result"
    }
   ],
   "source": [
    "math.e"
   ]
  },
  {
   "cell_type": "code",
   "execution_count": 17,
   "id": "234199bf-fd56-4722-933f-be94b16b4fff",
   "metadata": {},
   "outputs": [
    {
     "data": {
      "text/plain": [
       "6.283185307179586"
      ]
     },
     "execution_count": 17,
     "metadata": {},
     "output_type": "execute_result"
    }
   ],
   "source": [
    "math.tau"
   ]
  },
  {
   "cell_type": "code",
   "execution_count": 18,
   "id": "89afeba4-fdbc-479f-aeb4-713ff02adc44",
   "metadata": {},
   "outputs": [],
   "source": [
    "# log values"
   ]
  },
  {
   "cell_type": "code",
   "execution_count": 19,
   "id": "a645b698-0954-4cb3-9d6f-f8cdafebf0cf",
   "metadata": {},
   "outputs": [
    {
     "data": {
      "text/plain": [
       "2.718281828459045"
      ]
     },
     "execution_count": 19,
     "metadata": {},
     "output_type": "execute_result"
    }
   ],
   "source": [
    "math.e"
   ]
  },
  {
   "cell_type": "code",
   "execution_count": 20,
   "id": "002c0410-48db-4bbb-854d-faea3c4bd5d1",
   "metadata": {},
   "outputs": [],
   "source": [
    "# log base e"
   ]
  },
  {
   "cell_type": "code",
   "execution_count": 24,
   "id": "fb1cb141-21c6-4aa6-8ed2-c1d1e8bf8ceb",
   "metadata": {},
   "outputs": [
    {
     "data": {
      "text/plain": [
       "0.6931471805599453"
      ]
     },
     "execution_count": 24,
     "metadata": {},
     "output_type": "execute_result"
    }
   ],
   "source": [
    "math.log(2)"
   ]
  },
  {
   "cell_type": "code",
   "execution_count": 25,
   "id": "9a10b177-ed33-46e9-b134-544203e8c920",
   "metadata": {},
   "outputs": [
    {
     "data": {
      "text/plain": [
       "1.0"
      ]
     },
     "execution_count": 25,
     "metadata": {},
     "output_type": "execute_result"
    }
   ],
   "source": [
    "math.log(math.e)"
   ]
  },
  {
   "cell_type": "code",
   "execution_count": 26,
   "id": "f6939b51-cead-47eb-b5e6-2dfb8d790a40",
   "metadata": {},
   "outputs": [],
   "source": [
    "# Custom base"
   ]
  },
  {
   "cell_type": "code",
   "execution_count": 27,
   "id": "399d8e9a-a723-4f91-b575-dc243296d05e",
   "metadata": {},
   "outputs": [],
   "source": [
    "# math.log(x, base)"
   ]
  },
  {
   "cell_type": "code",
   "execution_count": 28,
   "id": "ef7815a0-0af4-4107-99d4-ad0abee11180",
   "metadata": {},
   "outputs": [
    {
     "data": {
      "text/plain": [
       "2.0"
      ]
     },
     "execution_count": 28,
     "metadata": {},
     "output_type": "execute_result"
    }
   ],
   "source": [
    "math.log(100,10)"
   ]
  },
  {
   "cell_type": "code",
   "execution_count": 29,
   "id": "134b13ce-cc95-41f5-b2ea-b8df5fae8762",
   "metadata": {},
   "outputs": [],
   "source": [
    "# Trig functions"
   ]
  },
  {
   "cell_type": "code",
   "execution_count": 30,
   "id": "19a0597d-cd58-4359-b49e-c06cf552457c",
   "metadata": {},
   "outputs": [],
   "source": [
    "# radians"
   ]
  },
  {
   "cell_type": "code",
   "execution_count": 31,
   "id": "5512ebfb-9ed7-4532-a419-c8d68581fc54",
   "metadata": {},
   "outputs": [
    {
     "data": {
      "text/plain": [
       "<function math.sin(x, /)>"
      ]
     },
     "execution_count": 31,
     "metadata": {},
     "output_type": "execute_result"
    }
   ],
   "source": [
    "math.sin"
   ]
  },
  {
   "cell_type": "code",
   "execution_count": 32,
   "id": "961100e3-40b6-4047-806d-5b936574a36c",
   "metadata": {},
   "outputs": [
    {
     "data": {
      "text/plain": [
       "0.9092974268256817"
      ]
     },
     "execution_count": 32,
     "metadata": {},
     "output_type": "execute_result"
    }
   ],
   "source": [
    "math.sin(2)"
   ]
  },
  {
   "cell_type": "markdown",
   "id": "2fbf6bd8-37c4-47c7-b896-8f58759d6ccb",
   "metadata": {},
   "source": [
    "# Random module"
   ]
  },
  {
   "cell_type": "code",
   "execution_count": 41,
   "id": "319a93cd-e718-4405-be04-744f4a632c4a",
   "metadata": {},
   "outputs": [],
   "source": [
    "import random"
   ]
  },
  {
   "cell_type": "code",
   "execution_count": 42,
   "id": "7979c318-886e-40a0-a196-8b1464d0ed1c",
   "metadata": {},
   "outputs": [
    {
     "data": {
      "text/plain": [
       "24"
      ]
     },
     "execution_count": 42,
     "metadata": {},
     "output_type": "execute_result"
    }
   ],
   "source": [
    "random.randint(0,100)"
   ]
  },
  {
   "cell_type": "code",
   "execution_count": 52,
   "id": "eb509689-8b2a-48f1-ad28-9c509eebe860",
   "metadata": {},
   "outputs": [
    {
     "data": {
      "text/plain": [
       "9"
      ]
     },
     "execution_count": 52,
     "metadata": {},
     "output_type": "execute_result"
    }
   ],
   "source": [
    "random.randint(8,28)"
   ]
  },
  {
   "cell_type": "code",
   "execution_count": 47,
   "id": "0f8a2f30-f082-4e26-8f43-aef261874dd9",
   "metadata": {},
   "outputs": [
    {
     "data": {
      "text/plain": [
       "74"
      ]
     },
     "execution_count": 47,
     "metadata": {},
     "output_type": "execute_result"
    }
   ],
   "source": [
    "# The value 101 is completely arbitrary, you can pass in any number you want\n",
    "random.seed(101)\n",
    "# You can run this cell as many times as you want, it will always return the same number\n",
    "random.randint(0,100)"
   ]
  },
  {
   "cell_type": "code",
   "execution_count": 56,
   "id": "69b40ed3-4487-4a33-adc9-2aacc7916efe",
   "metadata": {},
   "outputs": [
    {
     "name": "stdout",
     "output_type": "stream",
     "text": [
      "74\n",
      "24\n",
      "69\n",
      "45\n",
      "59\n"
     ]
    }
   ],
   "source": [
    "# The value 101 is completely arbitrary, you can pass in any number you want\n",
    "random.seed(101)\n",
    "print(random.randint(0,100))\n",
    "print(random.randint(0,100))\n",
    "print(random.randint(0,100))\n",
    "print(random.randint(0,100))\n",
    "print(random.randint(0,100))"
   ]
  },
  {
   "cell_type": "code",
   "execution_count": 57,
   "id": "bd62950a-1e37-40f3-aaeb-6f7d020bbabc",
   "metadata": {},
   "outputs": [],
   "source": [
    "# random integers"
   ]
  },
  {
   "cell_type": "code",
   "execution_count": 60,
   "id": "74432487-47a5-48b6-a5a5-d9534dc1e260",
   "metadata": {},
   "outputs": [
    {
     "data": {
      "text/plain": [
       "8"
      ]
     },
     "execution_count": 60,
     "metadata": {},
     "output_type": "execute_result"
    }
   ],
   "source": [
    "random.randint(0,10)"
   ]
  },
  {
   "cell_type": "code",
   "execution_count": null,
   "id": "c75cb33c-4651-4741-9897-243f674b5ae2",
   "metadata": {},
   "outputs": [],
   "source": []
  }
 ],
 "metadata": {
  "kernelspec": {
   "display_name": "Python 3 (ipykernel)",
   "language": "python",
   "name": "python3"
  },
  "language_info": {
   "codemirror_mode": {
    "name": "ipython",
    "version": 3
   },
   "file_extension": ".py",
   "mimetype": "text/x-python",
   "name": "python",
   "nbconvert_exporter": "python",
   "pygments_lexer": "ipython3",
   "version": "3.12.4"
  }
 },
 "nbformat": 4,
 "nbformat_minor": 5
}
