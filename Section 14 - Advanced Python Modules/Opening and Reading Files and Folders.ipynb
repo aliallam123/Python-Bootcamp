{
 "cells": [
  {
   "cell_type": "markdown",
   "id": "1adce757-a2f2-4ca8-91e9-42bb6447662e",
   "metadata": {},
   "source": [
    "# Opening and Reading Files and Folders (Python OS Module)"
   ]
  },
  {
   "cell_type": "code",
   "execution_count": 1,
   "id": "aaaeedc7-bb2c-4609-84ee-92370cde11fd",
   "metadata": {},
   "outputs": [
    {
     "data": {
      "text/plain": [
       "'C:\\\\Users\\\\banta\\\\My Python Stuff\\\\Section 14'"
      ]
     },
     "execution_count": 1,
     "metadata": {},
     "output_type": "execute_result"
    }
   ],
   "source": [
    "pwd"
   ]
  },
  {
   "cell_type": "code",
   "execution_count": 2,
   "id": "a8710a85-27ff-4616-86da-7dd27987b156",
   "metadata": {},
   "outputs": [],
   "source": [
    "f = open('practice.txt', 'w+')\n",
    "f.write('This is a test string')\n",
    "f.close()"
   ]
  },
  {
   "cell_type": "code",
   "execution_count": 3,
   "id": "ecef71e7-d324-4abd-8a3d-1944dd532b96",
   "metadata": {},
   "outputs": [],
   "source": [
    "import os"
   ]
  },
  {
   "cell_type": "code",
   "execution_count": 4,
   "id": "7d4405a8-c4be-4e4d-981d-3240201d56b3",
   "metadata": {},
   "outputs": [
    {
     "data": {
      "text/plain": [
       "'C:\\\\Users\\\\banta\\\\My Python Stuff\\\\Section 14'"
      ]
     },
     "execution_count": 4,
     "metadata": {},
     "output_type": "execute_result"
    }
   ],
   "source": [
    "os.getcwd()"
   ]
  },
  {
   "cell_type": "code",
   "execution_count": 5,
   "id": "25bf8bb9-fef3-4dfc-b953-afca613235e7",
   "metadata": {},
   "outputs": [
    {
     "data": {
      "text/plain": [
       "['.ipynb_checkpoints',\n",
       " 'Opening and Reading Files and Folders.ipynb',\n",
       " 'practice.txt',\n",
       " 'Python Collections Module.ipynb']"
      ]
     },
     "execution_count": 5,
     "metadata": {},
     "output_type": "execute_result"
    }
   ],
   "source": [
    "os.listdir()"
   ]
  },
  {
   "cell_type": "code",
   "execution_count": 7,
   "id": "3b99c288-a635-47af-a0b2-032950552e86",
   "metadata": {},
   "outputs": [
    {
     "data": {
      "text/plain": [
       "['.ipynb_checkpoints',\n",
       " 'Section 13',\n",
       " 'Section 14',\n",
       " 'Section 4',\n",
       " 'Section 5',\n",
       " 'Section 6',\n",
       " 'Section3']"
      ]
     },
     "execution_count": 7,
     "metadata": {},
     "output_type": "execute_result"
    }
   ],
   "source": [
    "os.listdir('C:\\\\Users\\\\banta\\\\My Python Stuff')"
   ]
  },
  {
   "cell_type": "markdown",
   "id": "1edf7105-48ed-4b07-80d9-5835b09853f9",
   "metadata": {},
   "source": [
    "### How to move files around"
   ]
  },
  {
   "cell_type": "code",
   "execution_count": 8,
   "id": "dbc7d366-2870-48c2-b4b5-7578e8d60c7b",
   "metadata": {},
   "outputs": [],
   "source": [
    "import shutil"
   ]
  },
  {
   "cell_type": "code",
   "execution_count": null,
   "id": "b892f14f-092d-412a-be98-42d25c490ca6",
   "metadata": {},
   "outputs": [],
   "source": [
    "shutil.move('practice.txt'"
   ]
  }
 ],
 "metadata": {
  "kernelspec": {
   "display_name": "Python 3 (ipykernel)",
   "language": "python",
   "name": "python3"
  },
  "language_info": {
   "codemirror_mode": {
    "name": "ipython",
    "version": 3
   },
   "file_extension": ".py",
   "mimetype": "text/x-python",
   "name": "python",
   "nbconvert_exporter": "python",
   "pygments_lexer": "ipython3",
   "version": "3.12.4"
  }
 },
 "nbformat": 4,
 "nbformat_minor": 5
}
