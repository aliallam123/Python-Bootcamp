{
 "cells": [
  {
   "cell_type": "markdown",
   "id": "41ebae3a-3502-4a57-bfff-9281d61e97cd",
   "metadata": {},
   "source": [
    "# Python Debugger"
   ]
  },
  {
   "cell_type": "code",
   "execution_count": 26,
   "id": "28c5ae15-2f22-41c8-a18c-d1de4ddd1cbb",
   "metadata": {},
   "outputs": [],
   "source": [
    "x = [1,2,3]\n",
    "y = 2\n",
    "z = 3"
   ]
  },
  {
   "cell_type": "code",
   "execution_count": 27,
   "id": "588bf096-6d7b-4160-935b-e5b850cb1717",
   "metadata": {},
   "outputs": [],
   "source": [
    "import pdb #python debugger"
   ]
  },
  {
   "cell_type": "code",
   "execution_count": 28,
   "id": "998b63c1-ba9e-4066-b228-5587d0103a36",
   "metadata": {},
   "outputs": [],
   "source": [
    "result_one = y + z"
   ]
  },
  {
   "cell_type": "code",
   "execution_count": 29,
   "id": "91f634c7-d68d-471b-9d39-4b78120e4a23",
   "metadata": {},
   "outputs": [
    {
     "data": {
      "text/plain": [
       "5"
      ]
     },
     "execution_count": 29,
     "metadata": {},
     "output_type": "execute_result"
    }
   ],
   "source": [
    "result_one"
   ]
  },
  {
   "cell_type": "code",
   "execution_count": 30,
   "id": "f1814de0-fd81-49ee-9a90-2aae6081ffc6",
   "metadata": {},
   "outputs": [
    {
     "ename": "TypeError",
     "evalue": "unsupported operand type(s) for +: 'int' and 'list'",
     "output_type": "error",
     "traceback": [
      "\u001b[1;31m---------------------------------------------------------------------------\u001b[0m",
      "\u001b[1;31mTypeError\u001b[0m                                 Traceback (most recent call last)",
      "Cell \u001b[1;32mIn[30], line 1\u001b[0m\n\u001b[1;32m----> 1\u001b[0m result_two \u001b[38;5;241m=\u001b[39m y \u001b[38;5;241m+\u001b[39m x\n",
      "\u001b[1;31mTypeError\u001b[0m: unsupported operand type(s) for +: 'int' and 'list'"
     ]
    }
   ],
   "source": [
    "result_two = y + x"
   ]
  },
  {
   "cell_type": "code",
   "execution_count": 31,
   "id": "b59944d0-b272-4b24-ba64-09778b3204f4",
   "metadata": {},
   "outputs": [],
   "source": [
    "#can't add a list and an int"
   ]
  },
  {
   "cell_type": "code",
   "execution_count": 32,
   "id": "5fc16afb-614c-49a3-b29c-c8e908bc2d5c",
   "metadata": {},
   "outputs": [],
   "source": [
    "# it's main tool is used for a programmer to see what any variable is assigned as in a large piece of code"
   ]
  },
  {
   "cell_type": "code",
   "execution_count": 33,
   "id": "e7866220-bbb6-40b8-9fbe-d1585f3ce21e",
   "metadata": {},
   "outputs": [
    {
     "name": "stdout",
     "output_type": "stream",
     "text": [
      "--Return--\n",
      "None\n",
      "> \u001b[1;32mc:\\users\\banta\\appdata\\local\\temp\\ipykernel_12280\\1334212113.py\u001b[0m(7)\u001b[0;36m<module>\u001b[1;34m()\u001b[0m\n",
      "\n"
     ]
    },
    {
     "name": "stdin",
     "output_type": "stream",
     "text": [
      "ipdb>  x\n"
     ]
    },
    {
     "name": "stdout",
     "output_type": "stream",
     "text": [
      "[1, 2, 3]\n"
     ]
    },
    {
     "name": "stdin",
     "output_type": "stream",
     "text": [
      "ipdb>  y\n"
     ]
    },
    {
     "name": "stdout",
     "output_type": "stream",
     "text": [
      "2\n"
     ]
    },
    {
     "name": "stdin",
     "output_type": "stream",
     "text": [
      "ipdb>  z\n"
     ]
    },
    {
     "name": "stdout",
     "output_type": "stream",
     "text": [
      "3\n"
     ]
    },
    {
     "name": "stdin",
     "output_type": "stream",
     "text": [
      "ipdb>  result_one\n"
     ]
    },
    {
     "name": "stdout",
     "output_type": "stream",
     "text": [
      "5\n"
     ]
    },
    {
     "name": "stdin",
     "output_type": "stream",
     "text": [
      "ipdb>  result_two\n"
     ]
    },
    {
     "name": "stdout",
     "output_type": "stream",
     "text": [
      "*** NameError: name 'result_two' is not defined\n"
     ]
    },
    {
     "name": "stdin",
     "output_type": "stream",
     "text": [
      "ipdb>  c\n"
     ]
    },
    {
     "ename": "TypeError",
     "evalue": "can only concatenate list (not \"int\") to list",
     "output_type": "error",
     "traceback": [
      "\u001b[1;31m---------------------------------------------------------------------------\u001b[0m",
      "\u001b[1;31mTypeError\u001b[0m                                 Traceback (most recent call last)",
      "Cell \u001b[1;32mIn[33], line 9\u001b[0m\n\u001b[0;32m      5\u001b[0m result_one \u001b[38;5;241m=\u001b[39m y \u001b[38;5;241m+\u001b[39m z\n\u001b[0;32m      7\u001b[0m pdb\u001b[38;5;241m.\u001b[39mset_trace()\n\u001b[1;32m----> 9\u001b[0m result_two \u001b[38;5;241m=\u001b[39m x \u001b[38;5;241m+\u001b[39m z\n",
      "\u001b[1;31mTypeError\u001b[0m: can only concatenate list (not \"int\") to list"
     ]
    }
   ],
   "source": [
    "x = [1,2,3]\n",
    "y = 2\n",
    "z = 3\n",
    "\n",
    "result_one = y + z\n",
    "\n",
    "pdb.set_trace()\n",
    "\n",
    "result_two = x + z"
   ]
  },
  {
   "cell_type": "code",
   "execution_count": 34,
   "id": "f6129737-76fe-4f81-826c-91438f3242b9",
   "metadata": {},
   "outputs": [
    {
     "name": "stdout",
     "output_type": "stream",
     "text": [
      "--Return--\n",
      "None\n",
      "> \u001b[1;32mc:\\users\\banta\\appdata\\local\\temp\\ipykernel_12280\\1334212113.py\u001b[0m(7)\u001b[0;36m<module>\u001b[1;34m()\u001b[0m\n",
      "\n"
     ]
    },
    {
     "name": "stdin",
     "output_type": "stream",
     "text": [
      "ipdb>  x\n"
     ]
    },
    {
     "name": "stdout",
     "output_type": "stream",
     "text": [
      "[1, 2, 3]\n"
     ]
    },
    {
     "name": "stdin",
     "output_type": "stream",
     "text": [
      "ipdb>  y\n"
     ]
    },
    {
     "name": "stdout",
     "output_type": "stream",
     "text": [
      "2\n"
     ]
    },
    {
     "name": "stdin",
     "output_type": "stream",
     "text": [
      "ipdb>  z\n"
     ]
    },
    {
     "name": "stdout",
     "output_type": "stream",
     "text": [
      "3\n"
     ]
    },
    {
     "name": "stdin",
     "output_type": "stream",
     "text": [
      "ipdb>  q\n"
     ]
    }
   ],
   "source": [
    "x = [1,2,3]\n",
    "y = 2\n",
    "z = 3\n",
    "\n",
    "result_one = y + z\n",
    "\n",
    "pdb.set_trace()\n",
    "\n",
    "result_two = x + z"
   ]
  },
  {
   "cell_type": "markdown",
   "id": "8ab54159-ad49-4c81-9bb4-7eff826092ad",
   "metadata": {},
   "source": [
    "# Press 'q' to break out the command"
   ]
  },
  {
   "cell_type": "markdown",
   "id": "2ab4d8cd-a47e-497e-b10e-9641dae2abd6",
   "metadata": {},
   "source": [
    "### You would tend to not use the python debugger on jupter notebooks because jupyter runs cell by cell"
   ]
  },
  {
   "cell_type": "markdown",
   "id": "977195f0-8619-4668-a4ee-2e1abd6b3bda",
   "metadata": {},
   "source": [
    "### But with other IDEs such as VSCode you can use the python debugger"
   ]
  }
 ],
 "metadata": {
  "kernelspec": {
   "display_name": "Python 3 (ipykernel)",
   "language": "python",
   "name": "python3"
  },
  "language_info": {
   "codemirror_mode": {
    "name": "ipython",
    "version": 3
   },
   "file_extension": ".py",
   "mimetype": "text/x-python",
   "name": "python",
   "nbconvert_exporter": "python",
   "pygments_lexer": "ipython3",
   "version": "3.12.4"
  }
 },
 "nbformat": 4,
 "nbformat_minor": 5
}
