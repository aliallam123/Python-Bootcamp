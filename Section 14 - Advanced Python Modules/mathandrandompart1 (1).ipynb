{
 "cells": [
  {
   "cell_type": "markdown",
   "id": "ec85835d-62ce-48e6-9de6-e58552adda9e",
   "metadata": {},
   "source": [
    "# Random with Sequences"
   ]
  },
  {
   "cell_type": "markdown",
   "id": "73c5a15a-269b-4d17-a8c2-29e7730ed618",
   "metadata": {},
   "source": [
    "### Grab a random item from a list"
   ]
  },
  {
   "cell_type": "code",
   "execution_count": 4,
   "id": "25d2552f-cb67-4eac-b767-37c541d8e813",
   "metadata": {},
   "outputs": [],
   "source": [
    "import random"
   ]
  },
  {
   "cell_type": "code",
   "execution_count": 5,
   "id": "7384c54e-8d47-4f09-b6b6-86b56d85373e",
   "metadata": {},
   "outputs": [],
   "source": [
    "mylist = list(range(0,10))"
   ]
  },
  {
   "cell_type": "code",
   "execution_count": 6,
   "id": "5fc8393f-04d5-462f-afb4-1a8d7650105d",
   "metadata": {},
   "outputs": [
    {
     "name": "stdout",
     "output_type": "stream",
     "text": [
      "[0, 1, 2, 3, 4, 5, 6, 7, 8, 9]\n"
     ]
    }
   ],
   "source": [
    "print(mylist)"
   ]
  },
  {
   "cell_type": "code",
   "execution_count": 7,
   "id": "c5a1612b-dbd1-4296-bfa9-aa60ca2d0ce0",
   "metadata": {},
   "outputs": [
    {
     "data": {
      "text/plain": [
       "8"
      ]
     },
     "execution_count": 7,
     "metadata": {},
     "output_type": "execute_result"
    }
   ],
   "source": [
    "random.choice(mylist)"
   ]
  },
  {
   "cell_type": "markdown",
   "id": "050e46a2-880d-44eb-82bd-66989d3cb141",
   "metadata": {},
   "source": [
    "### Sample with Replacement"
   ]
  },
  {
   "cell_type": "markdown",
   "id": "876a857a-ea18-47bb-8c70-8594b141d376",
   "metadata": {},
   "source": [
    "Take a sample size, allowing picking elements more than once. Imagine a bag of numbered lottery balls, you reach in to grab a random lotto ball, then after marking down the number, you place it back in the bag, then continue picking another one."
   ]
  },
  {
   "cell_type": "code",
   "execution_count": 9,
   "id": "988b6319-e233-475e-a3ec-d50eec5e5119",
   "metadata": {},
   "outputs": [
    {
     "data": {
      "text/plain": [
       "[4, 9, 4, 1, 3, 8, 5, 8, 7, 2]"
      ]
     },
     "execution_count": 9,
     "metadata": {},
     "output_type": "execute_result"
    }
   ],
   "source": [
    "random.choices(population=mylist,k=10)"
   ]
  },
  {
   "cell_type": "markdown",
   "id": "2286cda0-bca8-4963-8c8f-fe3d5b117694",
   "metadata": {},
   "source": [
    "### Sample without Replacement"
   ]
  },
  {
   "cell_type": "markdown",
   "id": "77ed259e-0b45-4f93-b960-a1a45133592b",
   "metadata": {},
   "source": [
    "Once an item has been randomly picked, it can't be picked again. Imagine a bag of numbered lottery balls, you reach in to grab a random lotto ball, then after marking down the number, you leave it out of the bag, then continue picking another one."
   ]
  },
  {
   "cell_type": "code",
   "execution_count": 10,
   "id": "77b25350-800a-47ed-8624-cfd0752be93d",
   "metadata": {},
   "outputs": [
    {
     "data": {
      "text/plain": [
       "[5, 4, 0, 7, 3, 9, 6, 8, 2, 1]"
      ]
     },
     "execution_count": 10,
     "metadata": {},
     "output_type": "execute_result"
    }
   ],
   "source": [
    "random.sample(population=mylist,k=10)"
   ]
  },
  {
   "cell_type": "markdown",
   "id": "4ea9f639-5b72-43d5-a85d-6731cc2675b0",
   "metadata": {},
   "source": [
    "### Shuffle a list"
   ]
  },
  {
   "cell_type": "markdown",
   "id": "56c842ff-3e18-43cc-8e44-7c1140b45cfc",
   "metadata": {},
   "source": [
    "Note: This effects the object in place!"
   ]
  },
  {
   "cell_type": "code",
   "execution_count": 11,
   "id": "560e52b7-f22c-4627-9be2-9e7feba7a9cc",
   "metadata": {},
   "outputs": [],
   "source": [
    "# Don't assign this to anything!\n",
    "random.shuffle(mylist)"
   ]
  },
  {
   "cell_type": "code",
   "execution_count": 12,
   "id": "3907a17e-093d-4efd-8988-251c627246ac",
   "metadata": {},
   "outputs": [
    {
     "data": {
      "text/plain": [
       "[7, 9, 6, 1, 8, 0, 3, 2, 5, 4]"
      ]
     },
     "execution_count": 12,
     "metadata": {},
     "output_type": "execute_result"
    }
   ],
   "source": [
    "mylist"
   ]
  },
  {
   "cell_type": "markdown",
   "id": "90ed2533-0ad9-41f9-9838-8456725e4e3f",
   "metadata": {},
   "source": [
    "### Random Distributions"
   ]
  },
  {
   "cell_type": "code",
   "execution_count": 13,
   "id": "fec1533f-24b0-4fbb-aa1e-162784aac1d2",
   "metadata": {},
   "outputs": [
    {
     "data": {
      "text/plain": [
       "29.671622441091504"
      ]
     },
     "execution_count": 13,
     "metadata": {},
     "output_type": "execute_result"
    }
   ],
   "source": [
    "# Continuous, random picks a value between a and b, each value has equal change of being picked.\n",
    "random.uniform(a=0,b=100)"
   ]
  },
  {
   "cell_type": "code",
   "execution_count": 14,
   "id": "cdf42e79-da3a-49d4-8e60-a54d69b5113c",
   "metadata": {},
   "outputs": [
    {
     "data": {
      "text/plain": [
       "-0.5219925663904614"
      ]
     },
     "execution_count": 14,
     "metadata": {},
     "output_type": "execute_result"
    }
   ],
   "source": [
    "random.gauss(mu=0,sigma=1)"
   ]
  }
 ],
 "metadata": {
  "kernelspec": {
   "display_name": "Python 3 (ipykernel)",
   "language": "python",
   "name": "python3"
  },
  "language_info": {
   "codemirror_mode": {
    "name": "ipython",
    "version": 3
   },
   "file_extension": ".py",
   "mimetype": "text/x-python",
   "name": "python",
   "nbconvert_exporter": "python",
   "pygments_lexer": "ipython3",
   "version": "3.12.4"
  }
 },
 "nbformat": 4,
 "nbformat_minor": 5
}
