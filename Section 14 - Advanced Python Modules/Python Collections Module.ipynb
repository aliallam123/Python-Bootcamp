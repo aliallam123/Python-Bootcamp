{
 "cells": [
  {
   "cell_type": "markdown",
   "id": "a5c0c479-fe97-409d-baec-f64258efeffc",
   "metadata": {},
   "source": [
    "# Python Collections Module"
   ]
  },
  {
   "cell_type": "code",
   "execution_count": 3,
   "id": "31da53e7-1fe5-4d58-b326-cff1b8bf3758",
   "metadata": {},
   "outputs": [],
   "source": [
    "from collections import Counter"
   ]
  },
  {
   "cell_type": "code",
   "execution_count": 4,
   "id": "3c2fc3b4-1806-4cc9-84cb-1bf128524d32",
   "metadata": {},
   "outputs": [],
   "source": [
    "letters = 'aaaaaaaaabbbbbbbccccccddd'"
   ]
  },
  {
   "cell_type": "code",
   "execution_count": 5,
   "id": "e95c4664-d763-4d3c-a302-22d6e4352907",
   "metadata": {},
   "outputs": [],
   "source": [
    "c = Counter(letters)"
   ]
  },
  {
   "cell_type": "code",
   "execution_count": 6,
   "id": "2682e669-3235-4e14-a63f-fd707e7e2c73",
   "metadata": {},
   "outputs": [
    {
     "name": "stdout",
     "output_type": "stream",
     "text": [
      "Counter({'a': 9, 'b': 7, 'c': 6, 'd': 3})\n"
     ]
    }
   ],
   "source": [
    "print(c)"
   ]
  },
  {
   "cell_type": "code",
   "execution_count": 16,
   "id": "3765a532-7899-47c9-981b-ee50f6dc36f7",
   "metadata": {},
   "outputs": [
    {
     "name": "stdout",
     "output_type": "stream",
     "text": [
      "[('a', 9), ('b', 7), ('c', 6)]\n"
     ]
    }
   ],
   "source": [
    "print(c.most_common(3))"
   ]
  },
  {
   "cell_type": "code",
   "execution_count": 17,
   "id": "e3973b5e-0859-4e27-991f-d1e6ec85b0db",
   "metadata": {},
   "outputs": [],
   "source": [
    "mylist = [1,1,1,1,2,3,3,4,5,5,5,5]"
   ]
  },
  {
   "cell_type": "code",
   "execution_count": 18,
   "id": "938c816d-f9f9-40dd-b64c-fb94dfe7ba5e",
   "metadata": {},
   "outputs": [
    {
     "name": "stdout",
     "output_type": "stream",
     "text": [
      "Counter({1: 4, 5: 4, 3: 2, 2: 1, 4: 1})\n"
     ]
    }
   ],
   "source": [
    "print(Counter(mylist))"
   ]
  },
  {
   "cell_type": "code",
   "execution_count": 20,
   "id": "47d5a315-2eaa-4117-8451-6ac8a70f5701",
   "metadata": {},
   "outputs": [],
   "source": [
    "from collections import defaultdict"
   ]
  },
  {
   "cell_type": "code",
   "execution_count": 21,
   "id": "a086d4a4-8d6a-49a4-9a24-de2756b1b2fe",
   "metadata": {},
   "outputs": [],
   "source": [
    "d = defaultdict(lambda: 0)"
   ]
  },
  {
   "cell_type": "code",
   "execution_count": 22,
   "id": "8c12de52-2899-4f32-9ab9-d445e6d19c5f",
   "metadata": {},
   "outputs": [],
   "source": [
    "d['correct'] = 100"
   ]
  },
  {
   "cell_type": "code",
   "execution_count": 23,
   "id": "cd9af7b7-9dc6-4bf3-b5bd-048ea239cb5b",
   "metadata": {},
   "outputs": [
    {
     "data": {
      "text/plain": [
       "100"
      ]
     },
     "execution_count": 23,
     "metadata": {},
     "output_type": "execute_result"
    }
   ],
   "source": [
    "d['correct']"
   ]
  },
  {
   "cell_type": "code",
   "execution_count": 24,
   "id": "c19e924b-67ab-4bc2-8289-bc66421bfe4c",
   "metadata": {},
   "outputs": [
    {
     "data": {
      "text/plain": [
       "0"
      ]
     },
     "execution_count": 24,
     "metadata": {},
     "output_type": "execute_result"
    }
   ],
   "source": [
    "d['WRONG KEY']"
   ]
  },
  {
   "cell_type": "code",
   "execution_count": null,
   "id": "f39d914b-0aba-4755-92ed-9a313521ba70",
   "metadata": {},
   "outputs": [],
   "source": []
  },
  {
   "cell_type": "code",
   "execution_count": null,
   "id": "a291d5ee-8100-4b10-9f22-7ca43893d94f",
   "metadata": {},
   "outputs": [],
   "source": []
  },
  {
   "cell_type": "code",
   "execution_count": null,
   "id": "1cc72c7c-3e25-4fb7-a044-24438aec2219",
   "metadata": {},
   "outputs": [],
   "source": []
  },
  {
   "cell_type": "code",
   "execution_count": 25,
   "id": "2e872607-6b58-4a23-896a-84d52142032b",
   "metadata": {},
   "outputs": [],
   "source": [
    "mytuple = (10,20,30,40)"
   ]
  },
  {
   "cell_type": "code",
   "execution_count": 26,
   "id": "a4b5d5a7-998d-44d8-b5c3-131eae2c1cac",
   "metadata": {},
   "outputs": [
    {
     "data": {
      "text/plain": [
       "10"
      ]
     },
     "execution_count": 26,
     "metadata": {},
     "output_type": "execute_result"
    }
   ],
   "source": [
    "mytuple[0]"
   ]
  },
  {
   "cell_type": "code",
   "execution_count": 27,
   "id": "11ba25a3-3cde-4c85-b242-65696dc7d235",
   "metadata": {},
   "outputs": [],
   "source": [
    "from collections import namedtuple"
   ]
  },
  {
   "cell_type": "code",
   "execution_count": 29,
   "id": "33891d83-6260-4d5e-880c-78a787e4931e",
   "metadata": {},
   "outputs": [],
   "source": [
    "Cat = namedtuple('Cat', ['age','breed','name'])"
   ]
  },
  {
   "cell_type": "code",
   "execution_count": 30,
   "id": "774cfe08-f076-4238-b971-0d8cd7412c7d",
   "metadata": {},
   "outputs": [],
   "source": [
    "sakal = Cat(age=1,breed='turk',name='Sakal')"
   ]
  },
  {
   "cell_type": "code",
   "execution_count": 31,
   "id": "868ec680-5fc9-454f-82ef-ca4b44c541b0",
   "metadata": {},
   "outputs": [
    {
     "data": {
      "text/plain": [
       "Cat(age=1, breed='turk', name='Sakal')"
      ]
     },
     "execution_count": 31,
     "metadata": {},
     "output_type": "execute_result"
    }
   ],
   "source": [
    "sakal"
   ]
  }
 ],
 "metadata": {
  "kernelspec": {
   "display_name": "Python 3 (ipykernel)",
   "language": "python",
   "name": "python3"
  },
  "language_info": {
   "codemirror_mode": {
    "name": "ipython",
    "version": 3
   },
   "file_extension": ".py",
   "mimetype": "text/x-python",
   "name": "python",
   "nbconvert_exporter": "python",
   "pygments_lexer": "ipython3",
   "version": "3.12.4"
  }
 },
 "nbformat": 4,
 "nbformat_minor": 5
}
