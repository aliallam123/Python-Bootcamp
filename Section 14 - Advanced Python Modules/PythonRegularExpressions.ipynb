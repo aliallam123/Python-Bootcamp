{
 "cells": [
  {
   "cell_type": "markdown",
   "id": "ffce897d-fbd5-44d1-93d4-5e8b0fc5e048",
   "metadata": {},
   "source": [
    "# Python Regular Expressions"
   ]
  },
  {
   "cell_type": "markdown",
   "id": "7c3c0f8c-294e-4a63-a7bd-127e7a48d2aa",
   "metadata": {},
   "source": [
    "### What if we want to find an email or phone number but do not know the exact email or phone number?"
   ]
  },
  {
   "cell_type": "markdown",
   "id": "f85095fe-5698-47f1-abf7-5c13bf14132f",
   "metadata": {},
   "source": [
    "We know an email format is \"text\" + \"@\" + \"text\" + \".com\""
   ]
  },
  {
   "cell_type": "markdown",
   "id": "3caa539b-c5a1-4091-a1d7-0d15784a07ab",
   "metadata": {},
   "source": [
    "Python comes with this 're' library that allows us to create specialised pattern strings and search for them"
   ]
  },
  {
   "cell_type": "code",
   "execution_count": 2,
   "id": "f8be7851-f761-4f92-b312-dc170e030730",
   "metadata": {},
   "outputs": [],
   "source": [
    "text = \"Ali's phone number is 408-555-1234. Call soon!\""
   ]
  },
  {
   "cell_type": "code",
   "execution_count": 3,
   "id": "b3d51205-bc6e-419e-94ed-0e1ca16e9a6b",
   "metadata": {},
   "outputs": [
    {
     "data": {
      "text/plain": [
       "True"
      ]
     },
     "execution_count": 3,
     "metadata": {},
     "output_type": "execute_result"
    }
   ],
   "source": [
    "'phone' in text"
   ]
  },
  {
   "cell_type": "code",
   "execution_count": 4,
   "id": "09f39668-a1e4-4f72-a91e-73ed3bd9ff41",
   "metadata": {},
   "outputs": [],
   "source": [
    "import re"
   ]
  },
  {
   "cell_type": "code",
   "execution_count": 5,
   "id": "832adf3a-97df-422b-ab19-947600502cd8",
   "metadata": {},
   "outputs": [],
   "source": [
    "pattern = 'phone'"
   ]
  },
  {
   "cell_type": "code",
   "execution_count": 6,
   "id": "4d1f59a8-23f2-4441-937c-ba742a2e5044",
   "metadata": {},
   "outputs": [
    {
     "data": {
      "text/plain": [
       "<re.Match object; span=(6, 11), match='phone'>"
      ]
     },
     "execution_count": 6,
     "metadata": {},
     "output_type": "execute_result"
    }
   ],
   "source": [
    "re.search(pattern,text)"
   ]
  },
  {
   "cell_type": "code",
   "execution_count": 7,
   "id": "74526925-abcc-4250-a6a8-7aef006220ab",
   "metadata": {},
   "outputs": [],
   "source": [
    "pattern = 'NOT IN TEXT'"
   ]
  },
  {
   "cell_type": "code",
   "execution_count": 9,
   "id": "1835f199-0d42-4f77-8c74-67fb9b85b97a",
   "metadata": {},
   "outputs": [],
   "source": [
    "re.search(pattern,text)"
   ]
  },
  {
   "cell_type": "code",
   "execution_count": 10,
   "id": "ddc619a3-29a1-4165-970f-0fe40ebffb3a",
   "metadata": {},
   "outputs": [],
   "source": [
    "# not in text so does not bring up anything"
   ]
  },
  {
   "cell_type": "code",
   "execution_count": 14,
   "id": "f059bb7a-27f1-4f77-aef9-90a2c6c53b97",
   "metadata": {},
   "outputs": [],
   "source": [
    "pattern = 'phone'"
   ]
  },
  {
   "cell_type": "code",
   "execution_count": 15,
   "id": "cc0a3c79-100c-43ec-a009-80b3b5395faf",
   "metadata": {},
   "outputs": [],
   "source": [
    "match = re.search(pattern,text)"
   ]
  },
  {
   "cell_type": "code",
   "execution_count": 16,
   "id": "57a6cce9-6c73-452e-a574-920017f8dce2",
   "metadata": {},
   "outputs": [
    {
     "data": {
      "text/plain": [
       "<re.Match object; span=(6, 11), match='phone'>"
      ]
     },
     "execution_count": 16,
     "metadata": {},
     "output_type": "execute_result"
    }
   ],
   "source": [
    "match"
   ]
  },
  {
   "cell_type": "code",
   "execution_count": 17,
   "id": "5faf6afa-5083-4468-9a6b-0aef1cb3e66d",
   "metadata": {},
   "outputs": [
    {
     "data": {
      "text/plain": [
       "(6, 11)"
      ]
     },
     "execution_count": 17,
     "metadata": {},
     "output_type": "execute_result"
    }
   ],
   "source": [
    "match.span()"
   ]
  },
  {
   "cell_type": "code",
   "execution_count": 18,
   "id": "334e0113-96ab-4cb3-866b-4f084d92c8fb",
   "metadata": {},
   "outputs": [
    {
     "data": {
      "text/plain": [
       "6"
      ]
     },
     "execution_count": 18,
     "metadata": {},
     "output_type": "execute_result"
    }
   ],
   "source": [
    "match.start()"
   ]
  },
  {
   "cell_type": "code",
   "execution_count": 19,
   "id": "255c44ad-d7dd-48e1-be95-edadbf652ca3",
   "metadata": {},
   "outputs": [
    {
     "data": {
      "text/plain": [
       "11"
      ]
     },
     "execution_count": 19,
     "metadata": {},
     "output_type": "execute_result"
    }
   ],
   "source": [
    "match.end()"
   ]
  },
  {
   "cell_type": "code",
   "execution_count": 20,
   "id": "ee6e4f76-97fa-414e-b804-5b96b55e66ef",
   "metadata": {},
   "outputs": [],
   "source": [
    "# now i will put phone twice and see what happens"
   ]
  },
  {
   "cell_type": "code",
   "execution_count": 21,
   "id": "8d74279d-32c2-483d-8b9f-7bb59a7bfa91",
   "metadata": {},
   "outputs": [],
   "source": [
    "text = 'my phone once, my phone twice'"
   ]
  },
  {
   "cell_type": "code",
   "execution_count": 22,
   "id": "7aa25fa1-316e-4bb9-8854-1ce042853f87",
   "metadata": {},
   "outputs": [
    {
     "data": {
      "text/plain": [
       "<re.Match object; span=(3, 8), match='phone'>"
      ]
     },
     "execution_count": 22,
     "metadata": {},
     "output_type": "execute_result"
    }
   ],
   "source": [
    "re.search('phone',text)"
   ]
  },
  {
   "cell_type": "code",
   "execution_count": 23,
   "id": "3023f6fc-9a5d-40ae-8020-8a0eb4144847",
   "metadata": {},
   "outputs": [],
   "source": [
    "#only gives the first one"
   ]
  },
  {
   "cell_type": "code",
   "execution_count": 28,
   "id": "a1b4343e-7ca3-4b9b-b4d4-1721d7299a48",
   "metadata": {},
   "outputs": [],
   "source": [
    "# now we will find all cases of 'phone'"
   ]
  },
  {
   "cell_type": "code",
   "execution_count": 24,
   "id": "153ec6dd-1895-4d87-9469-61dc60cdd256",
   "metadata": {},
   "outputs": [],
   "source": [
    "matches = re.findall('phone',text)"
   ]
  },
  {
   "cell_type": "code",
   "execution_count": 25,
   "id": "d404a61f-18af-4a72-a5b4-6c25c5c20240",
   "metadata": {},
   "outputs": [
    {
     "data": {
      "text/plain": [
       "['phone', 'phone']"
      ]
     },
     "execution_count": 25,
     "metadata": {},
     "output_type": "execute_result"
    }
   ],
   "source": [
    "matches"
   ]
  },
  {
   "cell_type": "code",
   "execution_count": 26,
   "id": "1906e3ae-2ae5-4c18-8cd7-f4b29b70095a",
   "metadata": {},
   "outputs": [
    {
     "data": {
      "text/plain": [
       "2"
      ]
     },
     "execution_count": 26,
     "metadata": {},
     "output_type": "execute_result"
    }
   ],
   "source": [
    "len(matches)"
   ]
  },
  {
   "cell_type": "code",
   "execution_count": 30,
   "id": "92e52c14-3880-4efb-b167-c4325f1c7f5b",
   "metadata": {},
   "outputs": [
    {
     "name": "stdout",
     "output_type": "stream",
     "text": [
      "<re.Match object; span=(3, 8), match='phone'>\n",
      "<re.Match object; span=(18, 23), match='phone'>\n"
     ]
    }
   ],
   "source": [
    "for match in re.finditer('phone',text):\n",
    "    print(match)"
   ]
  },
  {
   "cell_type": "code",
   "execution_count": 31,
   "id": "689c2bc1-e2fe-45e7-ae99-04e331d4cb60",
   "metadata": {},
   "outputs": [
    {
     "name": "stdout",
     "output_type": "stream",
     "text": [
      "(3, 8)\n",
      "(18, 23)\n"
     ]
    }
   ],
   "source": [
    "for match in re.finditer('phone',text):\n",
    "    print(match.span())"
   ]
  },
  {
   "cell_type": "code",
   "execution_count": 32,
   "id": "43bc2bce-22e5-4b90-a4c2-bff01c1a28f4",
   "metadata": {},
   "outputs": [
    {
     "name": "stdout",
     "output_type": "stream",
     "text": [
      "phone\n",
      "phone\n"
     ]
    }
   ],
   "source": [
    "for match in re.finditer('phone',text):\n",
    "    print(match.group())"
   ]
  },
  {
   "attachments": {
    "33629b68-fc3f-44ed-8765-c7666be4fb06.png": {
     "image/png": "[encoded data removed]"
    }
   },
   "cell_type": "markdown",
   "id": "c19ad2dd-b7ff-45e9-969d-02b4e479f4cd",
   "metadata": {},
   "source": [
    "![image.png](attachment:33629b68-fc3f-44ed-8765-c7666be4fb06.png)\r\n"
   ]
  },
  {
   "cell_type": "code",
   "execution_count": 36,
   "id": "e0f0761a-932b-4fd5-88cf-4833f80de730",
   "metadata": {},
   "outputs": [],
   "source": [
    "# How to find something that matches a pattern in a large data set:"
   ]
  },
  {
   "cell_type": "code",
   "execution_count": 37,
   "id": "b19cf70e-200e-47bd-8a5d-748a68a224bd",
   "metadata": {},
   "outputs": [],
   "source": [
    "text = \"Ali's phone number is 408-555-1234. Call soon!\""
   ]
  },
  {
   "cell_type": "code",
   "execution_count": 38,
   "id": "0cedd99c-67a8-4992-a5dd-d3597a542e46",
   "metadata": {},
   "outputs": [],
   "source": [
    "phone = re.search(r'\\d\\d\\d-\\d\\d\\d-\\d\\d\\d\\d', text)"
   ]
  },
  {
   "cell_type": "code",
   "execution_count": 41,
   "id": "9e3b5474-1c00-4a9f-8405-31c596815628",
   "metadata": {},
   "outputs": [
    {
     "data": {
      "text/plain": [
       "'408-555-1234'"
      ]
     },
     "execution_count": 41,
     "metadata": {},
     "output_type": "execute_result"
    }
   ],
   "source": [
    "phone.group()"
   ]
  },
  {
   "cell_type": "code",
   "execution_count": 42,
   "id": "ff5e5aea-cee3-40a0-8b5f-524477d6bc33",
   "metadata": {},
   "outputs": [],
   "source": [
    "# What if this phone number was 100 numbers long? We would not want to write \\d\\d\\d\\d\\d ..."
   ]
  },
  {
   "cell_type": "code",
   "execution_count": 43,
   "id": "76725cf7-d522-4d84-9dbe-16b0a89de463",
   "metadata": {},
   "outputs": [
    {
     "data": {
      "text/plain": [
       "<re.Match object; span=(22, 34), match='408-555-1234'>"
      ]
     },
     "execution_count": 43,
     "metadata": {},
     "output_type": "execute_result"
    }
   ],
   "source": [
    "phone"
   ]
  },
  {
   "cell_type": "code",
   "execution_count": 44,
   "id": "33badb65-37b9-4c84-a0ad-142305d4d893",
   "metadata": {},
   "outputs": [],
   "source": [
    "# We can use quantifiers to indicate repetition of the same character"
   ]
  },
  {
   "cell_type": "markdown",
   "id": "993dfbfe-7a06-4e6c-abfb-09363442612e",
   "metadata": {},
   "source": [
    "### Quantifiers"
   ]
  },
  {
   "attachments": {
    "2b7e7e92-79c6-4826-89f4-e447149acfa3.png": {
     "image/png": "[encoded data removed]"
    }
   },
   "cell_type": "markdown",
   "id": "56569544-81df-4bae-a4b4-3deef7e29f03",
   "metadata": {},
   "source": [
    "![image.png](attachment:2b7e7e92-79c6-4826-89f4-e447149acfa3.png)"
   ]
  },
  {
   "cell_type": "code",
   "execution_count": 45,
   "id": "d9793548-8675-439e-b266-5cde912c61d2",
   "metadata": {},
   "outputs": [],
   "source": [
    "phone = re.search(r'\\d{3}-\\d{3}-\\d{4}', text)"
   ]
  },
  {
   "cell_type": "code",
   "execution_count": 46,
   "id": "b1df32a6-09bc-463b-a858-1e63565c708c",
   "metadata": {},
   "outputs": [
    {
     "data": {
      "text/plain": [
       "<re.Match object; span=(22, 34), match='408-555-1234'>"
      ]
     },
     "execution_count": 46,
     "metadata": {},
     "output_type": "execute_result"
    }
   ],
   "source": [
    "phone"
   ]
  },
  {
   "cell_type": "code",
   "execution_count": 47,
   "id": "f82535d3-85a8-4c0d-bf7a-ab301d9943c6",
   "metadata": {},
   "outputs": [],
   "source": [
    "# find phone numbers and extract first 3 digits of the phone number (area code e.g. +44)"
   ]
  },
  {
   "cell_type": "code",
   "execution_count": 48,
   "id": "4842c497-a853-482e-b595-8a51542e100f",
   "metadata": {},
   "outputs": [],
   "source": [
    "phone_pattern = re.compile(r'(\\d{3})-(\\d{3})-(\\d{4})')"
   ]
  },
  {
   "cell_type": "code",
   "execution_count": 49,
   "id": "fdedbae9-3d33-4d16-b00f-314af6db51f7",
   "metadata": {},
   "outputs": [],
   "source": [
    "results = re.search(phone_pattern,text)"
   ]
  },
  {
   "cell_type": "code",
   "execution_count": 50,
   "id": "89b9901d-a8ec-4066-861e-2bbf7b29b8b0",
   "metadata": {},
   "outputs": [
    {
     "data": {
      "text/plain": [
       "'408-555-1234'"
      ]
     },
     "execution_count": 50,
     "metadata": {},
     "output_type": "execute_result"
    }
   ],
   "source": [
    "results.group()"
   ]
  },
  {
   "cell_type": "code",
   "execution_count": 51,
   "id": "dd07f719-67f2-4202-9dfe-1a8480e4dae7",
   "metadata": {},
   "outputs": [
    {
     "data": {
      "text/plain": [
       "'408'"
      ]
     },
     "execution_count": 51,
     "metadata": {},
     "output_type": "execute_result"
    }
   ],
   "source": [
    "results.group(1) #group ordering starts at 1"
   ]
  },
  {
   "cell_type": "code",
   "execution_count": 52,
   "id": "cf16ebc0-5114-453a-81ff-7727b5ef065c",
   "metadata": {},
   "outputs": [
    {
     "data": {
      "text/plain": [
       "'555'"
      ]
     },
     "execution_count": 52,
     "metadata": {},
     "output_type": "execute_result"
    }
   ],
   "source": [
    "results.group(2)"
   ]
  },
  {
   "cell_type": "code",
   "execution_count": 53,
   "id": "d2123930-4e3c-4cac-95ca-57e193936e9b",
   "metadata": {},
   "outputs": [
    {
     "data": {
      "text/plain": [
       "'1234'"
      ]
     },
     "execution_count": 53,
     "metadata": {},
     "output_type": "execute_result"
    }
   ],
   "source": [
    "results.group(3)"
   ]
  },
  {
   "cell_type": "code",
   "execution_count": 55,
   "id": "b56e8e10-f823-45a8-9843-acfe5203bf7c",
   "metadata": {},
   "outputs": [
    {
     "ename": "IndexError",
     "evalue": "no such group",
     "output_type": "error",
     "traceback": [
      "\u001b[1;31m---------------------------------------------------------------------------\u001b[0m",
      "\u001b[1;31mIndexError\u001b[0m                                Traceback (most recent call last)",
      "Cell \u001b[1;32mIn[55], line 1\u001b[0m\n\u001b[1;32m----> 1\u001b[0m results\u001b[38;5;241m.\u001b[39mgroup(\u001b[38;5;241m4\u001b[39m)\n",
      "\u001b[1;31mIndexError\u001b[0m: no such group"
     ]
    }
   ],
   "source": [
    "results.group(4)"
   ]
  },
  {
   "cell_type": "code",
   "execution_count": null,
   "id": "511c20c5-2ce3-43e9-9913-da1729007b80",
   "metadata": {},
   "outputs": [],
   "source": []
  }
 ],
 "metadata": {
  "kernelspec": {
   "display_name": "Python 3 (ipykernel)",
   "language": "python",
   "name": "python3"
  },
  "language_info": {
   "codemirror_mode": {
    "name": "ipython",
    "version": 3
   },
   "file_extension": ".py",
   "mimetype": "text/x-python",
   "name": "python",
   "nbconvert_exporter": "python",
   "pygments_lexer": "ipython3",
   "version": "3.12.4"
  }
 },
 "nbformat": 4,
 "nbformat_minor": 5
}
