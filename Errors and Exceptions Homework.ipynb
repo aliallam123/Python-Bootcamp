{
 "cells": [
  {
   "cell_type": "markdown",
   "id": "c79f0473-3526-428a-8afb-8d99a2905456",
   "metadata": {},
   "source": [
    "# Errors and Exceptions Homework"
   ]
  },
  {
   "cell_type": "markdown",
   "id": "c8327bc6-3c1d-45e4-905f-c616367d7bde",
   "metadata": {},
   "source": [
    "### Problem 1"
   ]
  },
  {
   "cell_type": "markdown",
   "id": "fb2030ba-363b-4314-ac58-6c49ef970245",
   "metadata": {},
   "source": [
    "Handle the exception thrown by the code below by using try and except blocks."
   ]
  },
  {
   "cell_type": "code",
   "execution_count": 1,
   "id": "95683a18-4076-4044-8e91-9ee99dd653fc",
   "metadata": {},
   "outputs": [
    {
     "ename": "TypeError",
     "evalue": "unsupported operand type(s) for ** or pow(): 'str' and 'int'",
     "output_type": "error",
     "traceback": [
      "\u001b[1;31m---------------------------------------------------------------------------\u001b[0m",
      "\u001b[1;31mTypeError\u001b[0m                                 Traceback (most recent call last)",
      "Cell \u001b[1;32mIn[1], line 2\u001b[0m\n\u001b[0;32m      1\u001b[0m \u001b[38;5;28;01mfor\u001b[39;00m i \u001b[38;5;129;01min\u001b[39;00m [\u001b[38;5;124m'\u001b[39m\u001b[38;5;124ma\u001b[39m\u001b[38;5;124m'\u001b[39m,\u001b[38;5;124m'\u001b[39m\u001b[38;5;124mb\u001b[39m\u001b[38;5;124m'\u001b[39m,\u001b[38;5;124m'\u001b[39m\u001b[38;5;124mc\u001b[39m\u001b[38;5;124m'\u001b[39m]:\n\u001b[1;32m----> 2\u001b[0m     \u001b[38;5;28mprint\u001b[39m(i\u001b[38;5;241m*\u001b[39m\u001b[38;5;241m*\u001b[39m\u001b[38;5;241m2\u001b[39m)\n",
      "\u001b[1;31mTypeError\u001b[0m: unsupported operand type(s) for ** or pow(): 'str' and 'int'"
     ]
    }
   ],
   "source": [
    "for i in ['a','b','c']:\n",
    "    print(i**2)"
   ]
  },
  {
   "cell_type": "markdown",
   "id": "9172558d-615d-4ffd-a632-767d75b083cb",
   "metadata": {},
   "source": [
    "My answer:"
   ]
  },
  {
   "cell_type": "code",
   "execution_count": null,
   "id": "cd4ecbda-9f0d-4451-a875-3228a9f58b65",
   "metadata": {},
   "outputs": [],
   "source": [
    "try:\n",
    "    for i in ['a','b','c']:\n",
    "        print(i**2)\n",
    "except:\n",
    "        print('Cannot multiply a string and an integer!')"
   ]
  },
  {
   "cell_type": "markdown",
   "id": "a4db0a5c-3b04-4356-9bef-529fcac7810d",
   "metadata": {},
   "source": [
    "### Problem 2"
   ]
  },
  {
   "cell_type": "markdown",
   "id": "1e848655-58c0-4047-8e15-6b50f908c82b",
   "metadata": {},
   "source": [
    "Handle the exception thrown by the code below by using try and except blocks. Then use a finally block to print 'All Done.'"
   ]
  },
  {
   "cell_type": "code",
   "execution_count": null,
   "id": "bdd65a85-4c1f-4930-9ab8-871106ca0c64",
   "metadata": {},
   "outputs": [],
   "source": [
    "x = 5\n",
    "y = 0\n",
    "\n",
    "z = x/y"
   ]
  },
  {
   "cell_type": "markdown",
   "id": "42e39497-5995-4601-810b-da66d2c527b6",
   "metadata": {},
   "source": [
    "My answer:"
   ]
  },
  {
   "cell_type": "code",
   "execution_count": null,
   "id": "c5c40775-ffaa-44e4-a621-f0c9149c7861",
   "metadata": {},
   "outputs": [],
   "source": [
    "x = 5  \n",
    "y = 0\n",
    "\n",
    "try:    \n",
    "    z = x/y\n",
    "except:\n",
    "    print('Cannot divide by zero')\n",
    "finally:\n",
    "    print('All done')"
   ]
  },
  {
   "cell_type": "markdown",
   "id": "1c0d761b-8e18-4a05-8335-ede20e18e365",
   "metadata": {},
   "source": [
    "Correct Answer: (implement ZeroDivisionError)"
   ]
  },
  {
   "cell_type": "code",
   "execution_count": 2,
   "id": "5de7ee09-5c4c-45d4-a17b-1eef16cd966e",
   "metadata": {},
   "outputs": [
    {
     "name": "stdout",
     "output_type": "stream",
     "text": [
      "Cannot divide by zero\n",
      "All done\n"
     ]
    }
   ],
   "source": [
    "x = 5  \n",
    "y = 0\n",
    "\n",
    "try:    \n",
    "    z = x/y\n",
    "except ZeroDivisionError:\n",
    "    print('Cannot divide by zero')\n",
    "finally:\n",
    "    print('All done')"
   ]
  },
  {
   "cell_type": "markdown",
   "id": "efa50427-ae38-4abc-9a71-0325f635d7f5",
   "metadata": {},
   "source": [
    "### Problem 3"
   ]
  },
  {
   "cell_type": "markdown",
   "id": "0bca0371-0025-45e0-a3fc-163b9a858463",
   "metadata": {},
   "source": [
    "Write a function that asks for an integer and prints the square of it. Use a while loop with a try, except, else block to account for incorrect inputs."
   ]
  },
  {
   "cell_type": "code",
   "execution_count": 6,
   "id": "b6a99070-fe35-4166-8e9d-98f57e590f95",
   "metadata": {},
   "outputs": [],
   "source": [
    "def ask():\n",
    "    while True:\n",
    "        try:\n",
    "            val = int(input('Please input an integer: '))\n",
    "        except: \n",
    "            print('This is not an integer!')\n",
    "        else:\n",
    "            return val**2"
   ]
  },
  {
   "cell_type": "code",
   "execution_count": 7,
   "id": "efe448d6-9f3c-4ff0-93b6-865647f546fd",
   "metadata": {},
   "outputs": [
    {
     "name": "stdin",
     "output_type": "stream",
     "text": [
      "Please input an integer:  word1\n"
     ]
    },
    {
     "name": "stdout",
     "output_type": "stream",
     "text": [
      "This is not an integer!\n"
     ]
    },
    {
     "name": "stdin",
     "output_type": "stream",
     "text": [
      "Please input an integer:  word2\n"
     ]
    },
    {
     "name": "stdout",
     "output_type": "stream",
     "text": [
      "This is not an integer!\n"
     ]
    },
    {
     "name": "stdin",
     "output_type": "stream",
     "text": [
      "Please input an integer:  5\n"
     ]
    },
    {
     "data": {
      "text/plain": [
       "25"
      ]
     },
     "execution_count": 7,
     "metadata": {},
     "output_type": "execute_result"
    }
   ],
   "source": [
    "ask()"
   ]
  },
  {
   "cell_type": "markdown",
   "id": "6ce1b84d-ef0e-42b2-a638-61bdc2df96a4",
   "metadata": {},
   "source": [
    "# Great Job!"
   ]
  }
 ],
 "metadata": {
  "kernelspec": {
   "display_name": "Python 3 (ipykernel)",
   "language": "python",
   "name": "python3"
  },
  "language_info": {
   "codemirror_mode": {
    "name": "ipython",
    "version": 3
   },
   "file_extension": ".py",
   "mimetype": "text/x-python",
   "name": "python",
   "nbconvert_exporter": "python",
   "pygments_lexer": "ipython3",
   "version": "3.12.4"
  }
 },
 "nbformat": 4,
 "nbformat_minor": 5
}
