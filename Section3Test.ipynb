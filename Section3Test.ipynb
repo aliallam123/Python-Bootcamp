{
 "cells": [
  {
   "cell_type": "markdown",
   "id": "8206d939",
   "metadata": {},
   "source": [
    "# Objects and Data Structures Assessment Test"
   ]
  },
  {
   "cell_type": "markdown",
   "id": "19b76735",
   "metadata": {},
   "source": [
    "Write (or just say out loud to yourself) a brief description of all the following Object Types and Data Structures we've learned about. You can edit the cell below by double clicking on it. Really this is just to test if you know the difference between these, so feel free to just think about it, since your answers are self-graded."
   ]
  },
  {
   "cell_type": "markdown",
   "id": "5dfa062f",
   "metadata": {},
   "source": [
    "✅ = Correct\n",
    "❌ = Incorrect"
   ]
  },
  {
   "cell_type": "markdown",
   "id": "2cc2d08b",
   "metadata": {},
   "source": [
    "### 1\n",
    "Numbers: Numbers can come in two forms - Integer and float✅\n",
    "\n",
    "Strings: Any written text that is conformed by ''. This can be letters, numbers, decimals etc but will be registered as a string once it is confrmed with '' or \"\". e.g. 'a' ✅ 'Ordered sequence of characters\n",
    "\n",
    "Lists: A list of numbers, floats or strings. Lists are conformed by []. They have a list of values separated by commas. e.g. list[1,2,3,4,5] ✅ ' Ordered sequence of objects (mutable)\n",
    "\n",
    "Tuples: When a variable is assigned to a value. It can be a string or int which is assigned to one string or int. For example a:3 is a tuple. Or in a real life situation a tuple can be the price of fruit. apple:0.99. This tuple shows that an apple will always be 99p because that is the value that is assigned to the apple. ✅ 'Ordered Sequence of objects (immutable)\n",
    "\n",
    "Dictionaries: A list of tuples. For example a pricing list for a grocery shop could be pricing = [apple:0.99, banana:0.99, peach:2, mango:4]. This would allow you to quickly and efficiently check the price of an item within the dictionary by simply running the following: pricing(apple). ✅ 'Key value pairing that is unordered"
   ]
  },
  {
   "cell_type": "markdown",
   "id": "7b940fe1",
   "metadata": {},
   "source": [
    "### 2 Numbers\n",
    "Write an equation that uses multiplication, division, an exponent, addition, and subtraction that is equal to 100.25.\n",
    "\n",
    "Hint: This is just to test your memory of the basic arithmetic commands, work backwards from 100.25\n",
    "\n",
    "My answer: \n",
    "((50 * 2) / 2) + 10**2 - 49.75 = 100.25 ✅"
   ]
  },
  {
   "cell_type": "code",
   "execution_count": 70,
   "id": "a9324606",
   "metadata": {},
   "outputs": [
    {
     "data": {
      "text/plain": [
       "100.25"
      ]
     },
     "execution_count": 70,
     "metadata": {},
     "output_type": "execute_result"
    }
   ],
   "source": [
    "((50 * 2) / 2) + 10**2 - 49.75 "
   ]
  },
  {
   "cell_type": "markdown",
   "id": "b2feab07",
   "metadata": {},
   "source": [
    "### 3\n",
    "Answer these 3 questions without typing code. Then type code to check your answer.\n",
    "\n",
    "What is the value of the expression 4 * (6 + 5) = 44 ✅\n",
    "\n",
    "What is the value of the expression 4 * 6 + 5 = 29 ✅\n",
    "\n",
    "What is the value of the expression 4 + 6 * 5 = 34 ✅"
   ]
  },
  {
   "cell_type": "markdown",
   "id": "d281cbe5",
   "metadata": {},
   "source": [
    "### 4 What is the type of the result of the expression 3 + 1.5 + 4?\n",
    "\n",
    "Float ✅"
   ]
  },
  {
   "cell_type": "markdown",
   "id": "6fe312e0",
   "metadata": {},
   "source": [
    "### 5 What would you use to find a number’s square root, as well as its square?\n",
    "\n",
    "Square root: n**0.5 ✅\n",
    "\n",
    "Square: n**2 ✅"
   ]
  },
  {
   "cell_type": "markdown",
   "id": "357f8d94",
   "metadata": {},
   "source": [
    "### 6 Strings\n",
    "Given the string 'hello' give an index command that returns 'e'. Enter your code in the cell below:"
   ]
  },
  {
   "cell_type": "code",
   "execution_count": 1,
   "id": "4a734ee5",
   "metadata": {},
   "outputs": [],
   "source": [
    "s = 'hello'\n",
    "# Print out 'e' using indexing"
   ]
  },
  {
   "cell_type": "code",
   "execution_count": 72,
   "id": "163312e9",
   "metadata": {},
   "outputs": [
    {
     "data": {
      "text/plain": [
       "'e'"
      ]
     },
     "execution_count": 72,
     "metadata": {},
     "output_type": "execute_result"
    }
   ],
   "source": [
    "s[1] "
   ]
  },
  {
   "cell_type": "code",
   "execution_count": 75,
   "id": "064ad3e3",
   "metadata": {},
   "outputs": [],
   "source": [
    "s ='hello'\n",
    " #Reverse the string using slicing"
   ]
  },
  {
   "cell_type": "code",
   "execution_count": 4,
   "id": "0941e877",
   "metadata": {},
   "outputs": [
    {
     "data": {
      "text/plain": [
       "'o'"
      ]
     },
     "execution_count": 4,
     "metadata": {},
     "output_type": "execute_result"
    }
   ],
   "source": [
    "s[-1]"
   ]
  },
  {
   "cell_type": "code",
   "execution_count": 5,
   "id": "375e7763",
   "metadata": {},
   "outputs": [
    {
     "data": {
      "text/plain": [
       "'hell'"
      ]
     },
     "execution_count": 5,
     "metadata": {},
     "output_type": "execute_result"
    }
   ],
   "source": [
    "s[:-1]"
   ]
  },
  {
   "cell_type": "code",
   "execution_count": 6,
   "id": "6a0a2013",
   "metadata": {},
   "outputs": [
    {
     "data": {
      "text/plain": [
       "''"
      ]
     },
     "execution_count": 6,
     "metadata": {},
     "output_type": "execute_result"
    }
   ],
   "source": [
    "s[4:0]"
   ]
  },
  {
   "cell_type": "code",
   "execution_count": 7,
   "id": "c5e115af",
   "metadata": {},
   "outputs": [
    {
     "data": {
      "text/plain": [
       "'o'"
      ]
     },
     "execution_count": 7,
     "metadata": {},
     "output_type": "execute_result"
    }
   ],
   "source": [
    "s[4:]"
   ]
  },
  {
   "cell_type": "markdown",
   "id": "b00e263e",
   "metadata": {},
   "source": [
    "i dont know ❌"
   ]
  },
  {
   "cell_type": "code",
   "execution_count": 78,
   "id": "f0ed0e53",
   "metadata": {},
   "outputs": [
    {
     "data": {
      "text/plain": [
       "'olleh'"
      ]
     },
     "execution_count": 78,
     "metadata": {},
     "output_type": "execute_result"
    }
   ],
   "source": [
    "#ANSWER:\n",
    "s[::-1]"
   ]
  },
  {
   "cell_type": "code",
   "execution_count": 79,
   "id": "e692a35b",
   "metadata": {},
   "outputs": [
    {
     "data": {
      "text/plain": [
       "'hlo'"
      ]
     },
     "execution_count": 79,
     "metadata": {},
     "output_type": "execute_result"
    }
   ],
   "source": [
    "s[::2]"
   ]
  },
  {
   "cell_type": "markdown",
   "id": "48fe3331",
   "metadata": {},
   "source": [
    "Given the string hello, give two methods of producing the letter 'o' using indexing."
   ]
  },
  {
   "cell_type": "code",
   "execution_count": 80,
   "id": "5a74e279",
   "metadata": {},
   "outputs": [],
   "source": [
    "s ='hello'\n",
    "# Print out the 'o'\n",
    "\n",
    "# Method 1:"
   ]
  },
  {
   "cell_type": "code",
   "execution_count": 82,
   "id": "515aee8b",
   "metadata": {},
   "outputs": [
    {
     "data": {
      "text/plain": [
       "'o'"
      ]
     },
     "execution_count": 82,
     "metadata": {},
     "output_type": "execute_result"
    }
   ],
   "source": [
    "s[4]"
   ]
  },
  {
   "cell_type": "code",
   "execution_count": 81,
   "id": "580a93dc",
   "metadata": {},
   "outputs": [],
   "source": [
    "#Method 2:✅"
   ]
  },
  {
   "cell_type": "code",
   "execution_count": 83,
   "id": "794b112b",
   "metadata": {},
   "outputs": [
    {
     "data": {
      "text/plain": [
       "'o'"
      ]
     },
     "execution_count": 83,
     "metadata": {},
     "output_type": "execute_result"
    }
   ],
   "source": [
    "s[-1]"
   ]
  },
  {
   "cell_type": "markdown",
   "id": "8e2372b9",
   "metadata": {},
   "source": [
    "### Lists\n",
    "#### Build this list [0,0,0] two separate ways."
   ]
  },
  {
   "cell_type": "code",
   "execution_count": 12,
   "id": "7adb027f",
   "metadata": {},
   "outputs": [],
   "source": [
    "# Method 1: ✅"
   ]
  },
  {
   "cell_type": "code",
   "execution_count": 13,
   "id": "a6788e61",
   "metadata": {},
   "outputs": [],
   "source": [
    "list = [0,0,0]"
   ]
  },
  {
   "cell_type": "code",
   "execution_count": 84,
   "id": "13d6d97c",
   "metadata": {},
   "outputs": [],
   "source": [
    "# Method 2:✅"
   ]
  },
  {
   "cell_type": "code",
   "execution_count": 15,
   "id": "e34def71",
   "metadata": {},
   "outputs": [],
   "source": [
    "list2 = [0] * 3"
   ]
  },
  {
   "cell_type": "code",
   "execution_count": 16,
   "id": "b4086182",
   "metadata": {},
   "outputs": [
    {
     "data": {
      "text/plain": [
       "[0, 0, 0]"
      ]
     },
     "execution_count": 16,
     "metadata": {},
     "output_type": "execute_result"
    }
   ],
   "source": [
    "list2"
   ]
  },
  {
   "cell_type": "markdown",
   "id": "5455aead",
   "metadata": {},
   "source": [
    "### 2 Reassign 'hello' in this nested list to say 'goodbye' instead:"
   ]
  },
  {
   "cell_type": "code",
   "execution_count": 90,
   "id": "567d320f",
   "metadata": {},
   "outputs": [],
   "source": [
    "list3 = [1,2,[3,4,'hello']]"
   ]
  },
  {
   "cell_type": "code",
   "execution_count": 91,
   "id": "150bdf5e",
   "metadata": {},
   "outputs": [],
   "source": [
    "# list3.append('hello') ❌"
   ]
  },
  {
   "cell_type": "code",
   "execution_count": 92,
   "id": "eeee2d45",
   "metadata": {},
   "outputs": [],
   "source": [
    "#ANSWER:\n",
    "list3[2][2] = 'goodbye'"
   ]
  },
  {
   "cell_type": "code",
   "execution_count": 93,
   "id": "b3ac72da",
   "metadata": {},
   "outputs": [
    {
     "data": {
      "text/plain": [
       "[1, 2, [3, 4, 'goodbye']]"
      ]
     },
     "execution_count": 93,
     "metadata": {},
     "output_type": "execute_result"
    }
   ],
   "source": [
    "list3"
   ]
  },
  {
   "cell_type": "markdown",
   "id": "c0c6cc9b",
   "metadata": {},
   "source": [
    "### 3 Sort the list below:"
   ]
  },
  {
   "cell_type": "code",
   "execution_count": 26,
   "id": "777321e3",
   "metadata": {},
   "outputs": [],
   "source": [
    "list4 = [5,3,4,6,1]"
   ]
  },
  {
   "cell_type": "code",
   "execution_count": 27,
   "id": "be77dfa6",
   "metadata": {},
   "outputs": [],
   "source": [
    "list4.sort()"
   ]
  },
  {
   "cell_type": "code",
   "execution_count": 28,
   "id": "ef0c61ed",
   "metadata": {},
   "outputs": [
    {
     "data": {
      "text/plain": [
       "[1, 3, 4, 5, 6]"
      ]
     },
     "execution_count": 28,
     "metadata": {},
     "output_type": "execute_result"
    }
   ],
   "source": [
    "list4"
   ]
  },
  {
   "cell_type": "markdown",
   "id": "b4fed920",
   "metadata": {},
   "source": [
    "✅"
   ]
  },
  {
   "cell_type": "markdown",
   "id": "0c403764",
   "metadata": {},
   "source": [
    "### Dictionaries\n",
    "Using keys and indexing, grab the 'hello' from the following dictionaries:"
   ]
  },
  {
   "cell_type": "code",
   "execution_count": 95,
   "id": "2542a91a",
   "metadata": {},
   "outputs": [],
   "source": [
    "d = {'simple_key':'hello'}\n",
    "# Grab 'hello'"
   ]
  },
  {
   "cell_type": "code",
   "execution_count": 96,
   "id": "413e3637",
   "metadata": {},
   "outputs": [
    {
     "data": {
      "text/plain": [
       "'hello'"
      ]
     },
     "execution_count": 96,
     "metadata": {},
     "output_type": "execute_result"
    }
   ],
   "source": [
    "d['simple_key']\n",
    "#✅"
   ]
  },
  {
   "cell_type": "code",
   "execution_count": 97,
   "id": "74bd75b8",
   "metadata": {},
   "outputs": [],
   "source": [
    "d = {'k1':{'k2':'hello'}}\n",
    "# Grab 'hello'"
   ]
  },
  {
   "cell_type": "code",
   "execution_count": 98,
   "id": "90487476",
   "metadata": {},
   "outputs": [
    {
     "data": {
      "text/plain": [
       "'hello'"
      ]
     },
     "execution_count": 98,
     "metadata": {},
     "output_type": "execute_result"
    }
   ],
   "source": [
    "d['k1']['k2']\n",
    "#✅"
   ]
  },
  {
   "cell_type": "code",
   "execution_count": 102,
   "id": "f5339500",
   "metadata": {},
   "outputs": [],
   "source": [
    "# Getting a little tricker\n",
    "d = {'k1':[{'nest_key':['this is deep',['hello']]}]}\n",
    "#Grab hello\n",
    "#❌"
   ]
  },
  {
   "cell_type": "code",
   "execution_count": 105,
   "id": "16ee9f91",
   "metadata": {},
   "outputs": [
    {
     "data": {
      "text/plain": [
       "'hello'"
      ]
     },
     "execution_count": 105,
     "metadata": {},
     "output_type": "execute_result"
    }
   ],
   "source": [
    "#ANSWER:\n",
    "d['k1'][0]['nest_key'][1][0]"
   ]
  },
  {
   "cell_type": "code",
   "execution_count": 106,
   "id": "f5d1020d",
   "metadata": {},
   "outputs": [],
   "source": [
    "# This will be hard and annoying!\n",
    "d = {'k1':[1,2,{'k2':['this is tricky',{'tough':[1,2,['hello']]}]}]}\n",
    "#❌"
   ]
  },
  {
   "cell_type": "code",
   "execution_count": 107,
   "id": "f15cac46",
   "metadata": {},
   "outputs": [
    {
     "data": {
      "text/plain": [
       "'hello'"
      ]
     },
     "execution_count": 107,
     "metadata": {},
     "output_type": "execute_result"
    }
   ],
   "source": [
    "#ANSWER:\n",
    "d['k1'][2]['k2'][1]['tough'][2][0]"
   ]
  },
  {
   "cell_type": "markdown",
   "id": "77c7e716",
   "metadata": {},
   "source": [
    "Can you sort a dictionary? Why or why not?\n",
    "\n",
    "No! Because normal dictionaries are mappings not a sequence\n",
    "#✅"
   ]
  },
  {
   "cell_type": "markdown",
   "id": "016acd50",
   "metadata": {},
   "source": [
    "### Tuples\n",
    "What is the major difference between tuples and lists?\n",
    "A tuple has a two objects assigned to each other. A list is a list of the same or different type objects.\n",
    "Tuples are conformed by {} whereas lists are conformed by []\n",
    "\n",
    "How do you create a tuple?\n",
    "Get one variable like 'a' and assign it to a value like 'b'\n",
    "So {'a':'b'}"
   ]
  },
  {
   "cell_type": "markdown",
   "id": "f83d427f",
   "metadata": {},
   "source": [
    "### Sets\n",
    "What is unique about a set?\n",
    "Each value must be unique. There cannot be the same string or int or value in a set.\n",
    "\n",
    "Use a set to find the unique values of the list below:"
   ]
  },
  {
   "cell_type": "code",
   "execution_count": 47,
   "id": "8c9692ea",
   "metadata": {},
   "outputs": [],
   "source": [
    "list5 = [1,2,2,33,4,4,11,22,3,3,2]"
   ]
  },
  {
   "cell_type": "code",
   "execution_count": 108,
   "id": "b4e12c2c",
   "metadata": {},
   "outputs": [
    {
     "data": {
      "text/plain": [
       "{1, 2, 3, 4, 11, 22, 33}"
      ]
     },
     "execution_count": 108,
     "metadata": {},
     "output_type": "execute_result"
    }
   ],
   "source": [
    "set(list5)\n",
    "##✅"
   ]
  },
  {
   "cell_type": "markdown",
   "id": "b28cd8a8",
   "metadata": {},
   "source": [
    "### Booleans\n",
    "For the following quiz questions, we will get a preview of comparison operators. In the table below, a=3 and b=4."
   ]
  },
  {
   "cell_type": "markdown",
   "id": "b60eff73",
   "metadata": {},
   "source": [
    "### Operator\tDescription\t   Example\n",
    "==\tIf the values of two operands are equal, then the condition becomes true.\t(a == b) is not true.\n",
    "!=\tIf values of two operands are not equal, then condition becomes true.\t(a != b) is true.\n",
    ">\tIf the value of left operand is greater than the value of right operand, then condition becomes true.\t(a > b) is not true.\n",
    "<\tIf the value of left operand is less than the value of right operand, then condition becomes true.\t(a < b) is true.\n",
    ">=\tIf the value of left operand is greater than or equal to the value of right operand, then condition becomes true.\t(a >= b) is not true.\n",
    "<=\tIf the value of left operand is less than or equal to the value of right operand, then condition becomes true.\t(a <= b) is true."
   ]
  },
  {
   "cell_type": "markdown",
   "id": "235360df",
   "metadata": {},
   "source": [
    "What will be the resulting Boolean of the following pieces of code (answer fist then check by typing it in!)"
   ]
  },
  {
   "cell_type": "code",
   "execution_count": 50,
   "id": "7e44406f",
   "metadata": {},
   "outputs": [
    {
     "data": {
      "text/plain": [
       "False"
      ]
     },
     "execution_count": 50,
     "metadata": {},
     "output_type": "execute_result"
    }
   ],
   "source": [
    "# Answer before running cell\n",
    "2 > 3\n",
    "#False\n",
    "#✅"
   ]
  },
  {
   "cell_type": "code",
   "execution_count": 52,
   "id": "248d6fae",
   "metadata": {},
   "outputs": [
    {
     "data": {
      "text/plain": [
       "False"
      ]
     },
     "execution_count": 52,
     "metadata": {},
     "output_type": "execute_result"
    }
   ],
   "source": [
    "# Answer before running cell\n",
    "3 <= 2\n",
    "#False\n",
    "#✅"
   ]
  },
  {
   "cell_type": "code",
   "execution_count": 53,
   "id": "e953a214",
   "metadata": {},
   "outputs": [
    {
     "data": {
      "text/plain": [
       "False"
      ]
     },
     "execution_count": 53,
     "metadata": {},
     "output_type": "execute_result"
    }
   ],
   "source": [
    "# Answer before running cell\n",
    "3 == 2.0\n",
    "#False\n",
    "#✅"
   ]
  },
  {
   "cell_type": "code",
   "execution_count": 54,
   "id": "303460f1",
   "metadata": {},
   "outputs": [
    {
     "data": {
      "text/plain": [
       "True"
      ]
     },
     "execution_count": 54,
     "metadata": {},
     "output_type": "execute_result"
    }
   ],
   "source": [
    "# Answer before running cell\n",
    "3.0 == 3\n",
    "#True\n",
    "#✅"
   ]
  },
  {
   "cell_type": "code",
   "execution_count": 55,
   "id": "8edc290f",
   "metadata": {},
   "outputs": [
    {
     "data": {
      "text/plain": [
       "False"
      ]
     },
     "execution_count": 55,
     "metadata": {},
     "output_type": "execute_result"
    }
   ],
   "source": [
    "# Answer before running cell\n",
    "4**0.5 != 2\n",
    "#False\n",
    "#✅"
   ]
  },
  {
   "cell_type": "markdown",
   "id": "e3d5860b",
   "metadata": {},
   "source": [
    "Final Question: What is the boolean output of the cell block below?"
   ]
  },
  {
   "cell_type": "code",
   "execution_count": 109,
   "id": "4705ebf1",
   "metadata": {},
   "outputs": [
    {
     "data": {
      "text/plain": [
       "False"
      ]
     },
     "execution_count": 109,
     "metadata": {},
     "output_type": "execute_result"
    }
   ],
   "source": [
    "# two nested lists\n",
    "l_one = [1,2,[3,4]]\n",
    "l_two = [1,2,{'k1':4}]\n",
    "\n",
    "# True or False?\n",
    "l_one[2][0] >= l_two[2]['k1']\n",
    "#1,1 >= 1,4\n",
    "#False\n",
    "#✅"
   ]
  },
  {
   "cell_type": "markdown",
   "id": "efd73176",
   "metadata": {},
   "source": [
    "### Great Job on your first assessment!"
   ]
  }
 ],
 "metadata": {
  "kernelspec": {
   "display_name": "Python 3 (ipykernel)",
   "language": "python",
   "name": "python3"
  },
  "language_info": {
   "codemirror_mode": {
    "name": "ipython",
    "version": 3
   },
   "file_extension": ".py",
   "mimetype": "text/x-python",
   "name": "python",
   "nbconvert_exporter": "python",
   "pygments_lexer": "ipython3",
   "version": "3.11.5"
  }
 },
 "nbformat": 4,
 "nbformat_minor": 5
}
