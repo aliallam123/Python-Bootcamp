{
 "cells": [
  {
   "cell_type": "markdown",
   "id": "88bbf4f4-792f-4244-9bd3-0aaa4f85ea8e",
   "metadata": {},
   "source": [
    "# Milestone Project 1"
   ]
  },
  {
   "cell_type": "markdown",
   "id": "3edd68f4-d3e9-4db8-899d-8c6c2d499067",
   "metadata": {},
   "source": [
    "## Your assignment: Create a Tic Tac Toe game. You are free to use any IDE you like."
   ]
  },
  {
   "cell_type": "markdown",
   "id": "30f0ed2c-69e4-4d9c-9872-a99df2f94b98",
   "metadata": {},
   "source": [
    "### Here are the requirements:\n",
    "\n",
    "2 players should be able to play the game (both sitting at the same computer)\n",
    "\n",
    "The board should be printed out every time a player makes a move\n",
    "\n",
    "You should be able to accept input of the player position and then place a symbol on the board"
   ]
  },
  {
   "cell_type": "markdown",
   "id": "51efca34-70fe-4b64-9094-c5d01997b669",
   "metadata": {},
   "source": [
    "Feel free to use Google to help you figure anything out (but don't just Google \"Tic Tac Toe in Python\" otherwise you won't learn anything!) Keep in mind that this project can take anywhere between several hours to several days."
   ]
  },
  {
   "cell_type": "markdown",
   "id": "ad7c898d-b6d2-410d-9f5d-9cc366f80f54",
   "metadata": {},
   "source": [
    "Initial notes:\n",
    "You need to create the board for the Tic Tac Toe game first. You can use numbers 1-9 and make the user input a number to place their 'X' or 'O' in that position index."
   ]
  },
  {
   "cell_type": "markdown",
   "id": "045b52cb-075c-42cd-8788-df06574e2b90",
   "metadata": {},
   "source": [
    "### Step 1 - Print out the Tic Tac Toe board"
   ]
  },
  {
   "cell_type": "code",
   "execution_count": 138,
   "id": "d65819c4-0d88-4f1d-8fa3-874364c8166c",
   "metadata": {},
   "outputs": [],
   "source": [
    "from IPython.display import clear_output\n",
    "\n",
    "def display_board(board):\n",
    "    clear_output()\n",
    "\n",
    "    print('   |   |')\n",
    "    print(' ' + board[7] + ' | ' + board[8] + ' | ' + board[9])\n",
    "    print('   |   |')\n",
    "    print('-----------')\n",
    "    print('   |   |')\n",
    "    print(' ' + board[4] + ' | ' + board[5] + ' | ' + board[6])\n",
    "    print('   |   |')\n",
    "    print('-----------')\n",
    "    print('   |   |')\n",
    "    print(' ' + board[1] + ' | ' + board[2] + ' | ' + board[3])\n",
    "    print('   |   |')\n",
    "\n"
   ]
  },
  {
   "cell_type": "code",
   "execution_count": 139,
   "id": "8f0cab7c-f9c7-408a-9cfd-ed807fc3502e",
   "metadata": {},
   "outputs": [
    {
     "name": "stdout",
     "output_type": "stream",
     "text": [
      "   |   |\n",
      " 7 | 8 | 9\n",
      "   |   |\n",
      "-----------\n",
      "   |   |\n",
      " 4 | 5 | 6\n",
      "   |   |\n",
      "-----------\n",
      "   |   |\n",
      " 1 | 2 | 3\n",
      "   |   |\n"
     ]
    }
   ],
   "source": [
    "test_board = ['#', '1', '2', '3', '4', '5', '6', '7', '8', '9']\n",
    "display_board(test_board)"
   ]
  },
  {
   "cell_type": "markdown",
   "id": "a4f65eca-e80f-477d-bdec-59b4b814766e",
   "metadata": {},
   "source": [
    "### Step 2 - Assigning markers 'X' or 'O'"
   ]
  },
  {
   "cell_type": "code",
   "execution_count": 102,
   "id": "58db1c73-6806-41e6-9707-c3b0b9421794",
   "metadata": {},
   "outputs": [],
   "source": [
    "def player_input():\n",
    "    marker = ''\n",
    "\n",
    "    while not marker == 'X' or marker == 'O':\n",
    "        marker = input('Player 1: Do you want to be X or O?').upper()\n",
    "        print('Please select X or O!')\n",
    "    if marker == 'X':\n",
    "        return ('X', 'O')\n",
    "    else:\n",
    "        return ('O', 'X')"
   ]
  },
  {
   "cell_type": "code",
   "execution_count": 103,
   "id": "79832779-107d-4ddd-97e9-e1d491392d0b",
   "metadata": {},
   "outputs": [
    {
     "name": "stdin",
     "output_type": "stream",
     "text": [
      "Player 1: Do you want to be X or O? X\n"
     ]
    },
    {
     "name": "stdout",
     "output_type": "stream",
     "text": [
      "Please select X or O!\n"
     ]
    },
    {
     "data": {
      "text/plain": [
       "('X', 'O')"
      ]
     },
     "execution_count": 103,
     "metadata": {},
     "output_type": "execute_result"
    }
   ],
   "source": [
    "player_input()"
   ]
  },
  {
   "cell_type": "markdown",
   "id": "ca71bde6-3c56-4769-8fb0-c9d98eaba3d4",
   "metadata": {},
   "source": [
    "### Step 3 - Assigning marker to the board"
   ]
  },
  {
   "cell_type": "code",
   "execution_count": 104,
   "id": "d454c211-fef0-43d8-8f13-976777d5e6f0",
   "metadata": {},
   "outputs": [],
   "source": [
    "def place_marker(board, marker, position):\n",
    "\n",
    "    board[position] = marker\n"
   ]
  },
  {
   "cell_type": "code",
   "execution_count": 108,
   "id": "6fb738e8-eb3b-4362-afea-a02ab257154c",
   "metadata": {},
   "outputs": [
    {
     "name": "stdout",
     "output_type": "stream",
     "text": [
      "   |   |\n",
      " X | X | X\n",
      "   |   |\n",
      "-----------\n",
      "   |   |\n",
      " 4 | 5 | 6\n",
      "   |   |\n",
      "-----------\n",
      "   |   |\n",
      " 1 | 2 | 3\n",
      "   |   |\n"
     ]
    }
   ],
   "source": [
    "place_marker(test_board,'X',9)\n",
    "display_board(test_board)"
   ]
  },
  {
   "cell_type": "markdown",
   "id": "c667123a-4546-4acf-9f1c-a355fcafa33b",
   "metadata": {},
   "source": [
    "### Step 4 - Take in a board and mark X or O and check to see if that mark has won"
   ]
  },
  {
   "cell_type": "code",
   "execution_count": 109,
   "id": "c4b61df8-9fb3-43cb-9c51-ce135120f1ae",
   "metadata": {},
   "outputs": [],
   "source": [
    "def win_check(board,mark):\n",
    "    \n",
    "    return ((board[7] == mark and board[8] == mark and board[9] == mark) or # across the top\n",
    "    (board[4] == mark and board[5] == mark and board[6] == mark) or # across the middle\n",
    "    (board[1] == mark and board[2] == mark and board[3] == mark) or # across the bottom\n",
    "    (board[7] == mark and board[4] == mark and board[1] == mark) or # down the middle\n",
    "    (board[8] == mark and board[5] == mark and board[2] == mark) or # down the middle\n",
    "    (board[9] == mark and board[6] == mark and board[3] == mark) or # down the right side\n",
    "    (board[7] == mark and board[5] == mark and board[3] == mark) or # diagonal\n",
    "    (board[9] == mark and board[5] == mark and board[1] == mark)) # diagonal"
   ]
  },
  {
   "cell_type": "code",
   "execution_count": 110,
   "id": "498d2b0a-9cbf-4a27-b552-307e37198049",
   "metadata": {},
   "outputs": [
    {
     "data": {
      "text/plain": [
       "True"
      ]
     },
     "execution_count": 110,
     "metadata": {},
     "output_type": "execute_result"
    }
   ],
   "source": [
    "win_check(test_board,'X')"
   ]
  },
  {
   "cell_type": "markdown",
   "id": "2100581b-1c31-4d5b-985e-6f3dcabd94d3",
   "metadata": {},
   "source": [
    "### Step 5 - Randomly decide which player goes first"
   ]
  },
  {
   "cell_type": "code",
   "execution_count": 117,
   "id": "b3ba4562-ba1f-4b32-b6d4-7af8a814d4fd",
   "metadata": {},
   "outputs": [],
   "source": [
    "import random\n",
    "\n",
    "def choose_first():\n",
    "    if random.randint(0,1) == 0:\n",
    "        return 'Player 1'\n",
    "    else:\n",
    "        return 'Player 2'"
   ]
  },
  {
   "cell_type": "code",
   "execution_count": 122,
   "id": "d329f653-6125-4d29-8b83-34d86fe57cd5",
   "metadata": {},
   "outputs": [
    {
     "data": {
      "text/plain": [
       "'Player 1'"
      ]
     },
     "execution_count": 122,
     "metadata": {},
     "output_type": "execute_result"
    }
   ],
   "source": [
    "choose_first()"
   ]
  },
  {
   "cell_type": "markdown",
   "id": "88d2ab9d-1c5f-417a-9052-48cd0f9e1740",
   "metadata": {},
   "source": [
    "### Step 6 - Return Boolean indicating whethere a space on the board is available"
   ]
  },
  {
   "cell_type": "code",
   "execution_count": 133,
   "id": "9693fe0a-5019-47d5-a07c-80be64a07dcc",
   "metadata": {},
   "outputs": [],
   "source": [
    "def space_check(board, position):\n",
    "    return board[position] == ' '"
   ]
  },
  {
   "cell_type": "markdown",
   "id": "a89ad548-29ef-40b0-bd72-8f6e37692cc7",
   "metadata": {},
   "source": [
    "### Step 7 - Checks if the board is full and returns a boolean. True if full, false otherwise"
   ]
  },
  {
   "cell_type": "code",
   "execution_count": 134,
   "id": "b581b990-234b-40b0-bcde-010459566916",
   "metadata": {},
   "outputs": [],
   "source": [
    "def full_board_check(board):\n",
    "    for i in range(1,10):\n",
    "        if space_check(board, i):\n",
    "            return False\n",
    "    return True"
   ]
  },
  {
   "cell_type": "markdown",
   "id": "86e096f4-af3c-4136-a90d-d8fad0a202b1",
   "metadata": {},
   "source": [
    "### Step 8 - Asks for player's next position (as a number 1-9) then uses step 6 to check if it's a free position. If it is, then returns the position for later use"
   ]
  },
  {
   "cell_type": "code",
   "execution_count": 135,
   "id": "29f825d2-4112-41ba-b4aa-fa04c60a07dd",
   "metadata": {},
   "outputs": [],
   "source": [
    "#def player_choice(board):\n",
    "    \n",
    "    #marker = int(input('Please pick a position (1-9): '))\n",
    "    #if space_check(board, marker) == False:\n",
    "        #return 'This space is taken'\n",
    "    #else:\n",
    "        #return marker"
   ]
  },
  {
   "cell_type": "code",
   "execution_count": 141,
   "id": "abf58a6b-47b7-4960-8a2c-dee2fb20df6d",
   "metadata": {},
   "outputs": [],
   "source": [
    "def player_choice(board):\n",
    "    position = 0\n",
    "    while position  not in [1,2,3,4,5,6,7,8,9] or not space_check(board, position):\n",
    "        position = int(input('Choose your next position: (1-9) '))\n",
    "\n",
    "    return position"
   ]
  },
  {
   "cell_type": "markdown",
   "id": "61e926cf-193c-47e5-9f2f-b9b82f25c814",
   "metadata": {},
   "source": [
    "### Step 9 - Ask the player if they want to play again and returns a boolean True if they do want to play again."
   ]
  },
  {
   "cell_type": "code",
   "execution_count": 149,
   "id": "a5721d08-9d82-44b1-a141-0f8ce5f85680",
   "metadata": {},
   "outputs": [],
   "source": [
    "def replay():\n",
    "    answer = input('Do you want to play again? (Y or N): ')\n",
    "    if answer == 'Y':\n",
    "        return True\n",
    "    elif answer == 'N':\n",
    "        return False\n",
    "    else:\n",
    "        return replay()"
   ]
  },
  {
   "cell_type": "markdown",
   "id": "59d94d29-d8b7-4c11-9416-5bef58202a7c",
   "metadata": {},
   "source": [
    "### Step 10 - Combine all functions with while loops to run the game!"
   ]
  },
  {
   "cell_type": "code",
   "execution_count": 150,
   "id": "f2bf8012-65bd-4d81-bebd-dfaada8954e7",
   "metadata": {},
   "outputs": [
    {
     "name": "stdout",
     "output_type": "stream",
     "text": [
      "   |   |\n",
      "   | O |  \n",
      "   |   |\n",
      "-----------\n",
      "   |   |\n",
      " X | O | X\n",
      "   |   |\n",
      "-----------\n",
      "   |   |\n",
      " X | O | O\n",
      "   |   |\n",
      "Player 2 has won!\n"
     ]
    },
    {
     "name": "stdin",
     "output_type": "stream",
     "text": [
      "Do you want to play again? (Y or N):  7\n",
      "Do you want to play again? (Y or N):  n\n",
      "Do you want to play again? (Y or N):  N\n"
     ]
    }
   ],
   "source": [
    "print('Welcome to Tic Tac Toe!')\n",
    "\n",
    "while True:\n",
    "    # Reset the board\n",
    "    theBoard = [' '] * 10\n",
    "    player1_marker, player2_marker = player_input()\n",
    "    turn = choose_first()\n",
    "    print(turn + ' will go first.')\n",
    "    \n",
    "    play_game = input('Are you ready to play? Enter Yes or No.')\n",
    "    \n",
    "    if play_game.lower()[0] == 'y':\n",
    "        game_on = True\n",
    "    else:\n",
    "        game_on = False\n",
    "\n",
    "    while game_on:\n",
    "        if turn == 'Player 1':\n",
    "            # Player1's turn.\n",
    "            \n",
    "            display_board(theBoard)\n",
    "            position = player_choice(theBoard)\n",
    "            place_marker(theBoard, player1_marker, position)\n",
    "\n",
    "            if win_check(theBoard, player1_marker):\n",
    "                display_board(theBoard)\n",
    "                print('Congratulations! You have won the game!')\n",
    "                game_on = False\n",
    "            else:\n",
    "                if full_board_check(theBoard):\n",
    "                    display_board(theBoard)\n",
    "                    print('The game is a draw!')\n",
    "                    break\n",
    "                else:\n",
    "                    turn = 'Player 2'\n",
    "\n",
    "        else:\n",
    "            # Player2's turn.\n",
    "            \n",
    "            display_board(theBoard)\n",
    "            position = player_choice(theBoard)\n",
    "            place_marker(theBoard, player2_marker, position)\n",
    "\n",
    "            if win_check(theBoard, player2_marker):\n",
    "                display_board(theBoard)\n",
    "                print('Player 2 has won!')\n",
    "                game_on = False\n",
    "            else:\n",
    "                if full_board_check(theBoard):\n",
    "                    display_board(theBoard)\n",
    "                    print('The game is a draw!')\n",
    "                    break\n",
    "                else:\n",
    "                    turn = 'Player 1'\n",
    "\n",
    "    if not replay():\n",
    "        break"
   ]
  },
  {
   "cell_type": "code",
   "execution_count": null,
   "id": "6ec1ff0c-d132-437d-a2cb-6f1a734bb8dd",
   "metadata": {},
   "outputs": [],
   "source": []
  }
 ],
 "metadata": {
  "kernelspec": {
   "display_name": "Python 3 (ipykernel)",
   "language": "python",
   "name": "python3"
  },
  "language_info": {
   "codemirror_mode": {
    "name": "ipython",
    "version": 3
   },
   "file_extension": ".py",
   "mimetype": "text/x-python",
   "name": "python",
   "nbconvert_exporter": "python",
   "pygments_lexer": "ipython3",
   "version": "3.12.4"
  }
 },
 "nbformat": 4,
 "nbformat_minor": 5
}
