{
 "cells": [
  {
   "cell_type": "markdown",
   "id": "d06d41ee-d598-4a32-b0e4-4ac3e2694007",
   "metadata": {},
   "source": [
    "# Object Oriented Programming"
   ]
  },
  {
   "cell_type": "markdown",
   "id": "ccf22ee8-4c2b-49d2-9c72-6bc4a16c1df7",
   "metadata": {},
   "source": [
    "## Homework Assignment"
   ]
  },
  {
   "cell_type": "markdown",
   "id": "e505bbbd-c99f-47eb-b67d-0f10cb40ed28",
   "metadata": {},
   "source": [
    "### Problem 1"
   ]
  },
  {
   "cell_type": "markdown",
   "id": "33c57146-e3f2-4c4a-8bc9-e1a39544716d",
   "metadata": {},
   "source": [
    "Fill in the Line class methods to accept coordinates as a pair of tuples and return the slope and distance of the line."
   ]
  },
  {
   "cell_type": "code",
   "execution_count": 4,
   "id": "78b9ea0c-c23a-456a-8e61-57437dc3ee37",
   "metadata": {},
   "outputs": [],
   "source": [
    "import math\n",
    "class Line:\n",
    "    \n",
    "    def __init__(self,coor1,coor2):\n",
    "        self.coor1 = coor1\n",
    "        self.coor2 = coor2\n",
    "    \n",
    "    def distance(self):\n",
    "        return math.sqrt((self.coor2[0]-self.coor1[0])**2 + (self.coor2[1]-self.coor1[1])**2)\n",
    "    \n",
    "    def slope(self):\n",
    "        return (self.coor2[1]-self.coor1[1]) / (self.coor2[0]-self.coor1[0])"
   ]
  },
  {
   "cell_type": "code",
   "execution_count": 5,
   "id": "e529bbe1-f1ab-4748-98c6-d0a4315f0fa7",
   "metadata": {},
   "outputs": [],
   "source": [
    "# EXAMPLE OUTPUT\n",
    "\n",
    "coordinate1 = (3,2)\n",
    "coordinate2 = (8,10)\n",
    "\n",
    "li = Line(coordinate1,coordinate2)"
   ]
  },
  {
   "cell_type": "code",
   "execution_count": 6,
   "id": "b858a07a-5940-4151-812c-de8f10b5903f",
   "metadata": {},
   "outputs": [
    {
     "data": {
      "text/plain": [
       "9.433981132056603"
      ]
     },
     "execution_count": 6,
     "metadata": {},
     "output_type": "execute_result"
    }
   ],
   "source": [
    "li.distance()"
   ]
  },
  {
   "cell_type": "code",
   "execution_count": 7,
   "id": "1a725844-1e8c-4040-83ab-cadf0d0f9881",
   "metadata": {},
   "outputs": [
    {
     "data": {
      "text/plain": [
       "1.6"
      ]
     },
     "execution_count": 7,
     "metadata": {},
     "output_type": "execute_result"
    }
   ],
   "source": [
    "li.slope()"
   ]
  },
  {
   "cell_type": "markdown",
   "id": "dbcfe16c-e883-41f8-81bf-c7061c729114",
   "metadata": {},
   "source": [
    "### Problem 2"
   ]
  },
  {
   "cell_type": "markdown",
   "id": "5f38421a-2199-4b26-b050-a71017ab3b9e",
   "metadata": {},
   "source": [
    "Fill in the class"
   ]
  },
  {
   "cell_type": "code",
   "execution_count": 8,
   "id": "bbef2df9-af5c-483d-b460-1df13ab40717",
   "metadata": {},
   "outputs": [],
   "source": [
    "import math\n",
    "class Cylinder:\n",
    "    \n",
    "    def __init__(self,height=1,radius=1):\n",
    "        self.height = height\n",
    "        self.radius = radius\n",
    "        \n",
    "    def volume(self):\n",
    "        # volume of cylinder = π r² h\n",
    "        return math.pi * self.radius**2 * self.height\n",
    "    \n",
    "    def surface_area(self):\n",
    "        # surface area of cylinder: A = 2πrh + 2πr2\n",
    "        return (2*math.pi * self.radius * self.height) + (2*math.pi * self.radius**2)"
   ]
  },
  {
   "cell_type": "code",
   "execution_count": 9,
   "id": "dab3f0d5-4a7e-4714-b744-c8aeb32f33ca",
   "metadata": {},
   "outputs": [],
   "source": [
    "# EXAMPLE OUTPUT\n",
    "c = Cylinder(2,3)"
   ]
  },
  {
   "cell_type": "code",
   "execution_count": 12,
   "id": "3ddb66c4-df01-45e3-bb58-1fa04fc974f2",
   "metadata": {},
   "outputs": [],
   "source": [
    "c.volume()"
   ]
  },
  {
   "cell_type": "code",
   "execution_count": 11,
   "id": "2ca10dfb-0f28-4621-af41-b8e8efa1d1a1",
   "metadata": {},
   "outputs": [],
   "source": [
    "c.surface_area()"
   ]
  },
  {
   "cell_type": "code",
   "execution_count": null,
   "id": "b0c37e0b-8882-4338-81db-2526666edee7",
   "metadata": {},
   "outputs": [],
   "source": []
  }
 ],
 "metadata": {
  "kernelspec": {
   "display_name": "Python 3 (ipykernel)",
   "language": "python",
   "name": "python3"
  },
  "language_info": {
   "codemirror_mode": {
    "name": "ipython",
    "version": 3
   },
   "file_extension": ".py",
   "mimetype": "text/x-python",
   "name": "python",
   "nbconvert_exporter": "python",
   "pygments_lexer": "ipython3",
   "version": "3.12.4"
  }
 },
 "nbformat": 4,
 "nbformat_minor": 5
}
