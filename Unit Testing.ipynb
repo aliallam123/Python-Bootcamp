{
 "cells": [
  {
   "cell_type": "markdown",
   "id": "1004532b-a392-4f97-a1cd-2792e8e341d3",
   "metadata": {},
   "source": [
    "# Unit Testing"
   ]
  },
  {
   "cell_type": "markdown",
   "id": "159ad381-2484-42e3-83a5-f40b7e71bfd1",
   "metadata": {},
   "source": [
    "Equally important as writing good code is writing good tests. Better to find bugs yourself than have them reported to you by end users!\r\n",
    "\r\n",
    "For this section we'll be working with files outside the notebook. We'll save our code to a .py file, and then save our test script to another .py file. Normally we would code these files using a text editor like Brackets or Atom, or inside an IDE like Spyder or Pycharm. But, since we're here, let's use Jupyter!\r\n",
    "\r\n",
    "Recall that with some IPython magic we can write the contents of a cell to a file using %%writefile.\r\n",
    "Something we haven't seen yet; you can run terminal commands from a jupyter cell using !"
   ]
  },
  {
   "cell_type": "markdown",
   "id": "98a0b26f-3844-4ee5-86a5-bae8ade5712d",
   "metadata": {},
   "source": [
    "## Testing tools"
   ]
  },
  {
   "cell_type": "markdown",
   "id": "499452b5-edbd-4097-9f89-181393da50f2",
   "metadata": {},
   "source": [
    "There are dozens of good testing libraries out there. Most are third-party packages that require an install, such as:\n",
    "\n",
    "pylint\n",
    "\n",
    "pyflakes\n",
    "\n",
    "pep8"
   ]
  },
  {
   "cell_type": "markdown",
   "id": "5a6edb5c-0766-4bc7-aba4-4096efffaa39",
   "metadata": {},
   "source": [
    "1) These are simple tools that merely look at your code, and they'll tell you if there are style issues or simple problems like variable names being called before assignment.\n",
    "\n",
    "2) A far better way to test your code is to write tests that send sample data to your program, and compare what's returned to a desired outcome.\n",
    "Two such tools are available from the standard library:\n",
    "\n",
    "unittest\n",
    "doctest\n",
    "Let's look at pylint first, then we'll do some heavier lifting with unittest."
   ]
  },
  {
   "cell_type": "markdown",
   "id": "300060f4-f4b5-4b08-bea7-506358df755b",
   "metadata": {},
   "source": [
    "There are several testing tools, we will focus on two:\n",
    "\n",
    "__pylint__: This is a library that looks at your code and reports back possible issues.\n",
    "\n",
    "__unittest__: This built-in library will allow to test your own programs and check you are getting desired outputs."
   ]
  },
  {
   "cell_type": "markdown",
   "id": "c5aa43a3-4be2-421b-b7fe-36f917a84fad",
   "metadata": {},
   "source": [
    "# Pylint Overview"
   ]
  },
  {
   "cell_type": "markdown",
   "id": "32368b67-74b6-4a0f-b6b5-d3547539091e",
   "metadata": {},
   "source": [
    "pylint tests for style as well as some very basic program logic."
   ]
  },
  {
   "cell_type": "code",
   "execution_count": 2,
   "id": "e740005f-d13d-4fde-b370-09230c629fa9",
   "metadata": {},
   "outputs": [
    {
     "name": "stdout",
     "output_type": "stream",
     "text": [
      "Collecting pylint\n",
      "  Downloading pylint-3.3.1-py3-none-any.whl.metadata (12 kB)\n",
      "Requirement already satisfied: platformdirs>=2.2.0 in c:\\users\\banta\\anaconda\\lib\\site-packages (from pylint) (3.10.0)\n",
      "Collecting astroid<=3.4.0-dev0,>=3.3.4 (from pylint)\n",
      "  Downloading astroid-3.3.4-py3-none-any.whl.metadata (4.5 kB)\n",
      "Collecting isort!=5.13.0,<6,>=4.2.5 (from pylint)\n",
      "  Downloading isort-5.13.2-py3-none-any.whl.metadata (12 kB)\n",
      "Collecting mccabe<0.8,>=0.6 (from pylint)\n",
      "  Downloading mccabe-0.7.0-py2.py3-none-any.whl.metadata (5.0 kB)\n",
      "Collecting tomlkit>=0.10.1 (from pylint)\n",
      "  Downloading tomlkit-0.13.2-py3-none-any.whl.metadata (2.7 kB)\n",
      "Collecting dill>=0.3.6 (from pylint)\n",
      "  Downloading dill-0.3.9-py3-none-any.whl.metadata (10 kB)\n",
      "Requirement already satisfied: colorama>=0.4.5 in c:\\users\\banta\\anaconda\\lib\\site-packages (from pylint) (0.4.6)\n",
      "Downloading pylint-3.3.1-py3-none-any.whl (521 kB)\n",
      "Downloading astroid-3.3.4-py3-none-any.whl (274 kB)\n",
      "Downloading dill-0.3.9-py3-none-any.whl (119 kB)\n",
      "Downloading isort-5.13.2-py3-none-any.whl (92 kB)\n",
      "Downloading mccabe-0.7.0-py2.py3-none-any.whl (7.3 kB)\n",
      "Downloading tomlkit-0.13.2-py3-none-any.whl (37 kB)\n",
      "Installing collected packages: tomlkit, mccabe, isort, dill, astroid, pylint\n",
      "Successfully installed astroid-3.3.4 dill-0.3.9 isort-5.13.2 mccabe-0.7.0 pylint-3.3.1 tomlkit-0.13.2\n",
      "Note: you may need to restart the kernel to use updated packages.\n"
     ]
    }
   ],
   "source": [
    "pip install pylint"
   ]
  },
  {
   "cell_type": "code",
   "execution_count": 3,
   "id": "2d4e1589-c640-4f2c-aaba-2573e868814b",
   "metadata": {},
   "outputs": [
    {
     "name": "stdout",
     "output_type": "stream",
     "text": [
      "Writing simple1.py\n"
     ]
    }
   ],
   "source": [
    "%%writefile simple1.py\n",
    "a = 1\n",
    "b = 2\n",
    "print(a)\n",
    "print(B)"
   ]
  },
  {
   "cell_type": "markdown",
   "id": "f647c808-6db1-4553-9daf-e94af9bae602",
   "metadata": {},
   "source": [
    "Now let's check it using pylint"
   ]
  },
  {
   "cell_type": "code",
   "execution_count": 4,
   "id": "1fb85051-04aa-49ae-a831-43bc324202b7",
   "metadata": {},
   "outputs": [
    {
     "name": "stdout",
     "output_type": "stream",
     "text": [
      "************* Module simple1\n",
      "simple1.py:1:0: C0114: Missing module docstring (missing-module-docstring)\n",
      "simple1.py:1:0: C0103: Constant name \"a\" doesn't conform to UPPER_CASE naming style (invalid-name)\n",
      "simple1.py:2:0: C0103: Constant name \"b\" doesn't conform to UPPER_CASE naming style (invalid-name)\n",
      "simple1.py:4:6: E0602: Undefined variable 'B' (undefined-variable)\n",
      "\n",
      "-----------------------------------\n",
      "Your code has been rated at 0.00/10\n",
      "\n"
     ]
    }
   ],
   "source": [
    "! pylint simple1.py"
   ]
  },
  {
   "cell_type": "markdown",
   "id": "d198c080-b8cf-4e31-8876-d55c56ee6861",
   "metadata": {},
   "source": [
    "Pylint first lists some styling issues - it would like to see an extra newline at the end, modules and function definitions should have descriptive docstrings, and single characters are a poor choice for variable names.\n",
    "\n",
    "More importantly, however, pylint identified an error in the program - a variable called before assignment. This needs fixing.\n",
    "\n",
    "Note that pylint scored our program a negative 12.5 out of 10. Let's try to improve that!"
   ]
  },
  {
   "cell_type": "code",
   "execution_count": 5,
   "id": "039fe7ce-f029-4af2-bc89-8146e970731e",
   "metadata": {},
   "outputs": [
    {
     "name": "stdout",
     "output_type": "stream",
     "text": [
      "Overwriting simple1.py\n"
     ]
    }
   ],
   "source": [
    "%%writefile simple1.py\n",
    "\"\"\"\n",
    "A very simple script.\n",
    "\"\"\"\n",
    "\n",
    "def myfunc():\n",
    "    \"\"\"\n",
    "    An extremely simple function.\n",
    "    \"\"\"\n",
    "    first = 1\n",
    "    second = 2\n",
    "    print(first)\n",
    "    print(second)\n",
    "\n",
    "myfunc()"
   ]
  },
  {
   "cell_type": "code",
   "execution_count": 7,
   "id": "e8a7d032-5a99-4cfb-a2ec-49f159510498",
   "metadata": {},
   "outputs": [
    {
     "name": "stdout",
     "output_type": "stream",
     "text": [
      "\n",
      "--------------------------------------------------------------------\n",
      "Your code has been rated at 10.00/10 (previous run: 0.00/10, +10.00)\n",
      "\n"
     ]
    }
   ],
   "source": [
    "! pylint simple1.py"
   ]
  },
  {
   "cell_type": "markdown",
   "id": "1f91c8a4-56cd-4f04-9869-c5ab9bde6fb8",
   "metadata": {},
   "source": [
    "Much better! Our score climbed to 8.33 out of 10. Unfortunately, the final newline has to do with how jupyter writes to a file, and there's not much we can do about that here. Still, pylint helped us troubleshoot some of our problems. But what if the problem was more complex?"
   ]
  },
  {
   "cell_type": "markdown",
   "id": "22bf6698-90b7-4267-9e0b-76720c9a1106",
   "metadata": {},
   "source": [
    "### You don't always have to aim for a 10/10, the rating is based off how a machine reads the code. So the word can work perfectly fine but if the computer finds it hard to read because of maybe an indentation error (using tab instead of space - because different text readers use different length tabs) then it might not give a perfect 10/10 score even when the code runs perfectly fine"
   ]
  },
  {
   "cell_type": "markdown",
   "id": "407272b6-e939-4d23-a4dc-0671ba33e89b",
   "metadata": {},
   "source": [
    "### This method is also good in the real work environment when you want to score someone's code if you are the manager and see all the code errors and comments (the whole thing will show when run on command prompt/terminal - not just the score!) or when you want to share the rating and info to your manager"
   ]
  },
  {
   "cell_type": "markdown",
   "id": "ddc581b7-ac7f-40f3-9632-403229e42c82",
   "metadata": {},
   "source": [
    ":)"
   ]
  },
  {
   "cell_type": "markdown",
   "id": "b0dec7a9-aea7-4c07-8059-393c08318814",
   "metadata": {},
   "source": [
    "# Unit Testing - Part 2"
   ]
  },
  {
   "cell_type": "markdown",
   "id": "af6cc3c0-b474-420e-9cb3-549e57c54b5c",
   "metadata": {},
   "source": [
    "unittest lets you write your own test programs. The goal is to send a specific set of data to your program, and analyze the returned results against an expected result."
   ]
  },
  {
   "cell_type": "markdown",
   "id": "1ab3278e-9a74-4ca4-b703-3c10248d6f2d",
   "metadata": {},
   "source": [
    "Let's generate a simple script that capitalizes words in a given string. We'll call it cap.py."
   ]
  },
  {
   "cell_type": "code",
   "execution_count": 11,
   "id": "97b7d22c-a7c8-479f-ab52-1d215301c6ac",
   "metadata": {},
   "outputs": [
    {
     "name": "stdout",
     "output_type": "stream",
     "text": [
      "Writing cap.py\n"
     ]
    }
   ],
   "source": [
    "%%writefile cap.py\n",
    "def cap_text(text):\n",
    "    return text.capitalize()"
   ]
  },
  {
   "cell_type": "markdown",
   "id": "5e5fbaec-44e0-47a8-a99a-7db9d5f8cc0e",
   "metadata": {},
   "source": [
    "Now we'll write a test script. We can call it whatever we want, but test_cap.py seems an obvious choice."
   ]
  }
 ],
 "metadata": {
  "kernelspec": {
   "display_name": "Python 3 (ipykernel)",
   "language": "python",
   "name": "python3"
  },
  "language_info": {
   "codemirror_mode": {
    "name": "ipython",
    "version": 3
   },
   "file_extension": ".py",
   "mimetype": "text/x-python",
   "name": "python",
   "nbconvert_exporter": "python",
   "pygments_lexer": "ipython3",
   "version": "3.12.4"
  }
 },
 "nbformat": 4,
 "nbformat_minor": 5
}
