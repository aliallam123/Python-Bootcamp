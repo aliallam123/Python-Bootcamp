{
 "cells": [
  {
   "cell_type": "markdown",
   "id": "1c05e371-c1b9-4dc7-8c4d-7ad30f8022b8",
   "metadata": {},
   "source": [
    "# Function Practice Exercises\n",
    "Problems are arranged in increasing difficulty:\n",
    "\n",
    "Warmup - these can be solved using basic comparisons and methods\n",
    "\n",
    "Level 1 - these may involve if/then conditional statements and simple methods\n",
    "\n",
    "Level 2 - these may require iterating over sequences, usually with some kind of loop\n",
    "\n",
    "Challenging - these will take some creativity to solve"
   ]
  },
  {
   "cell_type": "markdown",
   "id": "fcca3a10-349c-4d23-a4a4-40dc1a31af7a",
   "metadata": {},
   "source": [
    "### WARMUP SECTION:\n",
    "\n",
    "LESSER OF TWO EVENS: Write a function that returns the lesser of two given numbers if both numbers are even, but returns the greater if one or both numbers are odd"
   ]
  },
  {
   "cell_type": "markdown",
   "id": "518c3c3e-a258-468e-944b-9d5ad220eef4",
   "metadata": {},
   "source": [
    "lesser_of_two_evens(2,4) --> 2\n",
    "\n",
    "lesser_of_two_evens(2,5) --> 5"
   ]
  },
  {
   "cell_type": "code",
   "execution_count": 371,
   "id": "b5953b65-73f0-4bf1-80d6-fa679ab84c63",
   "metadata": {},
   "outputs": [],
   "source": [
    "def lesser_of_two_evens(a,b):\n",
    "    if a > b:\n",
    "        return b\n",
    "    else:\n",
    "        return a"
   ]
  },
  {
   "cell_type": "code",
   "execution_count": 372,
   "id": "a03e3c23-d664-47bb-bfa0-339dcff5a78d",
   "metadata": {},
   "outputs": [
    {
     "data": {
      "text/plain": [
       "2"
      ]
     },
     "execution_count": 372,
     "metadata": {},
     "output_type": "execute_result"
    }
   ],
   "source": [
    "# Check\n",
    "lesser_of_two_evens(2,4)"
   ]
  },
  {
   "cell_type": "code",
   "execution_count": 373,
   "id": "f88d2a19-9253-40dc-b5e3-c0d70805fa84",
   "metadata": {},
   "outputs": [
    {
     "data": {
      "text/plain": [
       "2"
      ]
     },
     "execution_count": 373,
     "metadata": {},
     "output_type": "execute_result"
    }
   ],
   "source": [
    "# Check\n",
    "lesser_of_two_evens(2,5)"
   ]
  },
  {
   "cell_type": "markdown",
   "id": "70aeedbd-37ad-4fdb-a6f7-3f8844f4ae7b",
   "metadata": {},
   "source": [
    "ANIMAL CRACKERS: Write a function takes a two-word string and returns True if both words begin with same letter"
   ]
  },
  {
   "cell_type": "markdown",
   "id": "823bb203-61d0-4fd6-b5fd-23035cc9e3ef",
   "metadata": {},
   "source": [
    "animal_crackers('Levelheaded Llama') --> True\n",
    "\n",
    "animal_crackers('Crazy Kangaroo') --> False"
   ]
  },
  {
   "cell_type": "code",
   "execution_count": 374,
   "id": "c525906a-1b81-4b14-8ff1-d718d58cc78a",
   "metadata": {},
   "outputs": [],
   "source": [
    "def animal_crackers(text):\n",
    "    words = text.split()\n",
    "\n",
    "    if words[0][0] == words[1][0]: #the first [0] in words[0][0] is the word, then the second [0] is the first letter of that word.\n",
    "        return True\n",
    "    else:\n",
    "        return False"
   ]
  },
  {
   "cell_type": "code",
   "execution_count": 375,
   "id": "d25c4e14-4a23-468c-8c06-e91f756c2559",
   "metadata": {},
   "outputs": [
    {
     "data": {
      "text/plain": [
       "True"
      ]
     },
     "execution_count": 375,
     "metadata": {},
     "output_type": "execute_result"
    }
   ],
   "source": [
    "# Check\n",
    "animal_crackers('Levelheaded Llama')"
   ]
  },
  {
   "cell_type": "code",
   "execution_count": 376,
   "id": "ae8533e9-da44-44d1-934c-45f02b0dd6c6",
   "metadata": {},
   "outputs": [
    {
     "data": {
      "text/plain": [
       "False"
      ]
     },
     "execution_count": 376,
     "metadata": {},
     "output_type": "execute_result"
    }
   ],
   "source": [
    "# Check\n",
    "animal_crackers('Crazy Kangaroo')"
   ]
  },
  {
   "cell_type": "markdown",
   "id": "4a4a8194-3c73-4709-9d2f-c3ae7060a5cf",
   "metadata": {},
   "source": [
    "### LEVEL 1 PROBLEMS"
   ]
  },
  {
   "cell_type": "markdown",
   "id": "02f77aa5-1c85-46fd-a436-a8548b71e7cd",
   "metadata": {},
   "source": [
    "OLD MACDONALD: Write a function that capitalizes the first and fourth letters of a name"
   ]
  },
  {
   "cell_type": "markdown",
   "id": "4204f191-c9af-40c0-bdb3-9d3f3af12a62",
   "metadata": {},
   "source": [
    "old_macdonald('macdonald') --> MacDonald"
   ]
  },
  {
   "cell_type": "markdown",
   "id": "f7a6ef36-fdd1-4014-be3f-096128401486",
   "metadata": {},
   "source": [
    "Note: 'macdonald'.capitalize() returns 'Macdonald'"
   ]
  },
  {
   "cell_type": "code",
   "execution_count": 377,
   "id": "47fd607d-61d9-464d-bb5a-7ddb5e12a8b3",
   "metadata": {},
   "outputs": [],
   "source": [
    "def old_macdonald(name):\n",
    "    \n",
    "    return name[0].capitalize() + name[1:3] + name[3].capitalize() + name[4:]"
   ]
  },
  {
   "cell_type": "code",
   "execution_count": 378,
   "id": "72eea107-0e8f-49f3-8dea-b01f4f6bc4cd",
   "metadata": {},
   "outputs": [
    {
     "data": {
      "text/plain": [
       "'MacDonald'"
      ]
     },
     "execution_count": 378,
     "metadata": {},
     "output_type": "execute_result"
    }
   ],
   "source": [
    "old_macdonald('macdonald')"
   ]
  },
  {
   "cell_type": "markdown",
   "id": "4913af33-4105-4e07-9460-ca90686947d9",
   "metadata": {},
   "source": [
    "### MASTER YODA: Given a sentence, return a sentence with the words reversed"
   ]
  },
  {
   "cell_type": "markdown",
   "id": "3b1de023-7e8d-4c29-b7b2-3aaa148aa59d",
   "metadata": {},
   "source": [
    "master_yoda('I am home') --> 'home am I'\n",
    "\n",
    "master_yoda('We are ready') --> 'ready are We'"
   ]
  },
  {
   "cell_type": "markdown",
   "id": "dfb8084a-efed-4ef6-a8a2-5712fd07e0ae",
   "metadata": {},
   "source": [
    "Note: The .join() method may be useful here. \n",
    "\n",
    "The .join() method allows you to join together strings in a list with some connector string. For example, some uses of the .join() method:"
   ]
  },
  {
   "cell_type": "markdown",
   "id": "d7b97587-536c-4ed6-bc6b-327964014f52",
   "metadata": {},
   "source": [
    ">>> \"--\".join(['a','b','c'])\n",
    ">>> \n",
    ">>> 'a--b--c'"
   ]
  },
  {
   "cell_type": "markdown",
   "id": "6f80a7ed-6521-4471-8603-e62a3f913595",
   "metadata": {},
   "source": [
    "This means if you had a list of words you wanted to turn back into a sentence, you could just join them with a single space string:"
   ]
  },
  {
   "cell_type": "markdown",
   "id": "e11dfe8e-3a32-4a5c-ba07-6a733c4a5e53",
   "metadata": {},
   "source": [
    ">>> \" \".join(['Hello','world'])\n",
    "\n",
    ">>> \"Hello world\""
   ]
  },
  {
   "cell_type": "code",
   "execution_count": 379,
   "id": "84f6e817-1d57-4b20-97e3-0dc03616b09f",
   "metadata": {},
   "outputs": [],
   "source": [
    "def master_yoda(text):\n",
    "    words = text.split()\n",
    "\n",
    "    reversed_words = words[::-1]\n",
    "\n",
    "    result = ' '.join(reversed_words)\n",
    "    \n",
    "    return result"
   ]
  },
  {
   "cell_type": "code",
   "execution_count": 380,
   "id": "eb478e69-0263-46ca-93b9-c21e000bed81",
   "metadata": {},
   "outputs": [
    {
     "data": {
      "text/plain": [
       "'is name my hello'"
      ]
     },
     "execution_count": 380,
     "metadata": {},
     "output_type": "execute_result"
    }
   ],
   "source": [
    "# Check\n",
    "master_yoda('hello my name is')"
   ]
  },
  {
   "cell_type": "code",
   "execution_count": 381,
   "id": "ba0a9b01-d941-451d-9143-cffacd40acf6",
   "metadata": {},
   "outputs": [
    {
     "data": {
      "text/plain": [
       "'ready are We'"
      ]
     },
     "execution_count": 381,
     "metadata": {},
     "output_type": "execute_result"
    }
   ],
   "source": [
    "# Check\n",
    "master_yoda('We are ready')"
   ]
  },
  {
   "cell_type": "markdown",
   "id": "42eb8ecc-4ab3-49ae-95eb-831f42cafd67",
   "metadata": {},
   "source": [
    "ALMOST THERE: Given an integer n, return True if n is within 10 of either 100 or 200"
   ]
  },
  {
   "cell_type": "markdown",
   "id": "3936d955-22ae-4398-81e7-502cb50f643a",
   "metadata": {},
   "source": [
    "almost_there(90) --> True\n",
    "\n",
    "almost_there(104) --> True\n",
    "\n",
    "almost_there(150) --> False\n",
    "\n",
    "almost_there(209) --> True"
   ]
  },
  {
   "cell_type": "markdown",
   "id": "fea2b33f-6e86-4d20-859c-4eea103b861f",
   "metadata": {},
   "source": [
    "NOTE: abs(num) returns the absolute value of a number"
   ]
  },
  {
   "cell_type": "code",
   "execution_count": 382,
   "id": "61fa0804-50fb-4498-846a-36fd7963795c",
   "metadata": {},
   "outputs": [],
   "source": [
    "def almost_there(n):\n",
    "    if 90<=n<=110 or 190<=n<=210:\n",
    "        return True\n",
    "    else:\n",
    "        return False"
   ]
  },
  {
   "cell_type": "code",
   "execution_count": 383,
   "id": "8cc9bc03-069c-4dae-86de-4870772a5e1d",
   "metadata": {},
   "outputs": [
    {
     "data": {
      "text/plain": [
       "True"
      ]
     },
     "execution_count": 383,
     "metadata": {},
     "output_type": "execute_result"
    }
   ],
   "source": [
    "almost_there(92)"
   ]
  },
  {
   "cell_type": "markdown",
   "id": "d4574303-e8a4-44c9-b559-97156add8282",
   "metadata": {},
   "source": [
    "# LEVEL 2 PROBLEMS"
   ]
  },
  {
   "cell_type": "markdown",
   "id": "f854c371-2a0a-4439-a134-d14a62ee1a7f",
   "metadata": {},
   "source": [
    "### FIND 33:\n",
    "Given a list of ints, return True if the array contains a 3 next to a 3 somewhere.\n",
    "\n",
    "has_33([1, 3, 3]) → True\n",
    "\n",
    "has_33([1, 3, 1, 3]) → False\n",
    "\n",
    "has_33([3, 1, 3]) → False"
   ]
  },
  {
   "cell_type": "code",
   "execution_count": 384,
   "id": "085ca80f-79d2-4cd5-b67f-6b6eaa87e884",
   "metadata": {},
   "outputs": [],
   "source": [
    "def has_33(nums):\n",
    "    for i in range(len(nums)-1):\n",
    "        if nums[i] == 3 and nums[i+1] ==3:\n",
    "            return True\n",
    "    return False"
   ]
  },
  {
   "cell_type": "code",
   "execution_count": 385,
   "id": "c5378441-06e9-4c21-8034-f489b33c858b",
   "metadata": {},
   "outputs": [
    {
     "data": {
      "text/plain": [
       "True"
      ]
     },
     "execution_count": 385,
     "metadata": {},
     "output_type": "execute_result"
    }
   ],
   "source": [
    "# Check\n",
    "has_33([1, 3, 3])"
   ]
  },
  {
   "cell_type": "code",
   "execution_count": 386,
   "id": "dd611bd5-5e37-4a33-b9bc-5e88565d6330",
   "metadata": {},
   "outputs": [
    {
     "data": {
      "text/plain": [
       "False"
      ]
     },
     "execution_count": 386,
     "metadata": {},
     "output_type": "execute_result"
    }
   ],
   "source": [
    "# Check\n",
    "has_33([1, 3, 1, 3])"
   ]
  },
  {
   "cell_type": "code",
   "execution_count": 387,
   "id": "5d3cda7f-2a2f-4e29-b809-22247a99db72",
   "metadata": {},
   "outputs": [
    {
     "data": {
      "text/plain": [
       "False"
      ]
     },
     "execution_count": 387,
     "metadata": {},
     "output_type": "execute_result"
    }
   ],
   "source": [
    "# Check\n",
    "has_33([3, 1, 3])"
   ]
  },
  {
   "cell_type": "markdown",
   "id": "be978137-6855-4fb0-a5a4-e5679724d1f2",
   "metadata": {},
   "source": [
    "### PAPER DOLL:"
   ]
  },
  {
   "cell_type": "markdown",
   "id": "ee5a6dcd-b9f2-4742-9f7e-fb0c05f44b4a",
   "metadata": {},
   "source": [
    "Given a string, return a string where for every character in the original there are three characters"
   ]
  },
  {
   "cell_type": "markdown",
   "id": "3d0c24fb-43ef-4904-9b69-22f4d18cd5c8",
   "metadata": {},
   "source": [
    "paper_doll('Hello') --> 'HHHeeellllllooo'\n",
    "\n",
    "paper_doll('Mississippi') --> 'MMMiiissssssiiippppppiii'"
   ]
  },
  {
   "cell_type": "code",
   "execution_count": 388,
   "id": "529f07a9-44d1-4fd4-82b0-839276a48169",
   "metadata": {},
   "outputs": [],
   "source": [
    "def paper_doll(text):\n",
    "    result = \"\"\n",
    "\n",
    "    for char in text:\n",
    "        result += char*3\n",
    "    \n",
    "    return result"
   ]
  },
  {
   "cell_type": "code",
   "execution_count": 389,
   "id": "103ceb3f-8bc5-40e4-af6d-5b819c6a976c",
   "metadata": {},
   "outputs": [
    {
     "data": {
      "text/plain": [
       "'HHHeeellllllooo'"
      ]
     },
     "execution_count": 389,
     "metadata": {},
     "output_type": "execute_result"
    }
   ],
   "source": [
    "# Check\n",
    "paper_doll('Hello')"
   ]
  },
  {
   "cell_type": "code",
   "execution_count": 390,
   "id": "f61607b0-10fa-4713-89fc-8ae8512c1707",
   "metadata": {},
   "outputs": [
    {
     "data": {
      "text/plain": [
       "'MMMiiissssssiiissssssiiippppppiii'"
      ]
     },
     "execution_count": 390,
     "metadata": {},
     "output_type": "execute_result"
    }
   ],
   "source": [
    "# Check\n",
    "paper_doll('Mississippi')"
   ]
  },
  {
   "cell_type": "markdown",
   "id": "14209d4f-f92f-4334-a26d-94e7eb533c3e",
   "metadata": {},
   "source": [
    "### BLACKJACK:"
   ]
  },
  {
   "cell_type": "markdown",
   "id": "dad3c9ad-0f70-4a57-adac-fc202d9882cc",
   "metadata": {},
   "source": [
    "Given three integers between 1 and 11, if their sum is less than or equal to 21, return their sum. If their sum exceeds 21 and there's an eleven, reduce the total sum by 10. Finally, if the sum (even after adjustment) exceeds 21, return 'BUST'"
   ]
  },
  {
   "cell_type": "markdown",
   "id": "df8be7f6-1969-4772-beb6-52696ca60e48",
   "metadata": {},
   "source": [
    "blackjack(5,6,7) --> 18\n",
    "\r\n",
    "blackjack(9,9,9) --> 'BUST\n",
    "\n",
    "'\r\n",
    "blackjack(9,9,11) --> 1919"
   ]
  },
  {
   "cell_type": "code",
   "execution_count": 391,
   "id": "601d7701-67e0-4c4c-b846-756ffc1eb860",
   "metadata": {},
   "outputs": [],
   "source": [
    "def blackjack(a,b,c):\n",
    "    sum = a + b + c\n",
    "    \n",
    "    if 1 <= a <= 11 and 1 <= b <= 11 and 1 <= c <= 11:\n",
    "        if sum <= 21:\n",
    "            return sum\n",
    "\n",
    "        elif sum > 21 and (a == 11 or b == 11 or c == 11):\n",
    "            sum -= 10\n",
    "            if sum <= 21:\n",
    "                return sum\n",
    "            else:\n",
    "                return 'BUST'\n",
    "\n",
    "        else:\n",
    "            return 'BUST'\n",
    "            \n",
    "    else:\n",
    "        return 'Please input a card number from 1-11!'"
   ]
  },
  {
   "cell_type": "code",
   "execution_count": 394,
   "id": "e330f4a2-d31b-4015-8a2a-d87bb8847826",
   "metadata": {},
   "outputs": [],
   "source": [
    "def blackjack(a,b,c):\n",
    "    sum = a+b+c\n",
    "    \n",
    "    if sum <= 21:\n",
    "        return sum\n",
    "    elif 11 in [a,b,c] and (sum - 10) <= 21:\n",
    "        return sum - 10\n",
    "    else: \n",
    "        return 'BUST'"
   ]
  },
  {
   "cell_type": "code",
   "execution_count": 395,
   "id": "6f49630d-635d-4998-9f5c-a3128edb7e1c",
   "metadata": {},
   "outputs": [
    {
     "data": {
      "text/plain": [
       "'BUST'"
      ]
     },
     "execution_count": 395,
     "metadata": {},
     "output_type": "execute_result"
    }
   ],
   "source": [
    "# Check\n",
    "blackjack(9,9,9)"
   ]
  },
  {
   "cell_type": "code",
   "execution_count": 396,
   "id": "3d38aaf4-a4d0-4a22-a685-8b1f0cd312be",
   "metadata": {},
   "outputs": [
    {
     "data": {
      "text/plain": [
       "19"
      ]
     },
     "execution_count": 396,
     "metadata": {},
     "output_type": "execute_result"
    }
   ],
   "source": [
    "# Check\n",
    "blackjack(9,9,11)"
   ]
  },
  {
   "cell_type": "markdown",
   "id": "80adebc4-bdd5-4dfd-b408-960536f09ede",
   "metadata": {},
   "source": [
    "### SUMMER OF '69"
   ]
  },
  {
   "cell_type": "markdown",
   "id": "d3a4be0b-f5bc-4f39-b43d-7e3f7299ded3",
   "metadata": {},
   "source": [
    "Return the sum of the numbers in the array, except ignore sections of numbers starting with a 6 and extending to the next 9 (every 6 will be followed by at least one 9). Return 0 for no numbers."
   ]
  },
  {
   "cell_type": "markdown",
   "id": "671107b5-a2f4-4f82-85cf-f2084e58565b",
   "metadata": {},
   "source": [
    "summer_69([1, 3, 5]) --> 9\n",
    "\n",
    "summer_69([4, 5, 6, 7, 8, 9]) --> 9\n",
    "\n",
    "summer_69([2, 1, 6, 9, 11]) --> 14"
   ]
  },
  {
   "cell_type": "code",
   "execution_count": 397,
   "id": "8f911817-0d0e-4994-8161-0c0bc3abe4d0",
   "metadata": {},
   "outputs": [],
   "source": [
    "def summer_69(arr):\n",
    "    total = 0\n",
    "    in_ignore_section = False\n",
    "    \n",
    "    for i in arr:\n",
    "        if i == 6:\n",
    "            in_ignore_section = True\n",
    "            \n",
    "        elif i == 9:\n",
    "            in_ignore_section = False\n",
    "            \n",
    "        elif not in_ignore_section:\n",
    "            total += i\n",
    "        else:\n",
    "            pass\n",
    "    return total"
   ]
  },
  {
   "cell_type": "code",
   "execution_count": 398,
   "id": "7487a41c-5ef9-444a-b219-e4439d29b8b8",
   "metadata": {},
   "outputs": [
    {
     "data": {
      "text/plain": [
       "9"
      ]
     },
     "execution_count": 398,
     "metadata": {},
     "output_type": "execute_result"
    }
   ],
   "source": [
    "# Check\n",
    "summer_69([1, 3, 5])"
   ]
  },
  {
   "cell_type": "code",
   "execution_count": 399,
   "id": "da46a827-b075-4521-9c49-6588ba41b12c",
   "metadata": {},
   "outputs": [
    {
     "data": {
      "text/plain": [
       "9"
      ]
     },
     "execution_count": 399,
     "metadata": {},
     "output_type": "execute_result"
    }
   ],
   "source": [
    "# Check\n",
    "summer_69([4, 5, 6, 7, 8, 9])"
   ]
  },
  {
   "cell_type": "code",
   "execution_count": 400,
   "id": "27abc7a3-1d59-4917-afc9-bd3328a2fc98",
   "metadata": {},
   "outputs": [
    {
     "data": {
      "text/plain": [
       "14"
      ]
     },
     "execution_count": 400,
     "metadata": {},
     "output_type": "execute_result"
    }
   ],
   "source": [
    "# Check\n",
    "summer_69([2, 1, 6, 9, 11])"
   ]
  },
  {
   "cell_type": "markdown",
   "id": "1efbebba-d467-41a4-9710-a745a10dbf44",
   "metadata": {},
   "source": [
    "# CHALLENGING PROBLEM"
   ]
  },
  {
   "cell_type": "markdown",
   "id": "0f12b91a-eda8-4eed-927e-f20a0ea8f4ea",
   "metadata": {},
   "source": [
    "### SPY GAME: "
   ]
  },
  {
   "cell_type": "markdown",
   "id": "c5a918ce-83ea-48a7-ade1-97a9bb134c2f",
   "metadata": {},
   "source": [
    "Write a function that takes in a list of integers and returns True if it contains 007 in order"
   ]
  },
  {
   "cell_type": "markdown",
   "id": "d0939d78-a0c1-4cf0-9c56-73c02b3d9160",
   "metadata": {},
   "source": [
    "spy_game([1,2,4,0,0,7,5]) --> True\n",
    "\n",
    "spy_game([1,0,2,4,0,5,7]) --> True\n",
    "\n",
    "spy_game([1,7,2,0,4,5,0]) --> False"
   ]
  },
  {
   "cell_type": "code",
   "execution_count": 401,
   "id": "af446748-5ba6-4fc0-abc0-ebe2c258d1b0",
   "metadata": {},
   "outputs": [],
   "source": [
    "def spy_game(nums):\n",
    "    count = 0\n",
    "\n",
    "    for i in nums:\n",
    "        if i == 0 and count == 0:\n",
    "            count += 1\n",
    "   \n",
    "        elif i == 0 and count == 1:\n",
    "            count += 1\n",
    "            \n",
    "        elif i == 7 and count == 2:\n",
    "            return True\n",
    "\n",
    "    return False"
   ]
  },
  {
   "cell_type": "code",
   "execution_count": 402,
   "id": "fcf420c5-3b8e-4caa-896e-5f11249b5ca0",
   "metadata": {},
   "outputs": [
    {
     "data": {
      "text/plain": [
       "True"
      ]
     },
     "execution_count": 402,
     "metadata": {},
     "output_type": "execute_result"
    }
   ],
   "source": [
    "# Check\n",
    "spy_game([1,2,4,0,0,7,5])"
   ]
  },
  {
   "cell_type": "code",
   "execution_count": 403,
   "id": "90d81ab4-16c5-408b-88c4-e1da10e64e49",
   "metadata": {},
   "outputs": [
    {
     "data": {
      "text/plain": [
       "True"
      ]
     },
     "execution_count": 403,
     "metadata": {},
     "output_type": "execute_result"
    }
   ],
   "source": [
    "# Check\n",
    "spy_game([1,0,2,4,0,5,7])"
   ]
  },
  {
   "cell_type": "code",
   "execution_count": 404,
   "id": "b22e4148-2e6b-46e0-8324-5c9a099ed08e",
   "metadata": {},
   "outputs": [
    {
     "data": {
      "text/plain": [
       "False"
      ]
     },
     "execution_count": 404,
     "metadata": {},
     "output_type": "execute_result"
    }
   ],
   "source": [
    "# Check\n",
    "spy_game([1,7,2,0,4,5,0])"
   ]
  },
  {
   "cell_type": "code",
   "execution_count": 405,
   "id": "097c9081-c1de-4b2c-991e-3103981a4919",
   "metadata": {},
   "outputs": [
    {
     "data": {
      "text/plain": [
       "True"
      ]
     },
     "execution_count": 405,
     "metadata": {},
     "output_type": "execute_result"
    }
   ],
   "source": [
    "spy_game([1,0,2,4,0,5,7])"
   ]
  }
 ],
 "metadata": {
  "kernelspec": {
   "display_name": "Python 3 (ipykernel)",
   "language": "python",
   "name": "python3"
  },
  "language_info": {
   "codemirror_mode": {
    "name": "ipython",
    "version": 3
   },
   "file_extension": ".py",
   "mimetype": "text/x-python",
   "name": "python",
   "nbconvert_exporter": "python",
   "pygments_lexer": "ipython3",
   "version": "3.12.4"
  }
 },
 "nbformat": 4,
 "nbformat_minor": 5
}
