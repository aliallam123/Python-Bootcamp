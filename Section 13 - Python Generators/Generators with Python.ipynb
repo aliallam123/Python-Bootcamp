{
 "cells": [
  {
   "cell_type": "markdown",
   "id": "5bada884-66a1-42a3-893d-6eac3c6499a3",
   "metadata": {},
   "source": [
    "# Generators with Python"
   ]
  },
  {
   "cell_type": "markdown",
   "id": "c022253a-c83f-4cfa-9970-15db6f0006ae",
   "metadata": {},
   "source": [
    "Generators in Python are a type of iterable, like lists or tuples, but they allow you to generate items one at a time and only when needed, rather than storing all items in memory at once. You create a generator using functions with the yield keyword, which pauses the function and resumes on the next item generation. This makes them memory-efficient, especially for large datasets, as they generate items on-the-fly."
   ]
  },
  {
   "cell_type": "code",
   "execution_count": 1,
   "id": "92d1d3c8-f6b9-4198-baf8-dad4fda454b2",
   "metadata": {},
   "outputs": [],
   "source": [
    "def create_cubes(n):\n",
    "    result = []\n",
    "    for x in range(n):\n",
    "        result.append(x**3)\n",
    "    return result"
   ]
  },
  {
   "cell_type": "code",
   "execution_count": 2,
   "id": "9b9243f1-4563-453c-86e2-c2206ac7625a",
   "metadata": {},
   "outputs": [
    {
     "data": {
      "text/plain": [
       "[0, 1, 8, 27, 64]"
      ]
     },
     "execution_count": 2,
     "metadata": {},
     "output_type": "execute_result"
    }
   ],
   "source": [
    "create_cubes(5)"
   ]
  },
  {
   "cell_type": "code",
   "execution_count": 3,
   "id": "ecd37c0b-b258-4837-8a75-69c4eac88408",
   "metadata": {},
   "outputs": [
    {
     "name": "stdout",
     "output_type": "stream",
     "text": [
      "0\n",
      "1\n",
      "8\n",
      "27\n",
      "64\n"
     ]
    }
   ],
   "source": [
    "for x in create_cubes(5):\n",
    "    print(x)"
   ]
  },
  {
   "cell_type": "code",
   "execution_count": 7,
   "id": "52ceb588-b179-48b8-9c84-54ab16b5ed56",
   "metadata": {},
   "outputs": [],
   "source": [
    "# Now we use generators (yield)"
   ]
  },
  {
   "cell_type": "code",
   "execution_count": 5,
   "id": "9b331160-b36e-416d-a663-8183c06b78ed",
   "metadata": {},
   "outputs": [],
   "source": [
    "def create_cubes(n):\n",
    "    result = []\n",
    "    for x in range(n):\n",
    "        yield x**3"
   ]
  },
  {
   "cell_type": "code",
   "execution_count": 6,
   "id": "0b9fb267-725e-4a2b-bfd0-d65fdc45cfba",
   "metadata": {},
   "outputs": [
    {
     "data": {
      "text/plain": [
       "<generator object create_cubes at 0x0000023B974D0790>"
      ]
     },
     "execution_count": 6,
     "metadata": {},
     "output_type": "execute_result"
    }
   ],
   "source": [
    "create_cubes(5)"
   ]
  },
  {
   "cell_type": "code",
   "execution_count": 8,
   "id": "c9548b4d-ab58-448c-af91-f938e53c24dd",
   "metadata": {},
   "outputs": [
    {
     "name": "stdout",
     "output_type": "stream",
     "text": [
      "0\n",
      "1\n",
      "8\n",
      "27\n",
      "64\n"
     ]
    }
   ],
   "source": [
    "for x in create_cubes(5):\n",
    "    print(x)"
   ]
  },
  {
   "cell_type": "code",
   "execution_count": 9,
   "id": "bbbe53ab-d7ef-44e8-b5bf-00044bb50cb9",
   "metadata": {},
   "outputs": [],
   "source": [
    "# Now we use Generators to make a Fibonacci Sequence "
   ]
  },
  {
   "cell_type": "code",
   "execution_count": 12,
   "id": "00c3da7a-51f9-4e05-ae88-f0bfc0e8be26",
   "metadata": {},
   "outputs": [],
   "source": [
    "def gen_fibon(n):\n",
    "\n",
    "    a = 1\n",
    "    b = 1\n",
    "\n",
    "    for i in range(n):\n",
    "        yield a\n",
    "        a,b = b, a + b #now a = b and b = the sum of a and b"
   ]
  },
  {
   "cell_type": "code",
   "execution_count": 13,
   "id": "e9eb5180-f26a-439f-84da-4c0ece7875f1",
   "metadata": {},
   "outputs": [
    {
     "name": "stdout",
     "output_type": "stream",
     "text": [
      "1\n",
      "1\n",
      "2\n",
      "3\n",
      "5\n",
      "8\n",
      "13\n",
      "21\n",
      "34\n",
      "55\n"
     ]
    }
   ],
   "source": [
    "for number in gen_fibon(10):\n",
    "    print(number)"
   ]
  },
  {
   "cell_type": "code",
   "execution_count": 14,
   "id": "8d4a15eb-ec60-4423-bc40-312374fdecb0",
   "metadata": {},
   "outputs": [],
   "source": [
    "# The use of generators saves memory space because the code does not have to keep every number now\n",
    "# Now it justs yields it"
   ]
  },
  {
   "cell_type": "code",
   "execution_count": 15,
   "id": "713f498e-17ce-407e-b9a9-6783e38b61e3",
   "metadata": {},
   "outputs": [],
   "source": [
    "# Let's try a new example"
   ]
  },
  {
   "cell_type": "code",
   "execution_count": 16,
   "id": "f7a7c2b8-2c9c-4396-87c1-168060308c97",
   "metadata": {},
   "outputs": [],
   "source": [
    "def simple_gen():\n",
    "    for x in range(3):\n",
    "        yield x\n",
    "    "
   ]
  },
  {
   "cell_type": "code",
   "execution_count": 18,
   "id": "d94df0ef-0d1e-4970-9b44-3ea38cf231ff",
   "metadata": {},
   "outputs": [
    {
     "name": "stdout",
     "output_type": "stream",
     "text": [
      "0\n",
      "1\n",
      "2\n"
     ]
    }
   ],
   "source": [
    "for number in simple_gen():\n",
    "    print(number)"
   ]
  },
  {
   "cell_type": "code",
   "execution_count": 19,
   "id": "c90d7333-c7f3-4cf8-88b4-ebb29f0944d9",
   "metadata": {},
   "outputs": [],
   "source": [
    "g = simple_gen()"
   ]
  },
  {
   "cell_type": "code",
   "execution_count": 20,
   "id": "450d3c6c-ceaf-4681-a3a6-d86a6db62131",
   "metadata": {},
   "outputs": [
    {
     "data": {
      "text/plain": [
       "<generator object simple_gen at 0x0000023B972CC400>"
      ]
     },
     "execution_count": 20,
     "metadata": {},
     "output_type": "execute_result"
    }
   ],
   "source": [
    "g"
   ]
  },
  {
   "cell_type": "code",
   "execution_count": 21,
   "id": "668f6bbc-db22-40c4-91b5-df1c70431d5a",
   "metadata": {},
   "outputs": [
    {
     "name": "stdout",
     "output_type": "stream",
     "text": [
      "0\n"
     ]
    }
   ],
   "source": [
    "print(next(g))"
   ]
  },
  {
   "cell_type": "code",
   "execution_count": 22,
   "id": "114e513e-ce32-48a5-bfb5-7919cae3a1ad",
   "metadata": {},
   "outputs": [
    {
     "name": "stdout",
     "output_type": "stream",
     "text": [
      "1\n"
     ]
    }
   ],
   "source": [
    "print(next(g))"
   ]
  },
  {
   "cell_type": "code",
   "execution_count": 23,
   "id": "c7863baf-349d-4712-8d10-6d54ce1fcd44",
   "metadata": {},
   "outputs": [
    {
     "name": "stdout",
     "output_type": "stream",
     "text": [
      "2\n"
     ]
    }
   ],
   "source": [
    "print(next(g))"
   ]
  },
  {
   "cell_type": "code",
   "execution_count": 24,
   "id": "c7c1e771-1b8c-4c2a-a6bf-b46568ce85e6",
   "metadata": {},
   "outputs": [
    {
     "ename": "StopIteration",
     "evalue": "",
     "output_type": "error",
     "traceback": [
      "\u001b[1;31m---------------------------------------------------------------------------\u001b[0m",
      "\u001b[1;31mStopIteration\u001b[0m                             Traceback (most recent call last)",
      "Cell \u001b[1;32mIn[24], line 1\u001b[0m\n\u001b[1;32m----> 1\u001b[0m \u001b[38;5;28mprint\u001b[39m(\u001b[38;5;28mnext\u001b[39m(g))\n",
      "\u001b[1;31mStopIteration\u001b[0m: "
     ]
    }
   ],
   "source": [
    "print(next(g))"
   ]
  },
  {
   "cell_type": "code",
   "execution_count": 25,
   "id": "0b898a3a-022b-4090-99b1-981962b55ef0",
   "metadata": {},
   "outputs": [],
   "source": [
    "# This is what the generator is doing, it is iterating and only keeping one value at a time!"
   ]
  },
  {
   "cell_type": "code",
   "execution_count": 26,
   "id": "1dbcf68b-dc1f-4669-82ad-60e27146df9b",
   "metadata": {},
   "outputs": [],
   "source": [
    "# A for loop automatically stops the iteration"
   ]
  },
  {
   "cell_type": "code",
   "execution_count": 27,
   "id": "7b4f58ea-9bd4-402d-8b2f-b611497479c7",
   "metadata": {},
   "outputs": [],
   "source": [
    "# Iter function:"
   ]
  },
  {
   "cell_type": "code",
   "execution_count": 28,
   "id": "13de3a2b-0b9f-41c1-81fd-f57e668a5999",
   "metadata": {},
   "outputs": [],
   "source": [
    "s = 'hello'"
   ]
  },
  {
   "cell_type": "code",
   "execution_count": 29,
   "id": "08b38d36-acd8-4153-8418-150f9e2ad6da",
   "metadata": {},
   "outputs": [
    {
     "name": "stdout",
     "output_type": "stream",
     "text": [
      "h\n",
      "e\n",
      "l\n",
      "l\n",
      "o\n"
     ]
    }
   ],
   "source": [
    "for letter in s:\n",
    "    print(letter)"
   ]
  },
  {
   "cell_type": "code",
   "execution_count": 30,
   "id": "e3dcd6f2-300e-438d-bdc2-d52198638865",
   "metadata": {},
   "outputs": [
    {
     "ename": "TypeError",
     "evalue": "'str' object is not an iterator",
     "output_type": "error",
     "traceback": [
      "\u001b[1;31m---------------------------------------------------------------------------\u001b[0m",
      "\u001b[1;31mTypeError\u001b[0m                                 Traceback (most recent call last)",
      "Cell \u001b[1;32mIn[30], line 1\u001b[0m\n\u001b[1;32m----> 1\u001b[0m \u001b[38;5;28mnext\u001b[39m(s)\n",
      "\u001b[1;31mTypeError\u001b[0m: 'str' object is not an iterator"
     ]
    }
   ],
   "source": [
    "next(s)"
   ]
  },
  {
   "cell_type": "code",
   "execution_count": 31,
   "id": "5e196c16-9b99-46f6-9808-91419d61e07d",
   "metadata": {},
   "outputs": [],
   "source": [
    "# To turn the 'hello' string into a generator:"
   ]
  },
  {
   "cell_type": "code",
   "execution_count": 32,
   "id": "4c0ad5e9-6023-4b44-8a63-fa6548ea9a2d",
   "metadata": {},
   "outputs": [],
   "source": [
    "s_iter = iter(s)"
   ]
  },
  {
   "cell_type": "code",
   "execution_count": 33,
   "id": "35c0ba13-c525-4b0e-ba43-548db007fd27",
   "metadata": {},
   "outputs": [
    {
     "data": {
      "text/plain": [
       "'h'"
      ]
     },
     "execution_count": 33,
     "metadata": {},
     "output_type": "execute_result"
    }
   ],
   "source": [
    "next(s_iter)"
   ]
  },
  {
   "cell_type": "code",
   "execution_count": 34,
   "id": "dca13b24-8be6-45a0-ad2c-8fbb7994fc9d",
   "metadata": {},
   "outputs": [
    {
     "data": {
      "text/plain": [
       "'e'"
      ]
     },
     "execution_count": 34,
     "metadata": {},
     "output_type": "execute_result"
    }
   ],
   "source": [
    "next(s_iter)"
   ]
  },
  {
   "cell_type": "code",
   "execution_count": 35,
   "id": "e915ae8b-855f-4294-b463-6551c6d85659",
   "metadata": {},
   "outputs": [
    {
     "data": {
      "text/plain": [
       "'l'"
      ]
     },
     "execution_count": 35,
     "metadata": {},
     "output_type": "execute_result"
    }
   ],
   "source": [
    "next(s_iter)"
   ]
  },
  {
   "cell_type": "code",
   "execution_count": 36,
   "id": "11f61d80-60fd-4cb8-8a92-a0500199c534",
   "metadata": {},
   "outputs": [
    {
     "data": {
      "text/plain": [
       "'l'"
      ]
     },
     "execution_count": 36,
     "metadata": {},
     "output_type": "execute_result"
    }
   ],
   "source": [
    "next(s_iter)"
   ]
  },
  {
   "cell_type": "code",
   "execution_count": 37,
   "id": "e2a62b42-c375-430d-af37-9f0cd6edfd2b",
   "metadata": {},
   "outputs": [
    {
     "data": {
      "text/plain": [
       "'o'"
      ]
     },
     "execution_count": 37,
     "metadata": {},
     "output_type": "execute_result"
    }
   ],
   "source": [
    "next(s_iter)"
   ]
  },
  {
   "cell_type": "code",
   "execution_count": 38,
   "id": "23a75fbe-8d69-46b4-bd0d-ea93fe3a345e",
   "metadata": {},
   "outputs": [],
   "source": [
    "# In real code you wont be using next or iter function, instead you will be using 'yield' a lot"
   ]
  }
 ],
 "metadata": {
  "kernelspec": {
   "display_name": "Python 3 (ipykernel)",
   "language": "python",
   "name": "python3"
  },
  "language_info": {
   "codemirror_mode": {
    "name": "ipython",
    "version": 3
   },
   "file_extension": ".py",
   "mimetype": "text/x-python",
   "name": "python",
   "nbconvert_exporter": "python",
   "pygments_lexer": "ipython3",
   "version": "3.12.4"
  }
 },
 "nbformat": 4,
 "nbformat_minor": 5
}
