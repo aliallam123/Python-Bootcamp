{
 "cells": [
  {
   "cell_type": "markdown",
   "id": "3ca6ddf5-48de-4f5b-83ca-0dd9c3f24978",
   "metadata": {},
   "source": [
    "# Iterators and Generators Homework"
   ]
  },
  {
   "cell_type": "markdown",
   "id": "aacb3889-4513-40bc-b8ae-9a35b72f8284",
   "metadata": {},
   "source": [
    "### Problem 1"
   ]
  },
  {
   "cell_type": "markdown",
   "id": "86bd8f74-b4b6-4cec-bf75-25cf97c6c663",
   "metadata": {},
   "source": [
    "Create a generator that generates the squares of numbers up to some number N."
   ]
  },
  {
   "cell_type": "code",
   "execution_count": 19,
   "id": "557b364c-4cc9-487e-b3f3-26a3507148b5",
   "metadata": {},
   "outputs": [],
   "source": [
    "def gensquares(N):\n",
    "    result = []\n",
    "    for x in range(N):\n",
    "        yield x**2"
   ]
  },
  {
   "cell_type": "code",
   "execution_count": 20,
   "id": "96c27b9d-a244-4e15-8030-6e94ef0f86be",
   "metadata": {},
   "outputs": [
    {
     "name": "stdout",
     "output_type": "stream",
     "text": [
      "0\n",
      "1\n",
      "4\n",
      "9\n",
      "16\n",
      "25\n",
      "36\n",
      "49\n",
      "64\n",
      "81\n"
     ]
    }
   ],
   "source": [
    "for x in gensquares(10):\n",
    "    print(x)"
   ]
  },
  {
   "cell_type": "markdown",
   "id": "ff1bc10c-6249-4bfa-b035-872efdfe0e9c",
   "metadata": {},
   "source": [
    "### Problem 2"
   ]
  },
  {
   "cell_type": "markdown",
   "id": "377069a4-e756-483e-88a6-3c0b303fa49d",
   "metadata": {},
   "source": [
    "Create a generator that yields \"n\" random numbers between a low and high number (that are inputs).\n",
    "Note: Use the random library. For example:"
   ]
  },
  {
   "cell_type": "code",
   "execution_count": 41,
   "id": "68cb05cd-ae50-4a87-8e93-c5fc59e2f589",
   "metadata": {},
   "outputs": [
    {
     "data": {
      "text/plain": [
       "1"
      ]
     },
     "execution_count": 41,
     "metadata": {},
     "output_type": "execute_result"
    }
   ],
   "source": [
    "import random\n",
    "\n",
    "random.randint(1,10)"
   ]
  },
  {
   "cell_type": "code",
   "execution_count": 42,
   "id": "9b423268-bdc7-40b9-8cb8-038c79ea7111",
   "metadata": {},
   "outputs": [],
   "source": [
    "def rand_num(low,high,n):\n",
    "    result = []\n",
    "    for x in range(n):\n",
    "        yield random.randint(low,high)"
   ]
  },
  {
   "cell_type": "code",
   "execution_count": 45,
   "id": "35499f3e-91d0-4906-996d-c4fc6a04f13d",
   "metadata": {},
   "outputs": [
    {
     "name": "stdout",
     "output_type": "stream",
     "text": [
      "7\n",
      "10\n",
      "4\n",
      "5\n",
      "5\n",
      "2\n",
      "7\n",
      "8\n",
      "2\n",
      "6\n",
      "8\n",
      "9\n"
     ]
    }
   ],
   "source": [
    "for num in rand_num(1,10,12):\n",
    "    print(num)"
   ]
  },
  {
   "cell_type": "markdown",
   "id": "aca497ad-5cef-4c2f-8afe-a0ec54d3f2d4",
   "metadata": {},
   "source": [
    "### Problem 3"
   ]
  },
  {
   "cell_type": "markdown",
   "id": "1ce93d03-6e25-44ea-abe0-0c45a29faeb8",
   "metadata": {},
   "source": [
    "Use the iter() function to convert the string below into an iterator:"
   ]
  },
  {
   "cell_type": "code",
   "execution_count": 48,
   "id": "98669c18-835e-4c11-b8e5-dda8573cb13b",
   "metadata": {},
   "outputs": [],
   "source": [
    "s = 'hello'\n",
    "\n",
    "s_iter = iter(s)"
   ]
  },
  {
   "cell_type": "code",
   "execution_count": 49,
   "id": "3b4d1307-b38f-4468-95eb-5697d5dfd58e",
   "metadata": {},
   "outputs": [
    {
     "data": {
      "text/plain": [
       "'h'"
      ]
     },
     "execution_count": 49,
     "metadata": {},
     "output_type": "execute_result"
    }
   ],
   "source": [
    "next(s_iter)"
   ]
  },
  {
   "cell_type": "code",
   "execution_count": 50,
   "id": "6022283d-4547-4d41-a6e2-acb0aacd9efc",
   "metadata": {},
   "outputs": [
    {
     "data": {
      "text/plain": [
       "'e'"
      ]
     },
     "execution_count": 50,
     "metadata": {},
     "output_type": "execute_result"
    }
   ],
   "source": [
    "next(s_iter)"
   ]
  },
  {
   "cell_type": "code",
   "execution_count": 51,
   "id": "10db524d-da7a-4451-b828-849edaffe950",
   "metadata": {},
   "outputs": [
    {
     "data": {
      "text/plain": [
       "'l'"
      ]
     },
     "execution_count": 51,
     "metadata": {},
     "output_type": "execute_result"
    }
   ],
   "source": [
    "next(s_iter)"
   ]
  },
  {
   "cell_type": "code",
   "execution_count": 52,
   "id": "acfe77ea-2dc1-440e-a393-d32e5bfaa803",
   "metadata": {},
   "outputs": [
    {
     "data": {
      "text/plain": [
       "'l'"
      ]
     },
     "execution_count": 52,
     "metadata": {},
     "output_type": "execute_result"
    }
   ],
   "source": [
    "next(s_iter)"
   ]
  },
  {
   "cell_type": "code",
   "execution_count": 53,
   "id": "34241f9a-8b7c-4d7d-aaf1-798d4913ff50",
   "metadata": {},
   "outputs": [
    {
     "data": {
      "text/plain": [
       "'o'"
      ]
     },
     "execution_count": 53,
     "metadata": {},
     "output_type": "execute_result"
    }
   ],
   "source": [
    "next(s_iter)"
   ]
  },
  {
   "cell_type": "markdown",
   "id": "192af396-28b3-4a05-ad8a-1f4534265bb7",
   "metadata": {},
   "source": [
    "### Problem 4"
   ]
  },
  {
   "cell_type": "markdown",
   "id": "deb9ca6b-2e96-4bf2-aecf-0344294b50e3",
   "metadata": {},
   "source": [
    "Explain a use case for a generator using a yield statement where you would not want to use a normal function with a return statement."
   ]
  },
  {
   "cell_type": "markdown",
   "id": "fbc22950-e08a-49a1-bde2-bc1389d78129",
   "metadata": {},
   "source": [
    "When you are dealing with a large dataset and iterating through the dataset would take up a lot of memory and a lot of time to run. In this case, using a generator would be more efficient as it would only keep the one value it is currently iterating through."
   ]
  },
  {
   "cell_type": "markdown",
   "id": "7376e6bf-bf7c-404a-b4e5-da4e64e33a41",
   "metadata": {},
   "source": [
    "I ran this answer into ChatGPT and it said this:"
   ]
  },
  {
   "cell_type": "markdown",
   "id": "edd5421e-2f60-4594-a7d6-d3414af7100c",
   "metadata": {},
   "source": [
    "Your answer is on the right track! You’ve highlighted the memory efficiency that generators provide by yielding one value at a time. To refine it, you might emphasize that generators avoid loading the entire dataset into memory, making them particularly useful when working with large datasets or streams of data that are computationally intensive to load all at once. Here's a slightly revised version:"
   ]
  },
  {
   "cell_type": "code",
   "execution_count": null,
   "id": "ba26a10a-5b99-42c7-878f-05df7a608639",
   "metadata": {},
   "outputs": [],
   "source": []
  }
 ],
 "metadata": {
  "kernelspec": {
   "display_name": "Python 3 (ipykernel)",
   "language": "python",
   "name": "python3"
  },
  "language_info": {
   "codemirror_mode": {
    "name": "ipython",
    "version": 3
   },
   "file_extension": ".py",
   "mimetype": "text/x-python",
   "name": "python",
   "nbconvert_exporter": "python",
   "pygments_lexer": "ipython3",
   "version": "3.12.4"
  }
 },
 "nbformat": 4,
 "nbformat_minor": 5
}
