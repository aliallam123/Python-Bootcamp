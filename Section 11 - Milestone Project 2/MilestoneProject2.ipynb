{
 "cells": [
  {
   "cell_type": "markdown",
   "id": "393b0b3c-54dd-4e9d-974c-61a5f4450c8d",
   "metadata": {},
   "source": [
    "# Milestone Project 2 - Blackjack Game"
   ]
  },
  {
   "cell_type": "markdown",
   "id": "c1766e1e-0a56-4957-acfa-5fb88cf5e8f1",
   "metadata": {},
   "source": [
    "In this milestone project you will be creating a Complete BlackJack Card Game in Python."
   ]
  },
  {
   "cell_type": "markdown",
   "id": "ec413d52-2e07-4122-a951-26b216f4eea0",
   "metadata": {},
   "source": [
    "Here are the requirements:"
   ]
  },
  {
   "cell_type": "markdown",
   "id": "792d2619-80c6-49c8-891d-07ea57ff6639",
   "metadata": {},
   "source": [
    "1. You need to create a simple text-based BlackJack game\n",
    "2. The game needs to have one player versus an automated dealer.\n",
    "3. The player can stand or hit.\n",
    "4. The player must be able to pick their betting amount.\n",
    "5. You need to keep track of the player's total money.\n",
    "6. You need to alert the player of wins, losses, or busts, etc..."
   ]
  },
  {
   "cell_type": "markdown",
   "id": "fb2396f6-c59b-4ef1-9fd7-2a8dc2b9549d",
   "metadata": {},
   "source": [
    "And most importantly:"
   ]
  },
  {
   "cell_type": "markdown",
   "id": "1f22fe74-2f74-45b7-9855-7685f5001cc5",
   "metadata": {},
   "source": [
    "__You must use OOP and classes in some portion of your game. You can not just use functions in your game. Use classes to help you define the Deck and the Player's hand. There are many right ways to do this, so explore it well!__"
   ]
  },
  {
   "cell_type": "markdown",
   "id": "5d332e27-19a3-4adc-b413-46dbfa5b307a",
   "metadata": {},
   "source": [
    "### Game Play"
   ]
  },
  {
   "cell_type": "markdown",
   "id": "cc9610f5-403b-4352-aac4-d7c3744199dd",
   "metadata": {},
   "source": [
    "To play a hand of Blackjack the following steps must be followed:\n",
    "\n",
    "1. Create a deck of 52 cards\n",
    "2. Shuffle the deck\n",
    "3. Ask the Player for their bet\n",
    "4. Make sure that the Player's bet does not exceed their available chips\n",
    "5. Deal two cards to the Dealer and two cards to the Player\n",
    "6. Show only one of the Dealer's cards, the other remains hidden\n",
    "7. Show both of the Player's cards\n",
    "8. Ask the Player if they wish to Hit, and take another card\n",
    "9. If the Player's hand doesn't Bust (go over 21), ask if they'd like to Hit again.\n",
    "10. If a Player Stands, play the Dealer's hand. The dealer will always Hit until the Dealer's value meets or exceeds 17\n",
    "11. Determine the winner and adjust the Player's chips accordingly\n",
    "12. Ask the Player if they'd like to play again"
   ]
  },
  {
   "cell_type": "markdown",
   "id": "40f1224d-7b8f-4b5a-9848-c5b8214a2f59",
   "metadata": {},
   "source": [
    "### Playing Cards"
   ]
  },
  {
   "cell_type": "markdown",
   "id": "beb760cf-2102-4ac1-9398-11638e39d4a8",
   "metadata": {},
   "source": [
    "A standard deck of playing cards has four suits (Hearts, Diamonds, Spades and Clubs) and thirteen ranks (2 through 10, then the face cards Jack, Queen, King and Ace) for a total of 52 cards per deck. Jacks, Queens and Kings all have a rank of 10. Aces have a rank of either 11 or 1 as needed to reach 21 without busting. As a starting point in your program, you may want to assign variables to store a list of suits, ranks, and then use a dictionary to map ranks to values."
   ]
  },
  {
   "cell_type": "markdown",
   "id": "ae9df30f-c532-4a2e-98fd-5df6f27d8612",
   "metadata": {},
   "source": [
    "### The Game"
   ]
  },
  {
   "cell_type": "markdown",
   "id": "997ca140-0fe6-4c8a-b86a-ec3fed990834",
   "metadata": {},
   "source": [
    "#### Imports and Global Variables"
   ]
  },
  {
   "cell_type": "markdown",
   "id": "ec4c3d2d-cdd8-4af0-91a2-a967f721a574",
   "metadata": {},
   "source": [
    "### Step 1: Import the random module. \n",
    "This will be used to shuffle the deck prior to dealing. Then, declare variables to store suits, ranks and values. You can develop your own system, or copy ours below. Finally, declare a Boolean value to be used to control while loops. This is a common practice used to control the flow of the game."
   ]
  },
  {
   "cell_type": "code",
   "execution_count": 113,
   "id": "98d125a6-6703-4b17-a993-05bc707bb128",
   "metadata": {},
   "outputs": [],
   "source": [
    "import random\n",
    "\n",
    "suits = ('Hearts', 'Diamonds', 'Spades', 'Clubs')\n",
    "ranks = ('Two', 'Three', 'Four', 'Five', 'Six', 'Seven', 'Eight', 'Nine', 'Ten', 'Jack', 'Queen', 'King', 'Ace')\n",
    "values = {'Two':2, 'Three':3, 'Four':4, 'Five':5, 'Six':6, 'Seven':7, 'Eight':8, \n",
    "            'Nine':9, 'Ten':10, 'Jack':11, 'Queen':12, 'King':13, 'Ace':14}\n",
    "\n",
    "playing = True"
   ]
  },
  {
   "cell_type": "markdown",
   "id": "15ab845c-e6c2-4f57-9693-93fe93082066",
   "metadata": {},
   "source": [
    "### Step 2: Create a Card Class\n",
    "A Card object really only needs two attributes: suit and rank. You might add an attribute for \"value\" - we chose to handle value later when developing our Hand class.\n",
    "In addition to the Card's __init__ method, consider adding a __str__ method that, when asked to print a Card, returns a string in the form \"Two of Hearts\""
   ]
  },
  {
   "cell_type": "code",
   "execution_count": 114,
   "id": "1f9936b4-2d02-4abe-b2bb-98d36467370c",
   "metadata": {},
   "outputs": [],
   "source": [
    "class Card():\n",
    "\n",
    "    def __init__(self, suit, rank):\n",
    "        self.suit = suit\n",
    "        self.rank = rank\n",
    "        self.values = values[rank]\n",
    "\n",
    "    def __str__(self):\n",
    "        return self.rank +  ' of ' + self.suit"
   ]
  },
  {
   "cell_type": "markdown",
   "id": "0f4ac601-dcc7-4079-81f9-d0b93411865c",
   "metadata": {},
   "source": [
    "### Step 3: Create a Deck Class\n",
    "Here we might store 52 card objects in a list that can later be shuffled. First, though, we need to instantiate all 52 unique card objects and add them to our list. So long as the Card class definition appears in our code, we can build Card objects inside our Deck __init__ method. Consider iterating over sequences of suits and ranks to build out each card."
   ]
  },
  {
   "cell_type": "code",
   "execution_count": 115,
   "id": "3063c718-1e71-4f6a-ab07-05700deec9eb",
   "metadata": {},
   "outputs": [],
   "source": [
    "class Deck():\n",
    "\n",
    "\n",
    "    def __init__(self):\n",
    "        self.all_cards = []\n",
    "        \n",
    "        for suit in suits:\n",
    "            for rank in ranks:\n",
    "                \n",
    "                created_card = Card(suit,rank)\n",
    "                self.all_cards.append(created_card)\n",
    "\n",
    "    def shuffle(self):\n",
    "        random.shuffle(self.all_cards)\n",
    "\n",
    "    def deal_one(self):\n",
    "        return self.all_cards.pop()"
   ]
  },
  {
   "cell_type": "code",
   "execution_count": 116,
   "id": "5fd4a7bb-bea6-49a1-ba1d-741607aa5c41",
   "metadata": {},
   "outputs": [
    {
     "name": "stdout",
     "output_type": "stream",
     "text": [
      "<__main__.Deck object at 0x000001FD001BE210>\n"
     ]
    }
   ],
   "source": [
    "test_deck = Deck()\n",
    "print(test_deck)"
   ]
  },
  {
   "cell_type": "markdown",
   "id": "adbe9ee6-e1d9-421a-ba45-206ed971a766",
   "metadata": {},
   "source": [
    "### Step 4: Create a Hand Class\n",
    "In addition to holding Card objects dealt from the Deck, the Hand class may be used to calculate the value of those cards using the values dictionary defined above. It may also need to adjust for the value of Aces when appropriate."
   ]
  },
  {
   "cell_type": "code",
   "execution_count": 117,
   "id": "35d5d692-725a-4918-a9f8-f6c93b54d541",
   "metadata": {},
   "outputs": [],
   "source": [
    "class Hand:\n",
    "    def __init__(self):\n",
    "        self.cards = []  # Change this from all_cards to cards\n",
    "        self.value = 0\n",
    "        self.aces = 0\n",
    "\n",
    "    def add_card(self, card):\n",
    "        # Add a card to the hand and update the value, tracking aces.\n",
    "        self.cards.append(card)  # Add card to the hand\n",
    "\n",
    "        # Add card value to the hand\n",
    "        if card.rank == 'Ace':  # Check if the card is an Ace\n",
    "            self.value += 11\n",
    "            self.aces += 1  # Track the Ace\n",
    "        else:\n",
    "            self.value += card.values  # Assuming card.values is defined in your Card class\n",
    "\n",
    "        # After adding the card, adjust for any Aces if necessary\n",
    "        self.adjust_for_ace()\n",
    "\n",
    "    def adjust_for_ace(self):\n",
    "        # If value exceeds 21 and there are aces, convert them from 11 to 1.\n",
    "        while self.value > 21 and self.aces > 0:\n",
    "            self.value -= 10  # Adjust an Ace from 11 to 1\n",
    "            self.aces -= 1  # Decrease the Ace count since one is now worth 1"
   ]
  },
  {
   "cell_type": "markdown",
   "id": "d04d3f66-19be-4102-b427-14069d9b1ace",
   "metadata": {},
   "source": [
    "### Step 5: Create a Chips Class\n",
    "In addition to decks of cards and hands, we need to keep track of a Player's starting chips, bets, and ongoing winnings. This could be done using global variables, but in the spirit of object oriented programming, let's make a Chips class instead!"
   ]
  },
  {
   "cell_type": "code",
   "execution_count": 118,
   "id": "56774a58-a845-4536-9dc7-92521b61d737",
   "metadata": {},
   "outputs": [],
   "source": [
    "class Chips:\n",
    "    def __init__(self, total):  # Use a default total if none is provided\n",
    "        self.total = total\n",
    "        self.bet = 0\n",
    "\n",
    "    def win_bet(self):\n",
    "        self.total += self.bet\n",
    "\n",
    "    def lose_bet(self):\n",
    "        self.total -= self.bet"
   ]
  },
  {
   "cell_type": "markdown",
   "id": "98930832-b458-47cc-8f54-244ba09e2b69",
   "metadata": {},
   "source": [
    "### Step 6: Write a function for taking bets\n",
    "Since we're asking the user for an integer value, this would be a good place to use try/except. Remember to check that a Player's bet can be covered by their available chips."
   ]
  },
  {
   "cell_type": "code",
   "execution_count": 119,
   "id": "cbb49c76-5d2d-4849-8c2d-a1b607979754",
   "metadata": {},
   "outputs": [],
   "source": [
    "def take_bet(chips):\n",
    "    while True:\n",
    "        try:\n",
    "            chips.bet = int(input(\"Enter how many chips you want to bet: \"))\n",
    "            if chips.bet > chips.total:\n",
    "                print(\"You don't have enough chips! Try again.\")\n",
    "            else:\n",
    "                break  # Valid bet, so exit the loop\n",
    "        except ValueError:\n",
    "            print(\"Invalid input. Please enter a valid number.\")"
   ]
  },
  {
   "cell_type": "markdown",
   "id": "a8004910-fef8-475d-93a9-f52116bbd555",
   "metadata": {},
   "source": [
    "### Step 7: Write a function for taking hits\r\n",
    "Either player can take hits until they bust. This function will be called during gameplay anytime a Player requests a hit, or a Dealer's hand is less than 17. It should take in Deck and Hand objects as arguments, and deal one card off the deck and add it to the Hand. You may want it to check for aces in the event that a player's hand exceeds 21."
   ]
  },
  {
   "cell_type": "code",
   "execution_count": 120,
   "id": "692cd2c8-bf80-470e-b5c2-cdaa4dd92a6d",
   "metadata": {},
   "outputs": [],
   "source": [
    "def hit(deck,hand):\n",
    "    \n",
    "    hand.add_card(deck.deal_one())\n",
    "    hand.adjust_for_ace()"
   ]
  },
  {
   "cell_type": "markdown",
   "id": "2e801624-c097-4a50-8710-4f57bc3b5916",
   "metadata": {},
   "source": [
    "### Step 8: Write a function prompting the Player to Hit or Stand"
   ]
  },
  {
   "cell_type": "markdown",
   "id": "eafabac6-f981-40ce-b3c9-abac1f1a46f7",
   "metadata": {},
   "source": [
    "This function should accept the deck and the player's hand as arguments, and assign playing as a global variable.\n",
    "If the Player Hits, employ the hit() function above. If the Player Stands, set the playing variable to False - this will control the behavior of a while loop later on in our code."
   ]
  },
  {
   "cell_type": "code",
   "execution_count": 121,
   "id": "de6edd39-028d-4603-9d0a-cf7658bc7b51",
   "metadata": {},
   "outputs": [],
   "source": [
    "def hit_or_stand(deck,hand):\n",
    "    global playing  # to control an upcoming while loop\n",
    "    \n",
    "    while True:\n",
    "        x = input(\"Would you like to Hit or Stand? Enter 'h' or 's' \")\n",
    "        \n",
    "        if x[0].lower() == 'h':\n",
    "            hit(deck,hand)  # hit() function defined above\n",
    "\n",
    "        elif x[0].lower() == 's':\n",
    "            print(\"Player stands. Dealer is playing.\")\n",
    "            playing = False\n",
    "\n",
    "        else:\n",
    "            print(\"Sorry, please try again.\")\n",
    "            continue\n",
    "        break"
   ]
  },
  {
   "cell_type": "markdown",
   "id": "4a3f1e59-8b9e-497d-bc41-a98a63f6dbe6",
   "metadata": {},
   "source": [
    "### Step 9: Write functions to display cards"
   ]
  },
  {
   "cell_type": "markdown",
   "id": "a7452399-d782-4d55-9ee0-5055e21fd44c",
   "metadata": {},
   "source": [
    "When the game starts, and after each time Player takes a card, the dealer's first card is hidden and all of Player's cards are visible. At the end of the hand all cards are shown, and you may want to show each hand's total value. Write a function for each of these scenarios."
   ]
  },
  {
   "cell_type": "code",
   "execution_count": 122,
   "id": "7600ae52-7e87-4656-8ceb-f797b230939c",
   "metadata": {},
   "outputs": [],
   "source": [
    "def show_some(player, dealer):\n",
    "    print(\"\\nDealer's Hand:\")\n",
    "    print(\" <card hidden>\")\n",
    "    print('', dealer.cards[1])  # Access the second card in dealer's hand\n",
    "    print(\"\\nPlayer's Hand:\", *player.cards, sep='\\n ')\n",
    "\n",
    "def show_all(player, dealer):\n",
    "    print(\"\\nDealer's Hand:\", *dealer.cards, sep='\\n ')\n",
    "    print(\"Dealer's Hand =\", dealer.value)\n",
    "    print(\"\\nPlayer's Hand:\", *player.cards, sep='\\n ')\n",
    "    print(\"Player's Hand =\", player.value)\n"
   ]
  },
  {
   "cell_type": "markdown",
   "id": "53744bed-5273-4fa9-a94e-dc1a818885ca",
   "metadata": {},
   "source": [
    "### Step 10: Write functions to handle end of game scenarios\n",
    "Remember to pass player's hand, dealer's hand and chips as needed."
   ]
  },
  {
   "cell_type": "code",
   "execution_count": 123,
   "id": "0314111b-7030-450b-97ca-4ae16cf4ff7e",
   "metadata": {},
   "outputs": [],
   "source": [
    "def player_busts(chips):\n",
    "    print('Player busts!')\n",
    "    chips.lose_bet()\n",
    "\n",
    "def player_wins(chips):\n",
    "    print('Player Wins!')\n",
    "    chips.win_bet()\n",
    "\n",
    "def dealer_busts(chips):\n",
    "    print('Dealer Busts!')\n",
    "    chips.win_bet()\n",
    "\n",
    "def dealer_wins(chips):\n",
    "    print('Dealer Wins!')\n",
    "    chips.lose_bet()\n",
    "\n",
    "def push():\n",
    "    print('Dealer and Player tie! It’s a push.')"
   ]
  },
  {
   "cell_type": "markdown",
   "id": "fb8c4fa5-ba13-4aac-bb2a-683c372f1467",
   "metadata": {},
   "source": [
    "### And now on to the game!!"
   ]
  },
  {
   "cell_type": "markdown",
   "id": "29ad3f0c-f56f-4b52-a382-d402a5515acf",
   "metadata": {},
   "source": [
    "### My answer"
   ]
  },
  {
   "cell_type": "code",
   "execution_count": 130,
   "id": "e81c918a-baea-480c-a560-3b934b7c57a8",
   "metadata": {},
   "outputs": [
    {
     "name": "stdout",
     "output_type": "stream",
     "text": [
      "Welcome to BlackJack! Get as close to 21 as you can without going over!\n",
      "Dealer hits until she reaches 17. Aces count as 1 or 11.\n",
      " \n",
      "Please gamble responsibly\n",
      "All rights of this game are reserved to Ali\n"
     ]
    },
    {
     "name": "stdin",
     "output_type": "stream",
     "text": [
      "How many chips would you like to start with?  100\n",
      "Enter how many chips you want to bet:  50\n"
     ]
    },
    {
     "name": "stdout",
     "output_type": "stream",
     "text": [
      "\n",
      "Dealer's Hand:\n",
      " <card hidden>\n",
      " Two of Clubs\n",
      "\n",
      "Player's Hand:\n",
      " King of Clubs\n",
      " Eight of Spades\n"
     ]
    },
    {
     "name": "stdin",
     "output_type": "stream",
     "text": [
      "Would you like to Hit or Stand? Enter 'h' or 's'  s\n"
     ]
    },
    {
     "name": "stdout",
     "output_type": "stream",
     "text": [
      "Player stands. Dealer is playing.\n",
      "\n",
      "Dealer's Hand:\n",
      " <card hidden>\n",
      " Two of Clubs\n",
      "\n",
      "Player's Hand:\n",
      " King of Clubs\n",
      " Eight of Spades\n",
      "\n",
      "Dealer's Hand:\n",
      " Five of Hearts\n",
      " Two of Clubs\n",
      " Seven of Clubs\n",
      " Ten of Clubs\n",
      "Dealer's Hand = 24\n",
      "\n",
      "Player's Hand:\n",
      " King of Clubs\n",
      " Eight of Spades\n",
      "Player's Hand = 21\n",
      "Dealer Busts!\n",
      "Your total chips are now: 150\n"
     ]
    },
    {
     "name": "stdin",
     "output_type": "stream",
     "text": [
      "Do you wish to play again? 'y' or 'n':  y\n"
     ]
    },
    {
     "name": "stdout",
     "output_type": "stream",
     "text": [
      "Welcome to BlackJack! Get as close to 21 as you can without going over!\n",
      "Dealer hits until she reaches 17. Aces count as 1 or 11.\n",
      " \n",
      "Please gamble responsibly\n",
      "All rights of this game are reserved to Ali\n"
     ]
    },
    {
     "name": "stdin",
     "output_type": "stream",
     "text": [
      "How many chips would you like to start with?  100\n",
      "Enter how many chips you want to bet:  q00\n"
     ]
    },
    {
     "name": "stdout",
     "output_type": "stream",
     "text": [
      "Invalid input. Please enter a valid number.\n"
     ]
    },
    {
     "name": "stdin",
     "output_type": "stream",
     "text": [
      "Enter how many chips you want to bet:  100\n"
     ]
    },
    {
     "name": "stdout",
     "output_type": "stream",
     "text": [
      "\n",
      "Dealer's Hand:\n",
      " <card hidden>\n",
      " Three of Spades\n",
      "\n",
      "Player's Hand:\n",
      " Eight of Diamonds\n",
      " Five of Diamonds\n"
     ]
    },
    {
     "name": "stdin",
     "output_type": "stream",
     "text": [
      "Would you like to Hit or Stand? Enter 'h' or 's'  h\n"
     ]
    },
    {
     "name": "stdout",
     "output_type": "stream",
     "text": [
      "\n",
      "Dealer's Hand:\n",
      " <card hidden>\n",
      " Three of Spades\n",
      "\n",
      "Player's Hand:\n",
      " Eight of Diamonds\n",
      " Five of Diamonds\n",
      " Six of Diamonds\n"
     ]
    },
    {
     "name": "stdin",
     "output_type": "stream",
     "text": [
      "Would you like to Hit or Stand? Enter 'h' or 's'  s\n"
     ]
    },
    {
     "name": "stdout",
     "output_type": "stream",
     "text": [
      "Player stands. Dealer is playing.\n",
      "\n",
      "Dealer's Hand:\n",
      " <card hidden>\n",
      " Three of Spades\n",
      "\n",
      "Player's Hand:\n",
      " Eight of Diamonds\n",
      " Five of Diamonds\n",
      " Six of Diamonds\n",
      "\n",
      "Dealer's Hand:\n",
      " Six of Clubs\n",
      " Three of Spades\n",
      " King of Hearts\n",
      "Dealer's Hand = 22\n",
      "\n",
      "Player's Hand:\n",
      " Eight of Diamonds\n",
      " Five of Diamonds\n",
      " Six of Diamonds\n",
      "Player's Hand = 19\n",
      "Dealer Busts!\n",
      "Your total chips are now: 200\n"
     ]
    },
    {
     "name": "stdin",
     "output_type": "stream",
     "text": [
      "Do you wish to play again? 'y' or 'n':  n\n"
     ]
    },
    {
     "name": "stdout",
     "output_type": "stream",
     "text": [
      "Thanks for playing, we hope to see you next time.\n"
     ]
    }
   ],
   "source": [
    "while True:\n",
    "    # Print an opening statement\n",
    "    print('Welcome to BlackJack! Get as close to 21 as you can without going over!')\n",
    "    print('Dealer hits until she reaches 17. Aces count as 1 or 11.')\n",
    "    print(' ')\n",
    "    print('Please gamble responsibly')\n",
    "    print('All rights of this game are reserved to Ali')\n",
    "\n",
    "    # Ask player how many chips they want to start with\n",
    "    while True:\n",
    "        try:\n",
    "            starting_chips = int(input(\"How many chips would you like to start with? \"))\n",
    "            if starting_chips <= 0:\n",
    "                print(\"You need at least 1 chip to play!\")\n",
    "            else:\n",
    "                break  # Valid chip amount, break the loop\n",
    "        except ValueError:\n",
    "            print(\"Invalid input. Please enter a number.\")\n",
    "\n",
    "    # Set up the player's chips with the input amount\n",
    "    players_chips = Chips(total=starting_chips)\n",
    "\n",
    "    # Create & shuffle the deck, and deal two cards to each player\n",
    "    new_deck = Deck()\n",
    "    new_deck.shuffle()\n",
    "\n",
    "    player_hand = Hand()\n",
    "    dealer_hand = Hand()\n",
    "\n",
    "    # Deal two cards to player and dealer\n",
    "    player_hand.add_card(new_deck.deal_one())\n",
    "    player_hand.add_card(new_deck.deal_one())\n",
    "    dealer_hand.add_card(new_deck.deal_one())\n",
    "    dealer_hand.add_card(new_deck.deal_one())\n",
    "\n",
    "    # Call the take_bet() function to handle the player's bet\n",
    "    take_bet(players_chips)\n",
    "\n",
    "    # Show cards (but keep one dealer card hidden)\n",
    "    show_some(player_hand, dealer_hand)\n",
    "\n",
    "    # Start the game: Player's turn to hit or stand\n",
    "    playing = True  # Initialize the playing state\n",
    "\n",
    "    while playing:\n",
    "        hit_or_stand(new_deck, player_hand)  # Player action\n",
    "\n",
    "        # Show updated hand\n",
    "        show_some(player_hand, dealer_hand)\n",
    "\n",
    "        # If player busts, end their turn\n",
    "        if player_hand.value > 21:\n",
    "            player_busts(players_chips)\n",
    "            players_chips.lose_bet()\n",
    "            break\n",
    "\n",
    "    # If player hasn't busted, dealer plays\n",
    "    if player_hand.value <= 21:\n",
    "        while dealer_hand.value < 17:\n",
    "            dealer_hand.add_card(new_deck.deal_one())\n",
    "\n",
    "        # Show all cards\n",
    "        show_all(player_hand, dealer_hand)\n",
    "\n",
    "        # Determine the winner\n",
    "    if player_hand.value > 21:\n",
    "        player_busts(players_chips)\n",
    "        break\n",
    "    \n",
    "    if dealer_hand.value > 21:\n",
    "        dealer_busts(players_chips)\n",
    "    \n",
    "    elif dealer_hand.value > player_hand.value:\n",
    "        dealer_wins(players_chips)\n",
    "    \n",
    "    elif dealer_hand.value < player_hand.value:\n",
    "        player_wins(players_chips)\n",
    "    \n",
    "    else:\n",
    "        push()\n",
    "\n",
    "\n",
    "    # Inform player of their chips total\n",
    "    print(f'Your total chips are now: {players_chips.total}')\n",
    "\n",
    "    # Check if player is out of chips\n",
    "    if players_chips.total <= 0:\n",
    "        print(\"You're out of chips! Game over.\")\n",
    "        break\n",
    "\n",
    "    # Ask if the player wants to play again\n",
    "    play_again = input(\"Do you wish to play again? 'y' or 'n': \").strip().lower()\n",
    "    if play_again == 'y':\n",
    "        continue  # Restart the game loop\n",
    "    elif play_again == 'n':\n",
    "        print('Thanks for playing, we hope to see you next time.')\n",
    "        break\n",
    "    else:\n",
    "        print(\"Invalid input, please input 'y' or 'n'\")\n",
    "        break\n"
   ]
  },
  {
   "cell_type": "markdown",
   "id": "ecb4e690-3479-47aa-941c-e30e4a660072",
   "metadata": {},
   "source": [
    "__One issue with the code is that when you play again the chips total does not carry on over to the next game and instead you are always asked to input the amount of chips you'd like to play with__"
   ]
  },
  {
   "cell_type": "markdown",
   "id": "f4a138a4-2168-436a-a650-275f0c868307",
   "metadata": {},
   "source": [
    "### Workbook answer (there are unlimited ways you can make this BlackJack game)"
   ]
  },
  {
   "cell_type": "code",
   "execution_count": 128,
   "id": "877d18e5-8ac7-428f-bf85-777edd60d8f7",
   "metadata": {},
   "outputs": [
    {
     "name": "stdout",
     "output_type": "stream",
     "text": [
      "Welcome to BlackJack! Get as close to 21 as you can without going over!\n",
      "    Dealer hits until she reaches 17. Aces count as 1 or 11.\n"
     ]
    },
    {
     "ename": "AttributeError",
     "evalue": "'Deck' object has no attribute 'deal'",
     "output_type": "error",
     "traceback": [
      "\u001b[1;31m---------------------------------------------------------------------------\u001b[0m",
      "\u001b[1;31mAttributeError\u001b[0m                            Traceback (most recent call last)",
      "Cell \u001b[1;32mIn[128], line 11\u001b[0m\n\u001b[0;32m      8\u001b[0m deck\u001b[38;5;241m.\u001b[39mshuffle()\n\u001b[0;32m     10\u001b[0m player_hand \u001b[38;5;241m=\u001b[39m Hand()\n\u001b[1;32m---> 11\u001b[0m player_hand\u001b[38;5;241m.\u001b[39madd_card(deck\u001b[38;5;241m.\u001b[39mdeal())\n\u001b[0;32m     12\u001b[0m player_hand\u001b[38;5;241m.\u001b[39madd_card(deck\u001b[38;5;241m.\u001b[39mdeal())\n\u001b[0;32m     14\u001b[0m dealer_hand \u001b[38;5;241m=\u001b[39m Hand()\n",
      "\u001b[1;31mAttributeError\u001b[0m: 'Deck' object has no attribute 'deal'"
     ]
    }
   ],
   "source": [
    "while True:\n",
    "    # Print an opening statement\n",
    "    print('Welcome to BlackJack! Get as close to 21 as you can without going over!\\n\\\n",
    "    Dealer hits until she reaches 17. Aces count as 1 or 11.')\n",
    "    \n",
    "    # Create & shuffle the deck, deal two cards to each player\n",
    "    deck = Deck()\n",
    "    deck.shuffle()\n",
    "    \n",
    "    player_hand = Hand()\n",
    "    player_hand.add_card(deck.deal())\n",
    "    player_hand.add_card(deck.deal())\n",
    "    \n",
    "    dealer_hand = Hand()\n",
    "    dealer_hand.add_card(deck.deal())\n",
    "    dealer_hand.add_card(deck.deal())\n",
    "            \n",
    "    # Set up the Player's chips\n",
    "    player_chips = Chips()  # remember the default value is 100    \n",
    "    \n",
    "    # Prompt the Player for their bet\n",
    "    take_bet(player_chips)\n",
    "    \n",
    "    # Show cards (but keep one dealer card hidden)\n",
    "    show_some(player_hand,dealer_hand)\n",
    "    \n",
    "    while playing:  # recall this variable from our hit_or_stand function\n",
    "        \n",
    "        # Prompt for Player to Hit or Stand\n",
    "        hit_or_stand(deck,player_hand) \n",
    "        \n",
    "        # Show cards (but keep one dealer card hidden)\n",
    "        show_some(player_hand,dealer_hand)  \n",
    "        \n",
    "        # If player's hand exceeds 21, run player_busts() and break out of loop\n",
    "        if player_hand.value > 21:\n",
    "            player_busts(player_hand,dealer_hand,player_chips)\n",
    "            break        \n",
    "\n",
    "\n",
    "    # If Player hasn't busted, play Dealer's hand until Dealer reaches 17 \n",
    "    if player_hand.value <= 21:\n",
    "        \n",
    "        while dealer_hand.value < 17:\n",
    "            hit(deck,dealer_hand)    \n",
    "    \n",
    "        # Show all cards\n",
    "        show_all(player_hand,dealer_hand)\n",
    "        \n",
    "        # Run different winning scenarios\n",
    "        if dealer_hand.value > 21:\n",
    "            dealer_busts(player_hand,dealer_hand,player_chips)\n",
    "\n",
    "        elif dealer_hand.value > player_hand.value:\n",
    "            dealer_wins(player_hand,dealer_hand,player_chips)\n",
    "\n",
    "        elif dealer_hand.value < player_hand.value:\n",
    "            player_wins(player_hand,dealer_hand,player_chips)\n",
    "\n",
    "        else:\n",
    "            push(player_hand,dealer_hand)        \n",
    "    \n",
    "    # Inform Player of their chips total \n",
    "    print(\"\\nPlayer's winnings stand at\",player_chips.total)\n",
    "    \n",
    "    # Ask to play again\n",
    "    new_game = input(\"Would you like to play another hand? Enter 'y' or 'n' \")\n",
    "    \n",
    "    if new_game[0].lower()=='y':\n",
    "        playing=True\n",
    "        continue\n",
    "    else:\n",
    "        print(\"Thanks for playing!\")\n",
    "        break"
   ]
  },
  {
   "cell_type": "markdown",
   "id": "f3837fd2-9b1c-4714-81ec-cbb2140971d4",
   "metadata": {},
   "source": [
    "### The solution won't work because it is not designed for my game\n",
    "### It is just there for game logic purposes\n",
    "### Thank you for reading!"
   ]
  }
 ],
 "metadata": {
  "kernelspec": {
   "display_name": "Python 3 (ipykernel)",
   "language": "python",
   "name": "python3"
  },
  "language_info": {
   "codemirror_mode": {
    "name": "ipython",
    "version": 3
   },
   "file_extension": ".py",
   "mimetype": "text/x-python",
   "name": "python",
   "nbconvert_exporter": "python",
   "pygments_lexer": "ipython3",
   "version": "3.12.4"
  }
 },
 "nbformat": 4,
 "nbformat_minor": 5
}
