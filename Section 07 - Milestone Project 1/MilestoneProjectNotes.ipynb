{
 "cells": [
  {
   "cell_type": "markdown",
   "id": "12a19cb0-05d4-469e-9815-766cc27d53a4",
   "metadata": {},
   "source": [
    "### How would you display a tic tac toe game?"
   ]
  },
  {
   "cell_type": "markdown",
   "id": "dd03a3bc-6d17-4934-b034-9785e6904e42",
   "metadata": {},
   "source": [
    "You can do this:"
   ]
  },
  {
   "cell_type": "code",
   "execution_count": 8,
   "id": "138bebe2-5400-46ec-94d2-39f9e4177a60",
   "metadata": {},
   "outputs": [],
   "source": [
    "row1 = [' ', ' ', ' ']\n",
    "row2 = [' ', ' ', ' ']\n",
    "row3 = [' ', ' ', ' ']"
   ]
  },
  {
   "cell_type": "code",
   "execution_count": 9,
   "id": "3da9317c-4c13-4185-87c3-5c951c7eb1f2",
   "metadata": {},
   "outputs": [
    {
     "data": {
      "text/plain": [
       "[' ', ' ', ' ']"
      ]
     },
     "metadata": {},
     "output_type": "display_data"
    },
    {
     "data": {
      "text/plain": [
       "[' ', ' ', ' ']"
      ]
     },
     "metadata": {},
     "output_type": "display_data"
    },
    {
     "data": {
      "text/plain": [
       "[' ', ' ', ' ']"
      ]
     },
     "metadata": {},
     "output_type": "display_data"
    }
   ],
   "source": [
    "display(row1, row2, row3)"
   ]
  },
  {
   "cell_type": "markdown",
   "id": "b2b046eb-f7c9-4e6b-9176-70efe0ba3454",
   "metadata": {},
   "source": [
    "### How would you input a value?"
   ]
  },
  {
   "cell_type": "code",
   "execution_count": 13,
   "id": "c91fc40c-7f4a-4f0c-9b1e-6e27358f7547",
   "metadata": {},
   "outputs": [
    {
     "name": "stdin",
     "output_type": "stream",
     "text": [
      "Please enter a value:  0\n"
     ]
    }
   ],
   "source": [
    "result = int(input('Please enter a value: '))"
   ]
  },
  {
   "cell_type": "code",
   "execution_count": 14,
   "id": "8af31d5a-4e6b-4346-af13-d658ac56e42f",
   "metadata": {},
   "outputs": [
    {
     "data": {
      "text/plain": [
       "int"
      ]
     },
     "execution_count": 14,
     "metadata": {},
     "output_type": "execute_result"
    }
   ],
   "source": [
    "type(result)"
   ]
  },
  {
   "cell_type": "code",
   "execution_count": 15,
   "id": "c2792a05-4177-479d-871e-50164c9d81f3",
   "metadata": {},
   "outputs": [
    {
     "data": {
      "text/plain": [
       "' '"
      ]
     },
     "execution_count": 15,
     "metadata": {},
     "output_type": "execute_result"
    }
   ],
   "source": [
    "row2[result]"
   ]
  },
  {
   "cell_type": "markdown",
   "id": "0c692f32-958b-4ab9-a244-071e511c0578",
   "metadata": {},
   "source": [
    "### Validating User Input"
   ]
  },
  {
   "cell_type": "code",
   "execution_count": 17,
   "id": "78ba3c06-4620-4bea-879b-1e11c99e7a58",
   "metadata": {},
   "outputs": [],
   "source": [
    "def user_choice():\n",
    "\n",
    "    choice = input(\"Please enter a number from 0-10: \")\n",
    "\n",
    "    return int(choice)"
   ]
  },
  {
   "cell_type": "code",
   "execution_count": 18,
   "id": "2c1b3250-60c0-4266-8b65-8a0a8d71da3e",
   "metadata": {},
   "outputs": [
    {
     "name": "stdin",
     "output_type": "stream",
     "text": [
      "Please enter a number from 0-10:  2\n"
     ]
    },
    {
     "data": {
      "text/plain": [
       "2"
      ]
     },
     "execution_count": 18,
     "metadata": {},
     "output_type": "execute_result"
    }
   ],
   "source": [
    "user_choice()"
   ]
  },
  {
   "cell_type": "code",
   "execution_count": 30,
   "id": "ea8d3c3c-da48-4dec-8811-d132677cfe13",
   "metadata": {},
   "outputs": [],
   "source": [
    "some_value = '5'"
   ]
  },
  {
   "cell_type": "code",
   "execution_count": 32,
   "id": "399c589c-df3a-44a5-b5e0-450267c7d9df",
   "metadata": {},
   "outputs": [
    {
     "data": {
      "text/plain": [
       "True"
      ]
     },
     "execution_count": 32,
     "metadata": {},
     "output_type": "execute_result"
    }
   ],
   "source": [
    "some_value.isdigit()\n",
    "\n",
    "#To check what a function does, press shift+tab"
   ]
  },
  {
   "cell_type": "code",
   "execution_count": 41,
   "id": "1c5abfca-4408-49bc-bab3-fdcb280be135",
   "metadata": {},
   "outputs": [],
   "source": [
    "def user_choice():\n",
    "\n",
    "    choice = 'WRONG'\n",
    "\n",
    "    while choice.isdigit() == False:\n",
    "\n",
    "        choice = input(\"Please enter a number from 0-10: \")\n",
    "\n",
    "        if choice.isdigit() == False:\n",
    "            print('Enter a number from 0-10!')\n",
    "\n",
    "    return int(choice)"
   ]
  },
  {
   "cell_type": "code",
   "execution_count": 42,
   "id": "0a3f94a4-b096-481e-805a-644346440273",
   "metadata": {},
   "outputs": [
    {
     "name": "stdin",
     "output_type": "stream",
     "text": [
      "Please enter a number from 0-10:  2\n"
     ]
    },
    {
     "data": {
      "text/plain": [
       "2"
      ]
     },
     "execution_count": 42,
     "metadata": {},
     "output_type": "execute_result"
    }
   ],
   "source": [
    "user_choice()"
   ]
  },
  {
   "cell_type": "code",
   "execution_count": 43,
   "id": "cd7d9f58-06fe-43f5-9549-9d4254c7a2f2",
   "metadata": {},
   "outputs": [
    {
     "name": "stdin",
     "output_type": "stream",
     "text": [
      "Please enter a number from 0-10:  test1\n"
     ]
    },
    {
     "name": "stdout",
     "output_type": "stream",
     "text": [
      "Enter a number from 0-10!\n"
     ]
    },
    {
     "name": "stdin",
     "output_type": "stream",
     "text": [
      "Please enter a number from 0-10:  test2\n"
     ]
    },
    {
     "name": "stdout",
     "output_type": "stream",
     "text": [
      "Enter a number from 0-10!\n"
     ]
    },
    {
     "name": "stdin",
     "output_type": "stream",
     "text": [
      "Please enter a number from 0-10:  test3\n"
     ]
    },
    {
     "name": "stdout",
     "output_type": "stream",
     "text": [
      "Enter a number from 0-10!\n"
     ]
    },
    {
     "name": "stdin",
     "output_type": "stream",
     "text": [
      "Please enter a number from 0-10:  4\n"
     ]
    },
    {
     "data": {
      "text/plain": [
       "4"
      ]
     },
     "execution_count": 43,
     "metadata": {},
     "output_type": "execute_result"
    }
   ],
   "source": [
    "user_choice()"
   ]
  }
 ],
 "metadata": {
  "kernelspec": {
   "display_name": "Python 3 (ipykernel)",
   "language": "python",
   "name": "python3"
  },
  "language_info": {
   "codemirror_mode": {
    "name": "ipython",
    "version": 3
   },
   "file_extension": ".py",
   "mimetype": "text/x-python",
   "name": "python",
   "nbconvert_exporter": "python",
   "pygments_lexer": "ipython3",
   "version": "3.12.4"
  }
 },
 "nbformat": 4,
 "nbformat_minor": 5
}
