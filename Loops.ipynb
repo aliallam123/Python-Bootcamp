{
 "cells": [
  {
   "cell_type": "markdown",
   "id": "488ffed9",
   "metadata": {},
   "source": [
    "# Section 5 - Python Statements"
   ]
  },
  {
   "cell_type": "markdown",
   "id": "ed1519fa",
   "metadata": {},
   "source": [
    "### 1) If Elif and Else Statements in Python"
   ]
  },
  {
   "cell_type": "code",
   "execution_count": 3,
   "id": "2b71dc9b",
   "metadata": {},
   "outputs": [
    {
     "name": "stdout",
     "output_type": "stream",
     "text": [
      "Im not hungry\n"
     ]
    }
   ],
   "source": [
    "hungry = False\n",
    "\n",
    "if hungry:\n",
    "    print('FEED ME')\n",
    "else:\n",
    "    print('Im not hungry')"
   ]
  },
  {
   "cell_type": "code",
   "execution_count": 36,
   "id": "3502cf86",
   "metadata": {},
   "outputs": [
    {
     "name": "stdout",
     "output_type": "stream",
     "text": [
      "Money is cool\n"
     ]
    }
   ],
   "source": [
    "location = 'Bank'\n",
    "\n",
    "if location == 'Auto Shop':\n",
    "    print('Hi')\n",
    "    \n",
    "elif location == 'Bank':\n",
    "    print('Money is cool')\n",
    "    \n",
    "else:\n",
    "    print('I do not know much')"
   ]
  },
  {
   "cell_type": "code",
   "execution_count": 37,
   "id": "74ae2c47",
   "metadata": {},
   "outputs": [
    {
     "name": "stdout",
     "output_type": "stream",
     "text": [
      "Welcome back, Ali!\n"
     ]
    }
   ],
   "source": [
    "name = 'Ali'\n",
    "\n",
    "if name == 'Bobby':\n",
    "    print('Access Denied')\n",
    "    \n",
    "elif name == 'Jimmy':\n",
    "    print('Access Denied')\n",
    "    \n",
    "else:\n",
    "    print('Welcome back, Ali!')"
   ]
  },
  {
   "cell_type": "markdown",
   "id": "38957e37",
   "metadata": {},
   "source": [
    "### 2) For Loops in Python"
   ]
  },
  {
   "cell_type": "code",
   "execution_count": 38,
   "id": "18f58943",
   "metadata": {},
   "outputs": [],
   "source": [
    "mylist = [10,5,3,2,6,4,1,8,7,9]"
   ]
  },
  {
   "cell_type": "code",
   "execution_count": 39,
   "id": "7b2152d3",
   "metadata": {},
   "outputs": [],
   "source": [
    "mylist.sort()"
   ]
  },
  {
   "cell_type": "code",
   "execution_count": 40,
   "id": "2a414814",
   "metadata": {},
   "outputs": [
    {
     "data": {
      "text/plain": [
       "[1, 2, 3, 4, 5, 6, 7, 8, 9, 10]"
      ]
     },
     "execution_count": 40,
     "metadata": {},
     "output_type": "execute_result"
    }
   ],
   "source": [
    "mylist"
   ]
  },
  {
   "cell_type": "code",
   "execution_count": 41,
   "id": "77d641cf",
   "metadata": {},
   "outputs": [
    {
     "name": "stdout",
     "output_type": "stream",
     "text": [
      "hello\n",
      "hello\n",
      "hello\n",
      "hello\n",
      "hello\n",
      "hello\n",
      "hello\n",
      "hello\n",
      "hello\n",
      "hello\n"
     ]
    }
   ],
   "source": [
    "for num in mylist:\n",
    "    print('hello')"
   ]
  },
  {
   "cell_type": "code",
   "execution_count": 42,
   "id": "58af2999",
   "metadata": {},
   "outputs": [
    {
     "name": "stdout",
     "output_type": "stream",
     "text": [
      "Odd Number: 1\n",
      "2\n",
      "Odd Number: 3\n",
      "4\n",
      "Odd Number: 5\n",
      "6\n",
      "Odd Number: 7\n",
      "8\n",
      "Odd Number: 9\n",
      "10\n"
     ]
    }
   ],
   "source": [
    "for num in mylist:\n",
    "    #check for even\n",
    "    if num % 2 == 0:\n",
    "        print(num)\n",
    "    \n",
    "    else:\n",
    "        print(f'Odd Number: {num}')"
   ]
  },
  {
   "cell_type": "code",
   "execution_count": 44,
   "id": "643527bc",
   "metadata": {},
   "outputs": [
    {
     "name": "stdout",
     "output_type": "stream",
     "text": [
      "55\n"
     ]
    }
   ],
   "source": [
    "list_sum = 0\n",
    "\n",
    "for num in mylist:\n",
    "    list_sum = list_sum + num\n",
    "    \n",
    "print(list_sum)"
   ]
  },
  {
   "cell_type": "markdown",
   "id": "a736114a",
   "metadata": {},
   "source": [
    "#### How to calculate the sum of a list using a for loop"
   ]
  },
  {
   "cell_type": "code",
   "execution_count": 45,
   "id": "36116996",
   "metadata": {},
   "outputs": [
    {
     "name": "stdout",
     "output_type": "stream",
     "text": [
      "55\n"
     ]
    }
   ],
   "source": [
    "mylist = [1,2,3,4,5,6,7,8,9,10]\n",
    "\n",
    "total_sum=0\n",
    "for num in mylist:\n",
    "    total_sum = total_sum + num\n",
    "    \n",
    "print(total_sum)"
   ]
  },
  {
   "cell_type": "code",
   "execution_count": 51,
   "id": "7d52d2d3",
   "metadata": {},
   "outputs": [
    {
     "name": "stdout",
     "output_type": "stream",
     "text": [
      "This code prints out this message for each letter of the string Hello World\n",
      "This code prints out this message for each letter of the string Hello World\n",
      "This code prints out this message for each letter of the string Hello World\n",
      "This code prints out this message for each letter of the string Hello World\n",
      "This code prints out this message for each letter of the string Hello World\n",
      "This code prints out this message for each letter of the string Hello World\n",
      "This code prints out this message for each letter of the string Hello World\n",
      "This code prints out this message for each letter of the string Hello World\n",
      "This code prints out this message for each letter of the string Hello World\n",
      "This code prints out this message for each letter of the string Hello World\n",
      "This code prints out this message for each letter of the string Hello World\n"
     ]
    }
   ],
   "source": [
    "for _ in 'Hello World':\n",
    "    print('This code prints out this message for each letter of the string Hello World' )"
   ]
  },
  {
   "cell_type": "markdown",
   "id": "42080047",
   "metadata": {},
   "source": [
    "### 3) While Loops in Python"
   ]
  },
  {
   "cell_type": "code",
   "execution_count": 4,
   "id": "83b89353",
   "metadata": {},
   "outputs": [
    {
     "name": "stdout",
     "output_type": "stream",
     "text": [
      "The current value of x is 0\n",
      "The current value of x is 1\n",
      "The current value of x is 2\n",
      "X is not equal to 3\n"
     ]
    }
   ],
   "source": [
    "x = 0\n",
    "\n",
    "while x < 3:\n",
    "    print(f'The current value of x is {x}')\n",
    "    x = x + 1\n",
    "    \n",
    "else:\n",
    "    print(\"X is not equal to 3\")"
   ]
  },
  {
   "cell_type": "markdown",
   "id": "20f38b97",
   "metadata": {},
   "source": [
    "### While loop terminology:\n",
    "    \n",
    "    break: Breaks out of the current closest enclosing loop.\n",
    "    continue: Goes to the top of the closest enclosing loop.\n",
    "    pass: Does nothing at all.\n",
    "    \n",
    "We can use break, continue and pass statements in our loops to add additional functionality for various cases."
   ]
  },
  {
   "cell_type": "code",
   "execution_count": 7,
   "id": "8639ffaa",
   "metadata": {},
   "outputs": [
    {
     "name": "stdout",
     "output_type": "stream",
     "text": [
      "end of my script\n"
     ]
    }
   ],
   "source": [
    "x = [1,2,3]\n",
    "\n",
    "for item in x:\n",
    "    pass\n",
    "#without the pass there would be a syntax error\n",
    "#programmers use pass to just hold that for loop in case they want to add to it later on\n",
    "\n",
    "print('end of my script')"
   ]
  },
  {
   "cell_type": "code",
   "execution_count": 9,
   "id": "53b66b86",
   "metadata": {},
   "outputs": [
    {
     "name": "stdout",
     "output_type": "stream",
     "text": [
      "S\n",
      "m\n",
      "m\n",
      "y\n"
     ]
    }
   ],
   "source": [
    "mystring = 'Sammy'\n",
    "\n",
    "for letter in mystring:\n",
    "    if letter == 'a':\n",
    "        continue\n",
    "    print(letter)"
   ]
  },
  {
   "cell_type": "code",
   "execution_count": 10,
   "id": "31d09c04",
   "metadata": {},
   "outputs": [
    {
     "name": "stdout",
     "output_type": "stream",
     "text": [
      "S\n"
     ]
    }
   ],
   "source": [
    "mystring = 'Sammy'\n",
    "\n",
    "for letter in mystring:\n",
    "    if letter == 'a':\n",
    "        break\n",
    "    print(letter)"
   ]
  },
  {
   "cell_type": "markdown",
   "id": "b2523eb1",
   "metadata": {},
   "source": [
    "Thanks for reading"
   ]
  }
 ],
 "metadata": {
  "kernelspec": {
   "display_name": "Python 3 (ipykernel)",
   "language": "python",
   "name": "python3"
  },
  "language_info": {
   "codemirror_mode": {
    "name": "ipython",
    "version": 3
   },
   "file_extension": ".py",
   "mimetype": "text/x-python",
   "name": "python",
   "nbconvert_exporter": "python",
   "pygments_lexer": "ipython3",
   "version": "3.11.5"
  }
 },
 "nbformat": 4,
 "nbformat_minor": 5
}
