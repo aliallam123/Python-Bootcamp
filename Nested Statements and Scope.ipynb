{
 "cells": [
  {
   "cell_type": "markdown",
   "id": "c602e4ae-3cbd-4f64-927e-80053337aac7",
   "metadata": {},
   "source": [
    "# Nested Statements and Scope"
   ]
  },
  {
   "cell_type": "markdown",
   "id": "93b5550a-2b5c-4fab-8239-e197e9a7e8f8",
   "metadata": {},
   "source": [
    "## LEGB Rule"
   ]
  },
  {
   "cell_type": "markdown",
   "id": "ba94fd1a-f4ff-4456-ac87-de37363fb825",
   "metadata": {},
   "source": [
    "L: Local - Names assigned in any way within a function (def or lambda), and not declared global in that function"
   ]
  },
  {
   "cell_type": "markdown",
   "id": "80d7eabb-bb06-4b5a-8b15-942f5af49f48",
   "metadata": {},
   "source": [
    "E: Enclosing function locals - Names in the local scope of any and all enclosing functions (def or lambda), from inner to outer."
   ]
  },
  {
   "cell_type": "markdown",
   "id": "ce21cc4e-c63b-4d6a-a838-cb3eccec89bf",
   "metadata": {},
   "source": [
    "G: Global (module) - Names assigned at the top-level of a module file, or declared global in a def within the file."
   ]
  },
  {
   "cell_type": "markdown",
   "id": "f821fc18-782b-45c2-b24f-ce76ced0f16f",
   "metadata": {},
   "source": [
    "B: Built-in (Python) - Names preassigned in the built-in names module: open, range, Syntax error, ..."
   ]
  },
  {
   "cell_type": "code",
   "execution_count": 2,
   "id": "e18a4437-1fa9-4434-962a-6232f77f14a5",
   "metadata": {},
   "outputs": [
    {
     "data": {
      "text/plain": [
       "<function __main__.<lambda>(num)>"
      ]
     },
     "execution_count": 2,
     "metadata": {},
     "output_type": "execute_result"
    }
   ],
   "source": [
    "lambda num:num**2"
   ]
  },
  {
   "cell_type": "code",
   "execution_count": 13,
   "id": "5ccf84cc-19ab-47cf-9fb3-aeef697771a8",
   "metadata": {},
   "outputs": [
    {
     "name": "stdout",
     "output_type": "stream",
     "text": [
      "Hello Sammy\n"
     ]
    }
   ],
   "source": [
    "name = 'Global String'\n",
    "\n",
    "def greet():\n",
    "    \n",
    "    name = 'Sammy'\n",
    "\n",
    "    def hello():\n",
    "        print('Hello ' + name)\n",
    "\n",
    "    hello()\n",
    "greet()"
   ]
  },
  {
   "cell_type": "code",
   "execution_count": null,
   "id": "deae2553-47a3-493a-9a5b-ac754c573f57",
   "metadata": {},
   "outputs": [],
   "source": []
  }
 ],
 "metadata": {
  "kernelspec": {
   "display_name": "Python 3 (ipykernel)",
   "language": "python",
   "name": "python3"
  },
  "language_info": {
   "codemirror_mode": {
    "name": "ipython",
    "version": 3
   },
   "file_extension": ".py",
   "mimetype": "text/x-python",
   "name": "python",
   "nbconvert_exporter": "python",
   "pygments_lexer": "ipython3",
   "version": "3.12.4"
  }
 },
 "nbformat": 4,
 "nbformat_minor": 5
}
