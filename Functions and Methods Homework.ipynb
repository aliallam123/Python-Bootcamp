{
 "cells": [
  {
   "cell_type": "markdown",
   "id": "0b46fc13-3120-4132-81d6-dd251ff05b4b",
   "metadata": {},
   "source": [
    "# Functions and Methods Homework"
   ]
  },
  {
   "cell_type": "markdown",
   "id": "41bd43fc-48cb-424d-b659-6df1d5c89b39",
   "metadata": {},
   "source": [
    "Complete the following questions:"
   ]
  },
  {
   "cell_type": "markdown",
   "id": "f1384bb3-39e1-4d95-9cda-c58de861aa56",
   "metadata": {},
   "source": [
    "Write a function that computes the volume of a sphere given its radius."
   ]
  },
  {
   "cell_type": "markdown",
   "id": "c3bd8bfb-7e60-4140-b1bc-fcf7f26f58bc",
   "metadata": {},
   "source": [
    "The volume of a sphere is given as\r\n"
   ]
  },
  {
   "cell_type": "markdown",
   "id": "0a48f054-7e83-434f-ad73-8ea0d4c770c4",
   "metadata": {},
   "source": [
    "= 4/3 π r 3"
   ]
  },
  {
   "cell_type": "code",
   "execution_count": 84,
   "id": "fe2ecccd-4630-47a4-874a-3e93540a5a83",
   "metadata": {},
   "outputs": [],
   "source": [
    "def vol(rad):\n",
    "    \n",
    "    vol = ((4/3) * (22/7) * rad**3)\n",
    "    \n",
    "    return round(vol,2)"
   ]
  },
  {
   "cell_type": "code",
   "execution_count": 85,
   "id": "e4ef1ac8-b46d-4c36-bef3-f468aeb0c7e4",
   "metadata": {},
   "outputs": [
    {
     "data": {
      "text/plain": [
       "4190.48"
      ]
     },
     "execution_count": 85,
     "metadata": {},
     "output_type": "execute_result"
    }
   ],
   "source": [
    "vol(10)"
   ]
  },
  {
   "cell_type": "markdown",
   "id": "75d51dd4-d094-42d7-b250-d18cce7d414d",
   "metadata": {},
   "source": [
    "Write a function that checks whether a number is in a given range (inclusive of high and low)"
   ]
  },
  {
   "cell_type": "code",
   "execution_count": 128,
   "id": "12e426ab-10d7-4a47-b281-da9401cf0c63",
   "metadata": {},
   "outputs": [],
   "source": [
    "def ran_check(num,low,high):\n",
    "\n",
    "    if num >= low and num <= high:\n",
    "        return 'This number is within ' + str(low) + ' and ' + str(high) + '!'\n",
    "    else:\n",
    "        return 'This number is NOT within ' + str(low) + ' and ' + str(high) + '!'"
   ]
  },
  {
   "cell_type": "code",
   "execution_count": 129,
   "id": "d80e67cf-bdf8-402a-8aa8-37e090a11bf5",
   "metadata": {},
   "outputs": [
    {
     "data": {
      "text/plain": [
       "'This number is NOT within 4 and 7!'"
      ]
     },
     "execution_count": 129,
     "metadata": {},
     "output_type": "execute_result"
    }
   ],
   "source": [
    "# Check\n",
    "ran_check(3,4,7)"
   ]
  },
  {
   "cell_type": "markdown",
   "id": "edd3794a-1c12-408d-9361-62b4f4745211",
   "metadata": {},
   "source": [
    "If you only wanted to return a boolean:"
   ]
  },
  {
   "cell_type": "code",
   "execution_count": 134,
   "id": "d579013c-415f-4bec-a12c-b13f7b770aa3",
   "metadata": {},
   "outputs": [],
   "source": [
    "def ran_bool(num,low,high):\n",
    "    if num >= low and num <= high:\n",
    "        return True\n",
    "    else:\n",
    "        return False"
   ]
  },
  {
   "cell_type": "code",
   "execution_count": 135,
   "id": "e69c4a80-c21b-4eff-9aad-d36cc4ce649f",
   "metadata": {},
   "outputs": [
    {
     "data": {
      "text/plain": [
       "True"
      ]
     },
     "execution_count": 135,
     "metadata": {},
     "output_type": "execute_result"
    }
   ],
   "source": [
    "ran_bool(3,1,10)"
   ]
  },
  {
   "cell_type": "markdown",
   "id": "c34952ec-d7e7-4dd3-91c0-3721f8bfc614",
   "metadata": {},
   "source": [
    "Write a Python function that accepts a string and calculates the number of upper case letters and lower case letters."
   ]
  },
  {
   "cell_type": "markdown",
   "id": "231364c6-8992-42ad-9603-6ca7320ccd1b",
   "metadata": {},
   "source": [
    "Sample String : 'Hello Mr. Rogers, how are you this fine Tuesday?'\n",
    "\n",
    "Expected Output : \n",
    "\n",
    "No. of Upper case characters : 4\n",
    "\n",
    "No. of Lower case Characters : 33"
   ]
  },
  {
   "cell_type": "markdown",
   "id": "aa24ee91-c70d-40cb-9387-de0d819714d2",
   "metadata": {},
   "source": [
    "HINT: Two string methods that might prove useful: .isupper() and .islower()\r\n",
    "\r\n",
    "If you feel ambitious, explore the Collections module to solve this problem!"
   ]
  },
  {
   "cell_type": "code",
   "execution_count": 176,
   "id": "994f6d74-5fa2-4ec7-8495-33249d9ec569",
   "metadata": {},
   "outputs": [],
   "source": [
    "def up_low(s):\n",
    "    lower_count = 0\n",
    "    upper_count = 0\n",
    "    \n",
    "    for i in s:\n",
    "        if i.islower() == True :\n",
    "            lower_count += 1\n",
    "        elif i.isupper() == True:\n",
    "            upper_count += 1\n",
    "\n",
    "    print('Original String: ' + s)\n",
    "    print('No. of Lower case Characters : ' + str(lower_count))\n",
    "    print('No. of Upper case Characters : ' + str(upper_count))"
   ]
  },
  {
   "cell_type": "code",
   "execution_count": 177,
   "id": "db29d4da-6d8b-4090-aeb6-71fd6a035d9c",
   "metadata": {},
   "outputs": [
    {
     "name": "stdout",
     "output_type": "stream",
     "text": [
      "Original String: Hello Mr. Rogers, how are you this fine Tuesday?\n",
      "No. of Lower case Characters : 33\n",
      "No. of Upper case Characters : 4\n"
     ]
    }
   ],
   "source": [
    "s = 'Hello Mr. Rogers, how are you this fine Tuesday?'\n",
    "up_low(s)"
   ]
  },
  {
   "cell_type": "markdown",
   "id": "a086691d-008a-45f6-9090-f2f257ac5b50",
   "metadata": {},
   "source": [
    "Write a Python function that takes a list and returns a new list with unique elements of the first list.\r\n"
   ]
  },
  {
   "cell_type": "markdown",
   "id": "ef49b61d-bc94-469e-83d2-016622854a66",
   "metadata": {},
   "source": [
    "Sample List : [1,1,1,1,2,2,3,3,3,3,4,5]\n",
    "\n",
    "Unique List : [1, 2, 3, 4, 5]"
   ]
  },
  {
   "cell_type": "code",
   "execution_count": 198,
   "id": "675094ef-4f2f-4abe-896a-075df7745760",
   "metadata": {},
   "outputs": [],
   "source": [
    "def unique_list(lst):\n",
    "    return list(set(lst))"
   ]
  },
  {
   "cell_type": "code",
   "execution_count": 199,
   "id": "499314ad-44d4-4ed6-a62d-f42f0724a132",
   "metadata": {},
   "outputs": [
    {
     "data": {
      "text/plain": [
       "[1, 2, 3, 4, 5]"
      ]
     },
     "execution_count": 199,
     "metadata": {},
     "output_type": "execute_result"
    }
   ],
   "source": [
    "unique_list([1,1,1,1,2,2,3,3,3,3,4,5])"
   ]
  },
  {
   "cell_type": "markdown",
   "id": "c8b2945c-ce41-42b6-8b9b-90fb84b88b0c",
   "metadata": {},
   "source": [
    "Write a Python function to multiply all the numbers in a list."
   ]
  },
  {
   "cell_type": "markdown",
   "id": "cab886ed-c545-4c1f-82f0-fccc8ea62ae3",
   "metadata": {},
   "source": [
    "Write a Python function to multiply all the numbers in a list.\n",
    "\n",
    "Sample List : [1, 2, 3, -4]\n",
    "Expected Output : -24"
   ]
  },
  {
   "cell_type": "code",
   "execution_count": 224,
   "id": "51008910-623f-487f-9b23-ca7a4448a3eb",
   "metadata": {},
   "outputs": [],
   "source": [
    "def multiply(numbers):  \n",
    "    result = 1\n",
    "    for i in numbers:\n",
    "        result = i * result\n",
    "    return result"
   ]
  },
  {
   "cell_type": "code",
   "execution_count": 225,
   "id": "27435643-f61b-4bee-8ca7-c307b3796300",
   "metadata": {},
   "outputs": [
    {
     "data": {
      "text/plain": [
       "-24"
      ]
     },
     "execution_count": 225,
     "metadata": {},
     "output_type": "execute_result"
    }
   ],
   "source": [
    "multiply([1,2,3,-4])"
   ]
  },
  {
   "cell_type": "markdown",
   "id": "432f6c5e-fe1f-4417-9ce5-95ff646a10d8",
   "metadata": {},
   "source": [
    "Write a Python function that checks whether a word or phrase is palindrome or not."
   ]
  },
  {
   "cell_type": "markdown",
   "id": "a4be11a8-c066-4f22-b879-b9616851998b",
   "metadata": {},
   "source": [
    "Note: A palindrome is word, phrase, or sequence that reads the same backward as forward, e.g., madam,kayak,racecar, or a phrase \"nurses run\". Hint: You may want to check out the .replace() method in a string to help out with dealing with spaces. Also google search how to reverse a string in Python, there are some clever ways to do it with slicing notation."
   ]
  },
  {
   "cell_type": "code",
   "execution_count": 242,
   "id": "84aadcf9-3668-4d52-b283-96a32a12d108",
   "metadata": {},
   "outputs": [],
   "source": [
    "def palindrome(s):\n",
    "    if s == s[::-1]:\n",
    "        return 'This word is a Palindrome!'\n",
    "    else:\n",
    "        return 'This word is NOT a Palindrome!'"
   ]
  },
  {
   "cell_type": "code",
   "execution_count": 243,
   "id": "ef8ec9da-fa7c-4ac1-b0ce-befd06cff812",
   "metadata": {},
   "outputs": [
    {
     "data": {
      "text/plain": [
       "'This word is a Palindrome!'"
      ]
     },
     "execution_count": 243,
     "metadata": {},
     "output_type": "execute_result"
    }
   ],
   "source": [
    "palindrome('hih')"
   ]
  },
  {
   "cell_type": "markdown",
   "id": "1f7c2f42-7ce3-4c87-97fa-0bdde89327c3",
   "metadata": {},
   "source": [
    "### Hard:"
   ]
  },
  {
   "cell_type": "markdown",
   "id": "c15dbea7-5e5b-4b30-ad71-23385c5e6abe",
   "metadata": {},
   "source": [
    "Write a Python function to check whether a string is pangram or not. (Assume the string passed in does not have any punctuation)"
   ]
  },
  {
   "cell_type": "markdown",
   "id": "8e21c707-c6a6-443a-b3d6-abe9796f16fe",
   "metadata": {},
   "source": [
    "Note : Pangrams are words or sentences containing every letter of the alphabet at least once.\r\n",
    "For example : \"The quick brown fox jumps over the lazy dog\""
   ]
  },
  {
   "cell_type": "markdown",
   "id": "44c7cfe7-788a-4b2b-bd22-43a520e52ae0",
   "metadata": {},
   "source": [
    "Hint: You may want to use .replace() method to get rid of spaces.\r\n",
    "\r\n",
    "Hint: Look at the string module\r\n",
    "\r\n",
    "Hint: In case you want to use set comparisons"
   ]
  },
  {
   "cell_type": "code",
   "execution_count": 2,
   "id": "1657516c-6de5-4883-918c-abd3d1b0fbd1",
   "metadata": {},
   "outputs": [],
   "source": [
    "import string\n",
    "\n",
    "def ispangram(str1, alphabet=string.ascii_lowercase):\n",
    "    \n",
    "    txt = str1.replace(\" \", \"\")\n",
    "    \n",
    "    return set(alphabet).issubset(txt)"
   ]
  },
  {
   "cell_type": "code",
   "execution_count": 7,
   "id": "50356a64-c768-4a4f-9764-6ba001426292",
   "metadata": {},
   "outputs": [
    {
     "data": {
      "text/plain": [
       "True"
      ]
     },
     "execution_count": 7,
     "metadata": {},
     "output_type": "execute_result"
    }
   ],
   "source": [
    "ispangram(\"The quick brown fox jumps over the lazy dog\")"
   ]
  },
  {
   "cell_type": "code",
   "execution_count": 4,
   "id": "ebab1c1f-5c48-41a2-acf0-5de278652bcd",
   "metadata": {},
   "outputs": [
    {
     "data": {
      "text/plain": [
       "'abcdefghijklmnopqrstuvwxyz'"
      ]
     },
     "execution_count": 4,
     "metadata": {},
     "output_type": "execute_result"
    }
   ],
   "source": [
    "string.ascii_lowercase"
   ]
  },
  {
   "cell_type": "markdown",
   "id": "079c6c65-a029-44c6-899e-6a037526c0dc",
   "metadata": {},
   "source": [
    "# Great Job!"
   ]
  }
 ],
 "metadata": {
  "kernelspec": {
   "display_name": "Python 3 (ipykernel)",
   "language": "python",
   "name": "python3"
  },
  "language_info": {
   "codemirror_mode": {
    "name": "ipython",
    "version": 3
   },
   "file_extension": ".py",
   "mimetype": "text/x-python",
   "name": "python",
   "nbconvert_exporter": "python",
   "pygments_lexer": "ipython3",
   "version": "3.12.4"
  }
 },
 "nbformat": 4,
 "nbformat_minor": 5
}
