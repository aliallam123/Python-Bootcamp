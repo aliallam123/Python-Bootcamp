{
 "cells": [
  {
   "cell_type": "markdown",
   "id": "7f0dd71a-3ef3-438c-b2b8-e735b935a5b1",
   "metadata": {},
   "source": [
    "# Decorators with Python @"
   ]
  },
  {
   "cell_type": "markdown",
   "id": "d009b7fc-f369-43fa-9fde-c8da67f8ad7c",
   "metadata": {},
   "source": [
    "Decorators can be thought of as functions which modify the functionality of another function. They help to make your code shorter and more \"Pythonic\"."
   ]
  },
  {
   "cell_type": "markdown",
   "id": "cb4c22d4-84ea-4749-a00a-af092ab2edc5",
   "metadata": {},
   "source": [
    "To properly explain decorators we will slowly build up from functions. Make sure to run every cell in this Notebook for this lecture to look the same on your own computer."
   ]
  },
  {
   "cell_type": "code",
   "execution_count": 2,
   "id": "c9f7e53c-4a5f-4161-87ba-c89bf7739bec",
   "metadata": {},
   "outputs": [],
   "source": [
    "def simple_func():\n",
    "    # Want to do more stuff!\n",
    "    # Do simple stuff \n",
    "    return something"
   ]
  },
  {
   "cell_type": "markdown",
   "id": "cd7ee9df-03dd-48f0-b4f3-0b02319469c7",
   "metadata": {},
   "source": [
    "Python has decorators that allow you to tack on extra functionality to an already existing function."
   ]
  },
  {
   "cell_type": "markdown",
   "id": "cb126880-3488-4c88-85ec-2f8a8b4360c8",
   "metadata": {},
   "source": [
    "They use the @ operator and are then placed on top of the original function"
   ]
  },
  {
   "cell_type": "markdown",
   "id": "ecf25480-4dad-47ea-90e3-8b93de015afa",
   "metadata": {},
   "source": [
    "Now you can easily add on extra functionality with a decorator:"
   ]
  },
  {
   "cell_type": "code",
   "execution_count": 8,
   "id": "f64325e8-f51a-43ec-a837-abca88fb12c5",
   "metadata": {},
   "outputs": [],
   "source": [
    "#@some_decorator\n",
    "def simple_func():\n",
    "    # Do simple stuff\n",
    "    return something"
   ]
  },
  {
   "cell_type": "markdown",
   "id": "2988fc59-5512-4e43-9be4-0315146148b5",
   "metadata": {},
   "source": [
    "We will go through the steps manually to understand what the decorator does behind the scenes"
   ]
  },
  {
   "cell_type": "code",
   "execution_count": 4,
   "id": "de8212fe-7805-4b2c-9215-0be11b3a84cc",
   "metadata": {},
   "outputs": [],
   "source": [
    "def func():\n",
    "    return 1"
   ]
  },
  {
   "cell_type": "code",
   "execution_count": 5,
   "id": "74701399-aa7f-4841-aaf8-76d31baa3c29",
   "metadata": {},
   "outputs": [
    {
     "data": {
      "text/plain": [
       "1"
      ]
     },
     "execution_count": 5,
     "metadata": {},
     "output_type": "execute_result"
    }
   ],
   "source": [
    "func()"
   ]
  },
  {
   "cell_type": "code",
   "execution_count": 9,
   "id": "92052a9d-5225-449c-9ff8-228dca4bbeff",
   "metadata": {},
   "outputs": [],
   "source": [
    "def hello():\n",
    "    return 'Hello!'"
   ]
  },
  {
   "cell_type": "code",
   "execution_count": 10,
   "id": "37b93faf-6d1f-4f5a-8897-a1ad7bc70ef7",
   "metadata": {},
   "outputs": [
    {
     "data": {
      "text/plain": [
       "'Hello!'"
      ]
     },
     "execution_count": 10,
     "metadata": {},
     "output_type": "execute_result"
    }
   ],
   "source": [
    "hello()"
   ]
  },
  {
   "cell_type": "code",
   "execution_count": 11,
   "id": "5102daf1-82e4-4d39-9b5b-334c6b479236",
   "metadata": {},
   "outputs": [
    {
     "data": {
      "text/plain": [
       "<function __main__.hello()>"
      ]
     },
     "execution_count": 11,
     "metadata": {},
     "output_type": "execute_result"
    }
   ],
   "source": [
    "hello"
   ]
  },
  {
   "cell_type": "code",
   "execution_count": 12,
   "id": "e6633a3d-6a53-473f-ba9b-41351f3fc365",
   "metadata": {},
   "outputs": [],
   "source": [
    "greet = hello"
   ]
  },
  {
   "cell_type": "code",
   "execution_count": 13,
   "id": "aaaf1297-e9f4-49be-ba4f-742a1a66c0e9",
   "metadata": {},
   "outputs": [
    {
     "data": {
      "text/plain": [
       "<function __main__.hello()>"
      ]
     },
     "execution_count": 13,
     "metadata": {},
     "output_type": "execute_result"
    }
   ],
   "source": [
    "greet"
   ]
  },
  {
   "cell_type": "code",
   "execution_count": 14,
   "id": "4a0b4b8e-c387-4a88-af9b-5ffab32c55d3",
   "metadata": {},
   "outputs": [
    {
     "data": {
      "text/plain": [
       "'Hello!'"
      ]
     },
     "execution_count": 14,
     "metadata": {},
     "output_type": "execute_result"
    }
   ],
   "source": [
    "greet()"
   ]
  },
  {
   "cell_type": "code",
   "execution_count": 15,
   "id": "563950d9-7b32-4cd4-85eb-48c8b09ec03f",
   "metadata": {},
   "outputs": [],
   "source": [
    "del hello"
   ]
  },
  {
   "cell_type": "code",
   "execution_count": 16,
   "id": "c8a06036-461d-4093-8a99-60a2c17f9b89",
   "metadata": {},
   "outputs": [
    {
     "ename": "NameError",
     "evalue": "name 'hello' is not defined",
     "output_type": "error",
     "traceback": [
      "\u001b[1;31m---------------------------------------------------------------------------\u001b[0m",
      "\u001b[1;31mNameError\u001b[0m                                 Traceback (most recent call last)",
      "Cell \u001b[1;32mIn[16], line 1\u001b[0m\n\u001b[1;32m----> 1\u001b[0m hello()\n",
      "\u001b[1;31mNameError\u001b[0m: name 'hello' is not defined"
     ]
    }
   ],
   "source": [
    "hello()"
   ]
  },
  {
   "cell_type": "code",
   "execution_count": 17,
   "id": "2df81f18-67c9-4e83-8578-acc097e55e4b",
   "metadata": {},
   "outputs": [
    {
     "data": {
      "text/plain": [
       "'Hello!'"
      ]
     },
     "execution_count": 17,
     "metadata": {},
     "output_type": "execute_result"
    }
   ],
   "source": [
    "greet()"
   ]
  },
  {
   "cell_type": "markdown",
   "id": "92818e68-1aa7-4d4e-8018-81b928f4d7c2",
   "metadata": {},
   "source": [
    "We deleted hello but greet is still linked to hello"
   ]
  },
  {
   "cell_type": "code",
   "execution_count": null,
   "id": "93d10e15-bd26-4b49-95af-0fa710e1fd45",
   "metadata": {},
   "outputs": [],
   "source": []
  },
  {
   "cell_type": "code",
   "execution_count": null,
   "id": "b6d15f7d-eec3-4997-ad32-05afbd0e7354",
   "metadata": {},
   "outputs": [],
   "source": []
  },
  {
   "cell_type": "code",
   "execution_count": null,
   "id": "dbe08024-75df-4a6e-86ab-bc7ac0c82329",
   "metadata": {},
   "outputs": [],
   "source": []
  },
  {
   "cell_type": "code",
   "execution_count": null,
   "id": "47785c4d-6ab7-46a9-b3ec-e9ab2ec17cde",
   "metadata": {},
   "outputs": [],
   "source": []
  },
  {
   "cell_type": "code",
   "execution_count": 31,
   "id": "1ada325f-4bef-4b15-97fe-aa5ebb47f0c0",
   "metadata": {},
   "outputs": [],
   "source": [
    "def hello(name='Ali'):\n",
    "    print('The hello() function has been executed')\n",
    "\n",
    "    def greet():\n",
    "        return '\\t This is the greet() function inside hello'\n",
    "\n",
    "    def welcome():\n",
    "        return '\\t This is welcome() inside hello'\n",
    "\n",
    "    print(greet())\n",
    "    print(welcome())\n",
    "    print('This is the end of the hello() function')"
   ]
  },
  {
   "cell_type": "code",
   "execution_count": 32,
   "id": "7513490c-89e8-476c-81fb-3410927c0e55",
   "metadata": {},
   "outputs": [
    {
     "name": "stdout",
     "output_type": "stream",
     "text": [
      "The hello() function has been executed\n",
      "\t This is the greet() function inside hello\n",
      "\t This is welcome() inside hello\n",
      "This is the end of the hello() function\n"
     ]
    }
   ],
   "source": [
    "hello()"
   ]
  },
  {
   "cell_type": "code",
   "execution_count": 34,
   "id": "7c861f87-ea27-437e-83a3-328104bfd4b8",
   "metadata": {},
   "outputs": [],
   "source": [
    "def hello(name='Ali'):\n",
    "    print('The hello() function has been executed')\n",
    "\n",
    "    def greet():\n",
    "        return '\\t This is the greet() function inside hello'\n",
    "\n",
    "    def welcome():\n",
    "        return '\\t This is welcome() inside hello'\n",
    "\n",
    "    print('I am going to return a function')\n",
    "\n",
    "    if name == 'Ali':\n",
    "        return greet\n",
    "    else: \n",
    "        return welcome"
   ]
  },
  {
   "cell_type": "code",
   "execution_count": 35,
   "id": "37bec82e-2bea-457a-b33b-1cb889fad3a0",
   "metadata": {},
   "outputs": [
    {
     "name": "stdout",
     "output_type": "stream",
     "text": [
      "The hello() function has been executed\n",
      "I am going to return a function\n"
     ]
    }
   ],
   "source": [
    "mynewfunction = hello('Ali')"
   ]
  },
  {
   "cell_type": "code",
   "execution_count": 38,
   "id": "b50eab67-b845-4d0a-a804-a5de129d451d",
   "metadata": {},
   "outputs": [
    {
     "name": "stdout",
     "output_type": "stream",
     "text": [
      "\t This is the greet() function inside hello\n"
     ]
    }
   ],
   "source": [
    "print(mynewfunction())"
   ]
  },
  {
   "cell_type": "code",
   "execution_count": 39,
   "id": "caebb02e-5696-479d-b7f4-2cf37dce2ce1",
   "metadata": {},
   "outputs": [],
   "source": [
    "def cool():\n",
    "\n",
    "    def super_cool():\n",
    "        return 'I am very cool'\n",
    "\n",
    "    return super_cool"
   ]
  },
  {
   "cell_type": "code",
   "execution_count": 41,
   "id": "19ff257e-b471-4759-8581-1dbf5583e9b1",
   "metadata": {},
   "outputs": [
    {
     "name": "stdout",
     "output_type": "stream",
     "text": [
      "I am very cool\n"
     ]
    }
   ],
   "source": [
    "some_func = cool()\n",
    "print(some_func())"
   ]
  },
  {
   "cell_type": "markdown",
   "id": "b3c140ff-1a92-469e-9fe0-f4c1e396eb8a",
   "metadata": {},
   "source": [
    "## Creating a decorator"
   ]
  },
  {
   "cell_type": "code",
   "execution_count": 42,
   "id": "50ed6345-b8a1-4e72-9d01-7360f6f98fe4",
   "metadata": {},
   "outputs": [],
   "source": [
    "def new_decorator(func):\n",
    "\n",
    "    def wrap_func():\n",
    "        print(\"Code would be here, before executing the func\")\n",
    "\n",
    "        func()\n",
    "\n",
    "        print(\"Code here will execute after the func()\")\n",
    "\n",
    "    return wrap_func\n",
    "\n",
    "def func_needs_decorator():\n",
    "    print(\"This function is in need of a Decorator\")"
   ]
  },
  {
   "cell_type": "code",
   "execution_count": 43,
   "id": "1862ce90-497a-4fd2-85aa-490ec2ee288e",
   "metadata": {},
   "outputs": [
    {
     "name": "stdout",
     "output_type": "stream",
     "text": [
      "This function is in need of a Decorator\n"
     ]
    }
   ],
   "source": [
    "func_needs_decorator()"
   ]
  },
  {
   "cell_type": "code",
   "execution_count": 44,
   "id": "7ed4af8d-a0eb-4fad-94fa-e2a0d9b28662",
   "metadata": {},
   "outputs": [],
   "source": [
    "# Reassign func_needs_decorator\n",
    "func_needs_decorator = new_decorator(func_needs_decorator)"
   ]
  },
  {
   "cell_type": "code",
   "execution_count": 45,
   "id": "50931f5d-dc7f-4ae4-9bd7-09762da6594d",
   "metadata": {},
   "outputs": [
    {
     "name": "stdout",
     "output_type": "stream",
     "text": [
      "Code would be here, before executing the func\n",
      "This function is in need of a Decorator\n",
      "Code here will execute after the func()\n"
     ]
    }
   ],
   "source": [
    "func_needs_decorator()"
   ]
  },
  {
   "cell_type": "code",
   "execution_count": 48,
   "id": "0eaa9bc8-da90-4b68-82d7-a63508dad31f",
   "metadata": {},
   "outputs": [],
   "source": [
    "@new_decorator\n",
    "def func_needs_decorator():\n",
    "    print(\"This function is in need of a Decorator\")"
   ]
  },
  {
   "cell_type": "code",
   "execution_count": 47,
   "id": "f0eee0c7-40c2-48ed-a30b-e1d70db61261",
   "metadata": {},
   "outputs": [
    {
     "name": "stdout",
     "output_type": "stream",
     "text": [
      "Code would be here, before executing the func\n",
      "This function is in need of a Decorator\n",
      "Code here will execute after the func()\n"
     ]
    }
   ],
   "source": [
    "func_needs_decorator()"
   ]
  },
  {
   "cell_type": "markdown",
   "id": "ddfaa52d-0f06-451b-8fcd-efc651349d55",
   "metadata": {},
   "source": [
    "# Decorators in Python"
   ]
  },
  {
   "cell_type": "code",
   "execution_count": null,
   "id": "5fe4e240-a3c6-406b-8e1c-e7a6a8305ad4",
   "metadata": {},
   "outputs": [],
   "source": [
    "def my_decorator(original_func):\n",
    "\n",
    "    def wrapper():\n",
    "        print('This is before the func')\n",
    "\n",
    "        original_func()\n",
    "\n",
    "        print('This "
   ]
  }
 ],
 "metadata": {
  "kernelspec": {
   "display_name": "Python 3 (ipykernel)",
   "language": "python",
   "name": "python3"
  },
  "language_info": {
   "codemirror_mode": {
    "name": "ipython",
    "version": 3
   },
   "file_extension": ".py",
   "mimetype": "text/x-python",
   "name": "python",
   "nbconvert_exporter": "python",
   "pygments_lexer": "ipython3",
   "version": "3.12.4"
  }
 },
 "nbformat": 4,
 "nbformat_minor": 5
}
