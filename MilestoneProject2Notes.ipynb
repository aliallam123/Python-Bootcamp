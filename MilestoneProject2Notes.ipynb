{
 "cells": [
  {
   "cell_type": "markdown",
   "id": "4c4bffb7-8527-41db-bd3a-0510efd89340",
   "metadata": {
    "jp-MarkdownHeadingCollapsed": true
   },
   "source": [
    "# Milestone Project 2 Notes"
   ]
  },
  {
   "cell_type": "markdown",
   "id": "d2bf8a32-a14a-4430-a0fe-bfc2fce2cddc",
   "metadata": {},
   "source": [
    "### Warm-up project"
   ]
  },
  {
   "cell_type": "markdown",
   "id": "697a1446-b35f-4cfb-b862-f9a716024ccf",
   "metadata": {},
   "source": [
    "For the warm-up we will recreate the card game 'War'"
   ]
  },
  {
   "cell_type": "markdown",
   "id": "b9734c21-7fe9-4b8f-8e3e-5d757a89a687",
   "metadata": {},
   "source": [
    "The card game War is a simple, two-player game using a standard deck of 52 cards. Here's how it's played:\n",
    "\n",
    "1. The deck is shuffled and evenly split between the two players.\n",
    "\n",
    "2. Each player reveals the top card of their deck simultaneously.\n",
    "\n",
    "3. The player with the higher card wins both cards and places them at the bottom of their pile. Cards rank from 2 (lowest) to Ace (highest).\n",
    "\n",
    "4. If both cards are of equal rank, a \"war\" occurs: each player places three cards face down and a fourth card face up. The player with the higher fourth card wins all the cards.\n",
    "\n",
    "5. The game continues until one player has all the cards, or players can agree on a draw if it takes too long"
   ]
  },
  {
   "cell_type": "markdown",
   "id": "d5e5ca65-2dd1-42c8-8889-cd35cf95b11c",
   "metadata": {},
   "source": [
    "To construct this game, we will create:\n",
    "1. Card class\n",
    "2. Deck class\n",
    "3. Player class\n",
    "4. Game logic"
   ]
  },
  {
   "cell_type": "markdown",
   "id": "a3f81323-0f06-40e1-a34c-10b97d32a506",
   "metadata": {},
   "source": [
    "# Card Class"
   ]
  },
  {
   "cell_type": "markdown",
   "id": "e71bd107-4d33-49ab-bdca-38d4410c9a49",
   "metadata": {},
   "source": [
    "This function should understand:\n",
    "1) The suit of the card\n",
    "2) The rank of the card\n",
    "3) The value of the card"
   ]
  },
  {
   "cell_type": "code",
   "execution_count": 1,
   "id": "2d8580e2-df8f-4240-8306-44e034594049",
   "metadata": {},
   "outputs": [],
   "source": [
    "import random\n",
    "\n",
    "suits = ('Hearts', 'Diamonds', 'Spades', 'Clubs')\n",
    "ranks = ('Two', 'Three', 'Four', 'Five', 'Six', 'Seven', 'Eight', 'Nine', 'Ten', 'Jack', 'Queen', 'King', 'Ace')\n",
    "values = {'Two':2, 'Three':3, 'Four':4, 'Five':5, 'Six':6, 'Seven':7, 'Eight':8, \n",
    "            'Nine':9, 'Ten':10, 'Jack':11, 'Queen':12, 'King':13, 'Ace':14}"
   ]
  },
  {
   "cell_type": "code",
   "execution_count": 2,
   "id": "7f767a31-03db-4e17-9694-f40f62032ee2",
   "metadata": {},
   "outputs": [],
   "source": [
    "class Card():\n",
    "\n",
    "    def __init__(self,suit,rank):\n",
    "        self.suit = suit\n",
    "        self.rank = rank\n",
    "        self.values = values[rank]\n",
    "\n",
    "    def __str__(self):\n",
    "        return self.rank + \" of \" + self.suit"
   ]
  },
  {
   "cell_type": "code",
   "execution_count": 3,
   "id": "9a1d9554-0d93-4648-b146-fbac6c98df08",
   "metadata": {},
   "outputs": [
    {
     "data": {
      "text/plain": [
       "2"
      ]
     },
     "execution_count": 3,
     "metadata": {},
     "output_type": "execute_result"
    }
   ],
   "source": [
    "two_hearts = Card('hearts','Two')\n",
    "two_hearts.values"
   ]
  },
  {
   "cell_type": "code",
   "execution_count": 4,
   "id": "67189e54-99ef-4b35-8a7d-e16e9e274bfc",
   "metadata": {},
   "outputs": [
    {
     "data": {
      "text/plain": [
       "3"
      ]
     },
     "execution_count": 4,
     "metadata": {},
     "output_type": "execute_result"
    }
   ],
   "source": [
    "three_of_clubs = Card('clubs', 'Three')\n",
    "three_of_clubs.values"
   ]
  },
  {
   "cell_type": "markdown",
   "id": "b712fd7e-9d2a-4198-9f48-91aba24bd32b",
   "metadata": {},
   "source": [
    "# Deck Class"
   ]
  },
  {
   "cell_type": "code",
   "execution_count": 5,
   "id": "3a4e5c57-94b6-499e-bee3-62aea0411181",
   "metadata": {},
   "outputs": [],
   "source": [
    "class Deck():\n",
    "\n",
    "    def __init__(self):\n",
    "        self.allcards = []\n",
    "\n",
    "        for suit in suits:\n",
    "            for rank in ranks:\n",
    "                # Create the card object\n",
    "                created_card = Card(suit,rank)\n",
    "                \n",
    "                self.allcards.append(created_card)\n",
    "\n",
    "    def shuffle(self):\n",
    "        \n",
    "        random.shuffle(self.allcards)\n",
    "\n",
    "    #Take a card from the deck so the deck of cards goes from 52 to 51\n",
    "    def deal_one(self):\n",
    "        return self.allcards.pop()"
   ]
  },
  {
   "cell_type": "code",
   "execution_count": 6,
   "id": "95c8e4dc-c7a6-4e6b-bf54-19fff81e1d21",
   "metadata": {},
   "outputs": [],
   "source": [
    "new_deck = Deck()"
   ]
  },
  {
   "cell_type": "code",
   "execution_count": 7,
   "id": "d2603eda-c378-4894-8ec6-a57a57f5ac78",
   "metadata": {},
   "outputs": [],
   "source": [
    "first_card = new_deck.allcards[0]"
   ]
  },
  {
   "cell_type": "code",
   "execution_count": 8,
   "id": "ef80bab9-1396-4b77-a387-e31d1bcf819c",
   "metadata": {},
   "outputs": [
    {
     "name": "stdout",
     "output_type": "stream",
     "text": [
      "Two of Hearts\n"
     ]
    }
   ],
   "source": [
    "print(first_card)"
   ]
  },
  {
   "cell_type": "code",
   "execution_count": 9,
   "id": "30c2da6f-e901-4a97-95a4-24eb1e278012",
   "metadata": {},
   "outputs": [],
   "source": [
    "bottom_card = new_deck.allcards[-1]"
   ]
  },
  {
   "cell_type": "code",
   "execution_count": 10,
   "id": "f2da3668-143a-4d68-8e86-ab1ba98c0f66",
   "metadata": {},
   "outputs": [
    {
     "name": "stdout",
     "output_type": "stream",
     "text": [
      "Ace of Clubs\n"
     ]
    }
   ],
   "source": [
    "print(bottom_card)"
   ]
  },
  {
   "cell_type": "markdown",
   "id": "b944b831-c2e1-49c9-ba99-31af18fe8881",
   "metadata": {},
   "source": [
    "### After writing the shuffle method"
   ]
  },
  {
   "cell_type": "code",
   "execution_count": 11,
   "id": "6ff5908b-a1e1-45e2-8971-c7941781018f",
   "metadata": {},
   "outputs": [],
   "source": [
    "new_deck.shuffle()"
   ]
  },
  {
   "cell_type": "code",
   "execution_count": 12,
   "id": "f7e255d8-231b-447d-a2eb-972b37defcca",
   "metadata": {},
   "outputs": [
    {
     "name": "stdout",
     "output_type": "stream",
     "text": [
      "Five of Spades\n"
     ]
    }
   ],
   "source": [
    "print(new_deck.allcards[0])"
   ]
  },
  {
   "cell_type": "code",
   "execution_count": 13,
   "id": "c5a576cf-9fb6-40b2-9d8a-3394d075d942",
   "metadata": {},
   "outputs": [],
   "source": [
    "# The first card is no longer the Two of Hearts as the deck has been shuffled\n",
    "# Now the first card in the deck is the Jack of Spades...nice!"
   ]
  },
  {
   "cell_type": "markdown",
   "id": "c8ee3587-b5be-4aa5-93f5-80b70c6c4b53",
   "metadata": {},
   "source": [
    "### After writing the deal one method"
   ]
  },
  {
   "cell_type": "code",
   "execution_count": 14,
   "id": "49fcd0b0-7ede-4140-acda-9b7871c47363",
   "metadata": {},
   "outputs": [],
   "source": [
    "mycard = new_deck.deal_one()"
   ]
  },
  {
   "cell_type": "code",
   "execution_count": 15,
   "id": "e80194d4-4915-4eb0-bb88-a3654c128a99",
   "metadata": {},
   "outputs": [
    {
     "data": {
      "text/plain": [
       "<__main__.Card at 0x215acb75c40>"
      ]
     },
     "execution_count": 15,
     "metadata": {},
     "output_type": "execute_result"
    }
   ],
   "source": [
    "mycard"
   ]
  },
  {
   "cell_type": "code",
   "execution_count": 16,
   "id": "ce8e554a-ac63-47d7-9f20-21fb91dc3626",
   "metadata": {},
   "outputs": [
    {
     "name": "stdout",
     "output_type": "stream",
     "text": [
      "Queen of Clubs\n"
     ]
    }
   ],
   "source": [
    "print(mycard)"
   ]
  },
  {
   "cell_type": "code",
   "execution_count": 17,
   "id": "454dd143-fb16-4071-8960-091d9bb4e1dc",
   "metadata": {},
   "outputs": [],
   "source": [
    "#Now let's check the length of cards!"
   ]
  },
  {
   "cell_type": "code",
   "execution_count": 18,
   "id": "b95c46a4-e585-4a58-989e-cdbcb7db5733",
   "metadata": {},
   "outputs": [
    {
     "data": {
      "text/plain": [
       "51"
      ]
     },
     "execution_count": 18,
     "metadata": {},
     "output_type": "execute_result"
    }
   ],
   "source": [
    "len(new_deck.allcards)"
   ]
  },
  {
   "cell_type": "markdown",
   "id": "b9fbc0d5-acf1-4668-8c3e-488a1ad5ab87",
   "metadata": {},
   "source": [
    "# Player Class"
   ]
  },
  {
   "cell_type": "markdown",
   "id": "28be23d6-fd76-4752-ae85-b4f662216ae0",
   "metadata": {},
   "source": [
    "This will be used to:\n",
    "1. Hold a players list of cards\n",
    "2. Let the player add or remove cards from their deck"
   ]
  },
  {
   "cell_type": "markdown",
   "id": "e7ccc3b3-ad81-48d9-adc5-af2a6b3ce50a",
   "metadata": {},
   "source": [
    "#### Here's how to add multiple cards:"
   ]
  },
  {
   "cell_type": "markdown",
   "id": "57f13d61-81d2-4e02-a1d6-6a4bf790f2ea",
   "metadata": {},
   "source": [
    "Players adding multiple cards uses extend()\n",
    "\n",
    "e.g.:"
   ]
  },
  {
   "cell_type": "code",
   "execution_count": 19,
   "id": "b7cba407-5a45-4aed-9180-3a417f4e06ed",
   "metadata": {},
   "outputs": [],
   "source": [
    "cards = [\"B\", \"C\"]\n",
    "\n",
    "new = [\"X\", \"Z\"]"
   ]
  },
  {
   "cell_type": "code",
   "execution_count": 20,
   "id": "76f484b9-14cd-42e0-adaa-5fa8c138b608",
   "metadata": {},
   "outputs": [],
   "source": [
    "cards.extend(new)"
   ]
  },
  {
   "cell_type": "markdown",
   "id": "51057d01-0d7a-4bf8-bb50-52e3ac20a0a0",
   "metadata": {},
   "source": [
    "__Don't__ use append() or lists become nested!\n",
    "\n",
    "What will happen:\n",
    "\n",
    "After using __cards.append(new)__ instead of __cards.extend(new)__\n",
    "\n",
    "It will look like this\n",
    "\n",
    "cards= [\"B\", \"C\", [\"X\", \"Z\"]]\n",
    "\n",
    "What happened here is that a list became nested inside another list\n",
    "but we want one big list"
   ]
  },
  {
   "cell_type": "code",
   "execution_count": 21,
   "id": "4b91efdd-f01a-4767-947e-fd3d8e4b8ff3",
   "metadata": {},
   "outputs": [
    {
     "name": "stdout",
     "output_type": "stream",
     "text": [
      "['B', 'C', 'X', 'Z']\n"
     ]
    }
   ],
   "source": [
    "print(cards)"
   ]
  },
  {
   "cell_type": "markdown",
   "id": "0fcf366b-f1b6-44e1-8b00-af229c87f0b3",
   "metadata": {},
   "source": [
    "## Let's start the Player code!"
   ]
  },
  {
   "cell_type": "code",
   "execution_count": 22,
   "id": "06954de7-835b-487c-9a1a-12bc620ed2f1",
   "metadata": {},
   "outputs": [],
   "source": [
    "class Player:\n",
    "\n",
    "    def __init__(self, name):\n",
    "\n",
    "        self.name = name\n",
    "        self.allcards = []\n",
    "\n",
    "    def remove_one(self):\n",
    "        return self.allcards.pop(0)\n",
    "\n",
    "    def add_cards(self, new_cards):\n",
    "        if type(new_cards) == type([]):\n",
    "            #List of multiple cards\n",
    "            self.allcards.extend(new_cards)\n",
    "        else:\n",
    "            #For a single card object\n",
    "            self.allcards.append(new_cards)\n",
    "\n",
    "    def __str__(self):\n",
    "        return f'Player {self.name} has {len(self.allcards)} cards.' "
   ]
  },
  {
   "cell_type": "code",
   "execution_count": 23,
   "id": "39078b7b-a863-4edb-b855-299e8042a611",
   "metadata": {},
   "outputs": [],
   "source": [
    "new_player = Player(\"Ali\")"
   ]
  },
  {
   "cell_type": "code",
   "execution_count": 24,
   "id": "fdf5d3ec-d309-4a89-a85a-3e2d0b4e6b6a",
   "metadata": {},
   "outputs": [
    {
     "name": "stdout",
     "output_type": "stream",
     "text": [
      "Player Ali has 0 cards.\n"
     ]
    }
   ],
   "source": [
    "print(new_player)"
   ]
  },
  {
   "cell_type": "code",
   "execution_count": 25,
   "id": "ea46aaee-e506-45f6-8327-7d11075703bb",
   "metadata": {},
   "outputs": [],
   "source": [
    "#Ali has no cards so let's give him some cards"
   ]
  },
  {
   "cell_type": "code",
   "execution_count": 26,
   "id": "c9f71a94-d9e8-4756-9cd8-e935884c7993",
   "metadata": {},
   "outputs": [],
   "source": [
    "new_player.add_cards(mycard)"
   ]
  },
  {
   "cell_type": "code",
   "execution_count": 27,
   "id": "ab8ffa68-caf3-41c5-9d02-9902bed79a36",
   "metadata": {},
   "outputs": [
    {
     "name": "stdout",
     "output_type": "stream",
     "text": [
      "Player Ali has 1 cards.\n"
     ]
    }
   ],
   "source": [
    "print(new_player)"
   ]
  },
  {
   "cell_type": "code",
   "execution_count": 28,
   "id": "5cfe90d6-d9f1-48f2-83de-899c9a7ed1c0",
   "metadata": {},
   "outputs": [],
   "source": [
    "new_player.add_cards([mycard,mycard,mycard])"
   ]
  },
  {
   "cell_type": "code",
   "execution_count": 29,
   "id": "c07344e1-9af7-4c0c-91dd-83c921a2c13b",
   "metadata": {},
   "outputs": [
    {
     "name": "stdout",
     "output_type": "stream",
     "text": [
      "Player Ali has 4 cards.\n"
     ]
    }
   ],
   "source": [
    "print(new_player)"
   ]
  },
  {
   "cell_type": "code",
   "execution_count": 30,
   "id": "196e1a6e-1ff4-4509-a099-cd70dcbf6c13",
   "metadata": {},
   "outputs": [
    {
     "data": {
      "text/plain": [
       "<__main__.Card at 0x215acb75c40>"
      ]
     },
     "execution_count": 30,
     "metadata": {},
     "output_type": "execute_result"
    }
   ],
   "source": [
    "new_player.remove_one()"
   ]
  },
  {
   "cell_type": "code",
   "execution_count": 31,
   "id": "5424affe-d963-4afb-a493-daead71a79eb",
   "metadata": {},
   "outputs": [
    {
     "name": "stdout",
     "output_type": "stream",
     "text": [
      "Player Ali has 3 cards.\n"
     ]
    }
   ],
   "source": [
    "print(new_player)"
   ]
  },
  {
   "cell_type": "code",
   "execution_count": 32,
   "id": "cda246d0-7730-497d-a269-eac2591eaae5",
   "metadata": {},
   "outputs": [
    {
     "name": "stdout",
     "output_type": "stream",
     "text": [
      "Queen of Clubs\n"
     ]
    }
   ],
   "source": [
    "print(new_player.allcards[1])"
   ]
  },
  {
   "cell_type": "markdown",
   "id": "7eee27e2-e79d-461c-8885-605ff0580170",
   "metadata": {},
   "source": [
    "# Game Logic"
   ]
  },
  {
   "cell_type": "markdown",
   "id": "73e04377-9772-4d08-b4ee-3de1b0c8971d",
   "metadata": {},
   "source": [
    "### Creating the overall logic is often the hardest part of a project like this!"
   ]
  },
  {
   "cell_type": "markdown",
   "id": "dc2dea09-3f38-47df-a5a9-ff481f12b305",
   "metadata": {},
   "source": [
    "__It's important to note__, that we planned the classes around the upcoming logic, so in a __real_world situation__, you often think of both the loguc and class structures simultaneously."
   ]
  },
  {
   "cell_type": "code",
   "execution_count": 33,
   "id": "05edc85c-dadc-492f-972d-050526c5a111",
   "metadata": {},
   "outputs": [],
   "source": [
    "#GAME STEUP\n",
    "\n",
    "#Calling the player class we made earlier\n",
    "player_one = Player(\"One\")\n",
    "player_two = Player(\"Two\")\n",
    "\n",
    "new_deck = Deck()\n",
    "new_deck.shuffle()\n",
    "\n",
    "for x in range(26):\n",
    "    player_one.add_cards(new_deck.deal_one())\n",
    "    player_two.add_cards(new_deck.deal_one())"
   ]
  },
  {
   "cell_type": "code",
   "execution_count": 34,
   "id": "6a8cbee4-62ea-4548-9c4a-2d79dfd3082d",
   "metadata": {},
   "outputs": [],
   "source": [
    "game_on = True"
   ]
  },
  {
   "cell_type": "code",
   "execution_count": 35,
   "id": "15753ba4-0eaf-4d36-b3c8-a3a558c190ba",
   "metadata": {},
   "outputs": [
    {
     "name": "stdout",
     "output_type": "stream",
     "text": [
      "Round 1\n",
      "Round 2\n",
      "Round 3\n",
      "Round 4\n",
      "Round 5\n",
      "Round 6\n",
      "Round 7\n",
      "Round 8\n",
      "Round 9\n",
      "Round 10\n",
      "Round 11\n",
      "Round 12\n",
      "Round 13\n",
      "Round 14\n",
      "WAR!\n",
      "Round 15\n",
      "Player One, out of cards! Player Two Wins!\n"
     ]
    }
   ],
   "source": [
    "round_num = 0\n",
    "\n",
    "while game_on:\n",
    "    round_num += 1\n",
    "    print(f'Round {round_num}') \n",
    "    \n",
    "    # f-strings are more convenient because they automatically handle type conversion.\n",
    "    # for example print('Round' + round_num) would result in a type error\n",
    "    # you would have to do print('Round' + str(round_num)\n",
    "    # so using an formatted string literal is better\n",
    "\n",
    "    if len(player_one.allcards) == 0:\n",
    "        print('Player One, out of cards! Player Two Wins!')\n",
    "        game_on = False\n",
    "        break\n",
    "\n",
    "    if len(player_two.allcards) == 0:\n",
    "        print('Player Two, out of cards! Player One Wins!')\n",
    "        game_on = False\n",
    "        break\n",
    "    \n",
    "    #START A NEW ROUND (because both players still have cards)\n",
    "    player_one_cards = []\n",
    "    player_one_cards.append(player_one.remove_one())\n",
    "    \n",
    "    player_two_cards = []\n",
    "    player_two_cards.append(player_two.remove_one())\n",
    "\n",
    "\n",
    "    at_war = True\n",
    "    while at_war:\n",
    "        \n",
    "        if player_one_cards[-1].values > player_two_cards[-1].values:\n",
    "\n",
    "            player_one.add_cards(player_one_cards)\n",
    "            player_one.add_cards(player_two_cards)\n",
    "\n",
    "            at_war = False\n",
    "\n",
    "        elif player_one_cards[-1].values < player_two_cards[-1].values:\n",
    "\n",
    "            player_two.add_cards(player_one_cards)\n",
    "            player_two.add_cards(player_two_cards)\n",
    "\n",
    "            at_war = False\n",
    "\n",
    "        else: \n",
    "            print('WAR!')\n",
    "\n",
    "            if len(player_one.allcards) < 20:\n",
    "                print('Player One unable to declare war')\n",
    "                print('Player Two wins!')\n",
    "                break\n",
    "\n",
    "            elif len(player_two.allcards) < 20:\n",
    "                print('Player Two unable to declare war')\n",
    "                print('Player One wins!')\n",
    "                break\n",
    "\n",
    "            else:\n",
    "                for num in range(20):\n",
    "                    player_one_cards.append(player_one.remove_one())\n",
    "                    player_two_cards.append(player_two.remove_one())"
   ]
  },
  {
   "cell_type": "markdown",
   "id": "8fa2f9da-c51b-4a86-b8d6-59d2256ece17",
   "metadata": {},
   "source": [
    "### Note\n",
    "In a real game of War, the amount of cards the player needs to initiate War would be 3 or 5 however this usually results in about 200-300 rounds. To make the game a lot shorter and just to display the code, I made it so that if a player does not have more than 20 additional cards (this happens in only around 10-20 rounds) they lose"
   ]
  },
  {
   "cell_type": "markdown",
   "id": "77ed0f04-ef86-44f7-861b-22d44a1127e9",
   "metadata": {},
   "source": [
    "### Rules of the War\n",
    "1. If there is a tie, each player needs to draw 5 additional cards.\n",
    "2. If the player does NOT have 5 additional cards to play the war, they LOSE!"
   ]
  }
 ],
 "metadata": {
  "kernelspec": {
   "display_name": "Python 3 (ipykernel)",
   "language": "python",
   "name": "python3"
  },
  "language_info": {
   "codemirror_mode": {
    "name": "ipython",
    "version": 3
   },
   "file_extension": ".py",
   "mimetype": "text/x-python",
   "name": "python",
   "nbconvert_exporter": "python",
   "pygments_lexer": "ipython3",
   "version": "3.12.4"
  }
 },
 "nbformat": 4,
 "nbformat_minor": 5
}
