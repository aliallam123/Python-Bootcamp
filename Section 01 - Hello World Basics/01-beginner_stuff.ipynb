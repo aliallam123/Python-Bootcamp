{
 "cells": [
  {
   "cell_type": "code",
   "execution_count": 1,
   "id": "94b8da08",
   "metadata": {},
   "outputs": [
    {
     "name": "stdout",
     "output_type": "stream",
     "text": [
      "Hello world\n"
     ]
    }
   ],
   "source": [
    "print(\"Hello world\")"
   ]
  },
  {
   "cell_type": "code",
   "execution_count": 20,
   "id": "60e51539",
   "metadata": {},
   "outputs": [
    {
     "name": "stdout",
     "output_type": "stream",
     "text": [
      "     / \\           |           \n",
      "    /   \\          |       .     \n",
      "   /     \\         |            \n",
      "  /-------\\        |       |     \n",
      " /         \\       |       |       \n",
      "/           \\      |       |     \n"
     ]
    }
   ],
   "source": [
    "print(\"     / \\\\           |           \")\n",
    "print(\"    /   \\\\          |       .     \")\n",
    "print(\"   /     \\\\         |            \")\n",
    "print(\"  /-------\\\\        |       |     \")\n",
    "print(\" /         \\\\       |       |       \")\n",
    "print(\"/           \\\\      |       |     \")"
   ]
  },
  {
   "cell_type": "markdown",
   "id": "f790a1a5",
   "metadata": {},
   "source": [
    "Variables and Data Types"
   ]
  },
  {
   "cell_type": "code",
   "execution_count": null,
   "id": "299bfc63",
   "metadata": {},
   "outputs": [
    {
     "name": "stdout",
     "output_type": "stream",
     "text": [
      "There once was a man named Ali,\n",
      "he was 31 years old\n",
      "He really liked the name chimmy changa,\n",
      "but didn't like being OVER 9000.\n",
      "13\n",
      "C\n"
     ]
    }
   ],
   "source": [
    "name = \"Ali\"\n",
    "age = 31\n",
    "\n",
    "print(\"There once was a man named \" + name + \",\")\n",
    "print(\"he was \" + str(age) + \" years old\")\n",
    "\n",
    "# order matters in python!\n",
    "# you can change the details half way through the story\n",
    "# much cool!\n",
    "\n",
    "name = \"Chimmy Changa\"\n",
    "age = \"over 9000\"\n",
    "print(\"He really liked the name \" + str(name.lower()) + \",\")\n",
    "print(\"but didn't like being \" + str(age.upper()) + \".\")\n",
    "\n",
    "print(len(name))\n",
    "print(name[0])\n",
    "print(\"\")"
   ]
  },
  {
   "cell_type": "markdown",
   "id": "d2f580e8",
   "metadata": {},
   "source": [
    "Madlibs Mini Project"
   ]
  },
  {
   "cell_type": "code",
   "execution_count": 5,
   "id": "96887cd4",
   "metadata": {},
   "outputs": [
    {
     "name": "stdout",
     "output_type": "stream",
     "text": [
      "Hi my name is Ali and when I was 12 my favourite colour was lime green.\n"
     ]
    }
   ],
   "source": [
    "colour = input(\"What is your favourite colour?\")\n",
    "user_name = input(\"What is your name\")\n",
    "user_age = input(int)\n",
    "print(\"Hi my name is \" + user_name + \" and when I was \" + user_age + \" my favourite colour was \" + colour + \".\")"
   ]
  },
  {
   "cell_type": "markdown",
   "id": "b6b09b99",
   "metadata": {},
   "source": [
    "Guess a random number mini project"
   ]
  },
  {
   "cell_type": "code",
   "execution_count": null,
   "id": "f45939a0",
   "metadata": {},
   "outputs": [
    {
     "name": "stdout",
     "output_type": "stream",
     "text": [
      "Sorry, 99 is not within the range: 1-10\n",
      "Please choose another number from 1-10\n",
      "You guessed incorrectly.\n",
      "You guessed: 3\n",
      "The correct answer was 7\n"
     ]
    }
   ],
   "source": [
    "def random_game():\n",
    "    import random \n",
    "\n",
    "    user_guess = int(input(\"Choose a whole number from 1-10!\"))\n",
    "    randint = random.randint(1,10)\n",
    "\n",
    "    while 1 > user_guess or user_guess > 10:\n",
    "        print(\"Sorry, \" + str(user_guess) + \" is not within the range: 1-10\")\n",
    "        print(\"Please choose another number from 1-10\")\n",
    "        user_guess = int(input(\"Please choose another number from 1-10\"))\n",
    "\n",
    "    while 1 <= user_guess <= 10:\n",
    "\n",
    "        if user_guess == randint:\n",
    "            print(\"Woohoo! You guessed correctly\")\n",
    "            break\n",
    "\n",
    "        else: \n",
    "            print(\"You guessed incorrectly.\")\n",
    "            print(\"You guessed: \" + str(user_guess))\n",
    "            print(\"The correct answer was \" + str(randint))\n",
    "            break\n",
    "    \n",
    "\n",
    "random_game()"
   ]
  },
  {
   "cell_type": "code",
   "execution_count": null,
   "id": "8892f1ba",
   "metadata": {},
   "outputs": [],
   "source": []
  }
 ],
 "metadata": {
  "kernelspec": {
   "display_name": "Python 3",
   "language": "python",
   "name": "python3"
  },
  "language_info": {
   "codemirror_mode": {
    "name": "ipython",
    "version": 3
   },
   "file_extension": ".py",
   "mimetype": "text/x-python",
   "name": "python",
   "nbconvert_exporter": "python",
   "pygments_lexer": "ipython3",
   "version": "3.11.9"
  }
 },
 "nbformat": 4,
 "nbformat_minor": 5
}
