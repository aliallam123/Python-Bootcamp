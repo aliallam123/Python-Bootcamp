{
 "cells": [
  {
   "cell_type": "markdown",
   "id": "c2828b29",
   "metadata": {},
   "source": [
    "Making a class or object is like making our own data type\n",
    "like string, int, float, boolean etc."
   ]
  },
  {
   "cell_type": "code",
   "execution_count": 2,
   "id": "52cf7a79",
   "metadata": {},
   "outputs": [],
   "source": [
    "# making a student data type as a class\n",
    "class Student:\n",
    "    #everything in this indent is a part of our student class\n",
    "    #we can define a bunch of attributes now\n",
    "    def __init__(self, name, major, gpa, is_on_probation):\n",
    "        #now we map out what a student has with the self\n",
    "        #now we assign the attributes\n",
    "        self.name = name\n",
    "        self.major = major\n",
    "        self.gpa = gpa\n",
    "        self.is_on_probation = is_on_probation"
   ]
  },
  {
   "cell_type": "code",
   "execution_count": 3,
   "id": "ddfba489",
   "metadata": {},
   "outputs": [
    {
     "name": "stdout",
     "output_type": "stream",
     "text": [
      "Ali\n",
      "3.9\n"
     ]
    }
   ],
   "source": [
    "student1 = Student(\"Ali\", \"Computer Science\", 3.9, False)\n",
    "\n",
    "print(student1.name)\n",
    "print(student1.gpa)"
   ]
  }
 ],
 "metadata": {
  "kernelspec": {
   "display_name": "Python 3",
   "language": "python",
   "name": "python3"
  },
  "language_info": {
   "codemirror_mode": {
    "name": "ipython",
    "version": 3
   },
   "file_extension": ".py",
   "mimetype": "text/x-python",
   "name": "python",
   "nbconvert_exporter": "python",
   "pygments_lexer": "ipython3",
   "version": "3.11.9"
  }
 },
 "nbformat": 4,
 "nbformat_minor": 5
}
