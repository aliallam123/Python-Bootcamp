{
 "cells": [
  {
   "cell_type": "code",
   "execution_count": 25,
   "id": "8649d99d",
   "metadata": {},
   "outputs": [
    {
     "name": "stdout",
     "output_type": "stream",
     "text": [
      "December\n",
      "Not a valid key\n"
     ]
    },
    {
     "data": {
      "text/plain": [
       "'January'"
      ]
     },
     "execution_count": 25,
     "metadata": {},
     "output_type": "execute_result"
    }
   ],
   "source": [
    "monthConversions = {\"Nov\":\"November\", \"Dec\":\"December\", 21:\"January\"}\n",
    "\n",
    "monthConversions[\"Nov\"]\n",
    "\n",
    "x = monthConversions.get(\"Dec\")\n",
    "print(x)\n",
    "Y = monthConversions.get(\"Luv\", \"Not a valid key\")\n",
    "print(Y)\n",
    "monthConversions[21]"
   ]
  },
  {
   "cell_type": "markdown",
   "id": "c524dc4b",
   "metadata": {},
   "source": [
    "### While Loops"
   ]
  },
  {
   "cell_type": "code",
   "execution_count": 26,
   "id": "2228b1d2",
   "metadata": {},
   "outputs": [
    {
     "name": "stdout",
     "output_type": "stream",
     "text": [
      "1\n",
      "2\n",
      "3\n",
      "4\n",
      "5\n",
      "6\n",
      "7\n",
      "8\n",
      "9\n",
      "10\n",
      "Done with loop\n"
     ]
    }
   ],
   "source": [
    "i = 1\n",
    "while i <= 10:\n",
    "    print(i)\n",
    "    i += 1\n",
    "\n",
    "print(\"Done with loop\")"
   ]
  },
  {
   "cell_type": "markdown",
   "id": "e5722cfd",
   "metadata": {},
   "source": [
    "### Builiding a guessing game"
   ]
  },
  {
   "cell_type": "code",
   "execution_count": 1,
   "id": "4b828770",
   "metadata": {},
   "outputs": [
    {
     "name": "stdout",
     "output_type": "stream",
     "text": [
      " is not the secret word, try again.\n",
      "You have 2 left!\n",
      "eee is not the secret word, try again.\n",
      "You have 1 left!\n",
      "dfdfg is not the secret word, try again.\n",
      "You have 0 left!\n"
     ]
    }
   ],
   "source": [
    "secret_word = \"holland\"\n",
    "\n",
    "guess = \"\"\n",
    "\n",
    "count = 0\n",
    "\n",
    "total_guesses = 3\n",
    "\n",
    "remaining_guesses = total_guesses - count \n",
    "\n",
    "while guess != secret_word and count < total_guesses:\n",
    "    guess = input(\"Enter guess:\")\n",
    "    if guess != secret_word and count < total_guesses:\n",
    "        print(guess + \" is not the secret word, try again.\")\n",
    "        count += 1\n",
    "        remaining_guesses = total_guesses - count \n",
    "        print(\"You have \" + str(remaining_guesses) + \" left!\")\n",
    "    elif guess != secret_word and count >= remaining_guesses:\n",
    "        print(\"Sorry you are out of guesses.\")\n",
    "    else:\n",
    "        print(guess + \" is the correct word, well done!\")\n",
    "\n"
   ]
  },
  {
   "cell_type": "markdown",
   "id": "d7d8f269",
   "metadata": {},
   "source": [
    "Cleaner version:"
   ]
  },
  {
   "cell_type": "code",
   "execution_count": null,
   "id": "c0bfa222",
   "metadata": {},
   "outputs": [],
   "source": [
    "secret_word = \"holland\"\n",
    "guess = \"\"\n",
    "count = 0\n",
    "total_guesses = 3\n",
    "\n",
    "while guess != secret_word and count < total_guesses:\n",
    "    guess = input(\"Enter guess: \")\n",
    "    \n",
    "    if guess != secret_word:\n",
    "        count += 1\n",
    "        remaining_guesses = total_guesses - count\n",
    "        if count < total_guesses:\n",
    "            print(guess + \" is not the secret word, try again.\")\n",
    "            print(\"You have \" + str(remaining_guesses) + \" left!\")\n",
    "        else:\n",
    "            print(\"Sorry, you are out of guesses.\")\n",
    "    else:\n",
    "        print(guess + \" is the correct word, well done!\")\n"
   ]
  }
 ],
 "metadata": {
  "kernelspec": {
   "display_name": "Python 3",
   "language": "python",
   "name": "python3"
  },
  "language_info": {
   "codemirror_mode": {
    "name": "ipython",
    "version": 3
   },
   "file_extension": ".py",
   "mimetype": "text/x-python",
   "name": "python",
   "nbconvert_exporter": "python",
   "pygments_lexer": "ipython3",
   "version": "3.11.9"
  }
 },
 "nbformat": 4,
 "nbformat_minor": 5
}
