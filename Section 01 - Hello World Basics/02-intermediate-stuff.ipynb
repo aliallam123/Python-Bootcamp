{
 "cells": [
  {
   "cell_type": "markdown",
   "id": "aeb3e1ca",
   "metadata": {},
   "source": [
    "Intermediate code"
   ]
  },
  {
   "cell_type": "code",
   "execution_count": 16,
   "id": "aa9270d6",
   "metadata": {},
   "outputs": [],
   "source": [
    "import math\n",
    "# import math module"
   ]
  },
  {
   "cell_type": "code",
   "execution_count": 17,
   "id": "2b1ad95d",
   "metadata": {},
   "outputs": [
    {
     "name": "stdout",
     "output_type": "stream",
     "text": [
      "2.45\n"
     ]
    }
   ],
   "source": [
    "x = round(2.4454646,2)\n",
    "print(x)\n",
    "# round function is built into python so no need to import math"
   ]
  },
  {
   "cell_type": "code",
   "execution_count": 18,
   "id": "bcb1d0f8",
   "metadata": {},
   "outputs": [
    {
     "name": "stdout",
     "output_type": "stream",
     "text": [
      "1.4142135623730951\n"
     ]
    }
   ],
   "source": [
    "print(math.sqrt(2))\n",
    "# square root function is not built into python and requires math."
   ]
  },
  {
   "cell_type": "code",
   "execution_count": null,
   "id": "a40cc2b5",
   "metadata": {},
   "outputs": [],
   "source": []
  }
 ],
 "metadata": {
  "kernelspec": {
   "display_name": "Python 3",
   "language": "python",
   "name": "python3"
  },
  "language_info": {
   "codemirror_mode": {
    "name": "ipython",
    "version": 3
   },
   "file_extension": ".py",
   "mimetype": "text/x-python",
   "name": "python",
   "nbconvert_exporter": "python",
   "pygments_lexer": "ipython3",
   "version": "3.11.9"
  }
 },
 "nbformat": 4,
 "nbformat_minor": 5
}
