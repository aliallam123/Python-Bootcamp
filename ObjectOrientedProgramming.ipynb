{
 "cells": [
  {
   "cell_type": "markdown",
   "id": "818e0cf8-ef3a-4509-830f-f499c6dd0c21",
   "metadata": {},
   "source": [
    "# Object Oriented Programming"
   ]
  },
  {
   "cell_type": "markdown",
   "id": "ded4c31c-c797-467a-ba8a-234eb8a3062f",
   "metadata": {},
   "source": [
    "## Definition:\n",
    "### OOP allows programmers to create their own objects that have methods and attributes.\n",
    "### For much larger scripts of Python code, functions by themselves aren't enough for organization and repeatability.\n",
    "\n",
    "### Commonly repeated tasks and objects can be defined with OOP to create code that is more usable.\n",
    "\n",
    "Let's check out some key OOP syntax:"
   ]
  },
  {
   "cell_type": "code",
   "execution_count": 2,
   "id": "d9be0809-bffe-4f41-8268-0032899d27db",
   "metadata": {},
   "outputs": [],
   "source": [
    "class NameOfClass():\n",
    "    def __init__(self,param1,param2): # this is a method, not a function, because it is in a class\n",
    "        self.param1 = param1\n",
    "        self.param2 = param2\n",
    "\n",
    "    def some_method(self):\n",
    "        #perform some action\n",
    "        print(self.param1)"
   ]
  },
  {
   "cell_type": "markdown",
   "id": "7695cea4-924f-4106-b1e3-9cda503dd6c3",
   "metadata": {},
   "source": [
    "# Attributes and Class Keyword"
   ]
  },
  {
   "cell_type": "code",
   "execution_count": 14,
   "id": "eb34c7f1-dcb4-4674-b07c-b9ae7ff64925",
   "metadata": {},
   "outputs": [],
   "source": [
    "class Dog():\n",
    "    def __init__(self,breed,name,spots):\n",
    "\n",
    "        #Attributes\n",
    "        #We take in the argument\n",
    "        #Assign it using self.attribute_name\n",
    "        self.breed = breed\n",
    "        self.name = name\n",
    "        \n",
    "        #Expect boolean True/False\n",
    "        self.spots = spots"
   ]
  },
  {
   "cell_type": "code",
   "execution_count": 15,
   "id": "beac30de-d099-4126-b056-6f458d526329",
   "metadata": {},
   "outputs": [],
   "source": [
    "my_dog = Dog(breed = 'lab', name = 'Sammy', spots = False)"
   ]
  },
  {
   "cell_type": "code",
   "execution_count": 16,
   "id": "738f3861-6929-483c-890e-43c5af39847a",
   "metadata": {},
   "outputs": [
    {
     "data": {
      "text/plain": [
       "__main__.Dog"
      ]
     },
     "execution_count": 16,
     "metadata": {},
     "output_type": "execute_result"
    }
   ],
   "source": [
    "type(my_dog)"
   ]
  },
  {
   "cell_type": "code",
   "execution_count": 17,
   "id": "a5bb0a6b-f2a9-4ff8-9603-25162693905a",
   "metadata": {},
   "outputs": [
    {
     "data": {
      "text/plain": [
       "'lab'"
      ]
     },
     "execution_count": 17,
     "metadata": {},
     "output_type": "execute_result"
    }
   ],
   "source": [
    "my_dog.breed"
   ]
  },
  {
   "cell_type": "code",
   "execution_count": 18,
   "id": "d6b99489-cbc6-4c41-84fc-40a6f704e79e",
   "metadata": {},
   "outputs": [
    {
     "data": {
      "text/plain": [
       "'Sammy'"
      ]
     },
     "execution_count": 18,
     "metadata": {},
     "output_type": "execute_result"
    }
   ],
   "source": [
    "my_dog.name"
   ]
  },
  {
   "cell_type": "code",
   "execution_count": 19,
   "id": "31e53024-af20-4e21-81c7-47c055aed7d9",
   "metadata": {},
   "outputs": [
    {
     "data": {
      "text/plain": [
       "False"
      ]
     },
     "execution_count": 19,
     "metadata": {},
     "output_type": "execute_result"
    }
   ],
   "source": [
    "my_dog.spots"
   ]
  },
  {
   "cell_type": "markdown",
   "id": "b38dfb96-cb55-429f-adae-704db5180653",
   "metadata": {},
   "source": [
    "# Class Object Attributes and Methods"
   ]
  },
  {
   "cell_type": "code",
   "execution_count": 96,
   "id": "0c5e7adf-5a0a-4ca8-8024-e4f5e64e2018",
   "metadata": {},
   "outputs": [],
   "source": [
    "class Dog():\n",
    "    #CLASS OBJECT ATTRIBUTE\n",
    "    #SAME FOR ANY INSTANCE OF A CLASS\n",
    "    species = 'mammal'\n",
    "\n",
    "    def __init__(self,breed,name,spots):\n",
    "\n",
    "        #Attributes\n",
    "        #We take in the argument\n",
    "        #Assign it using self.attribute_name\n",
    "        self.breed = breed\n",
    "        self.name = name\n",
    "        \n",
    "        #Expect boolean True/False\n",
    "        self.spots = spots\n",
    "\n",
    "    #OPERATIONS/Actions --->Methods\n",
    "    def bark(self, number):\n",
    "        #self.number = number\n",
    "        print('WOOF! My name is {} and my favourite number is {}!'.format(self.name,number))"
   ]
  },
  {
   "cell_type": "code",
   "execution_count": 97,
   "id": "f3633225-b408-49c2-9c17-2ab75d3d4f59",
   "metadata": {},
   "outputs": [],
   "source": [
    "my_dog = Dog(breed = 'lab', name = 'Sammy', spots = False)"
   ]
  },
  {
   "cell_type": "code",
   "execution_count": 98,
   "id": "f13f11e0-a9a0-458d-bf36-c628fd6b3c38",
   "metadata": {},
   "outputs": [
    {
     "data": {
      "text/plain": [
       "__main__.Dog"
      ]
     },
     "execution_count": 98,
     "metadata": {},
     "output_type": "execute_result"
    }
   ],
   "source": [
    "type(my_dog)"
   ]
  },
  {
   "cell_type": "code",
   "execution_count": 99,
   "id": "a13bbe02-ef3d-488f-9e2e-a8826b4cc168",
   "metadata": {},
   "outputs": [
    {
     "data": {
      "text/plain": [
       "'mammal'"
      ]
     },
     "execution_count": 99,
     "metadata": {},
     "output_type": "execute_result"
    }
   ],
   "source": [
    "my_dog.species"
   ]
  },
  {
   "cell_type": "code",
   "execution_count": 100,
   "id": "c8d18b46-cc0e-4508-b17a-7e7e86d16dfc",
   "metadata": {},
   "outputs": [
    {
     "ename": "TypeError",
     "evalue": "'str' object is not callable",
     "output_type": "error",
     "traceback": [
      "\u001b[1;31m---------------------------------------------------------------------------\u001b[0m",
      "\u001b[1;31mTypeError\u001b[0m                                 Traceback (most recent call last)",
      "Cell \u001b[1;32mIn[100], line 1\u001b[0m\n\u001b[1;32m----> 1\u001b[0m my_dog\u001b[38;5;241m.\u001b[39mspecies()\n",
      "\u001b[1;31mTypeError\u001b[0m: 'str' object is not callable"
     ]
    }
   ],
   "source": [
    "my_dog.species()\n",
    "#The species is just an attribute so you don't actually call it! Therefore no need for () because you don't call it"
   ]
  },
  {
   "cell_type": "code",
   "execution_count": 101,
   "id": "ef827b25-56ff-434c-917f-34f12c460ca1",
   "metadata": {},
   "outputs": [
    {
     "name": "stdout",
     "output_type": "stream",
     "text": [
      "WOOF! My name is Sammy and my favourite number is 28!\n"
     ]
    }
   ],
   "source": [
    "my_dog.bark(28)"
   ]
  },
  {
   "cell_type": "code",
   "execution_count": null,
   "id": "37c99716-9bf7-40a2-a8f0-4cb29f876764",
   "metadata": {},
   "outputs": [],
   "source": []
  },
  {
   "cell_type": "code",
   "execution_count": null,
   "id": "1ac5aed5-3583-4fa5-85c4-4d14dd477677",
   "metadata": {},
   "outputs": [],
   "source": []
  },
  {
   "cell_type": "code",
   "execution_count": null,
   "id": "94e037e2-99d6-48dd-8991-40df6f11b046",
   "metadata": {},
   "outputs": [],
   "source": []
  },
  {
   "cell_type": "code",
   "execution_count": 118,
   "id": "c8f7a997-d467-4f6a-9d90-7d81d5d7d687",
   "metadata": {},
   "outputs": [],
   "source": [
    "class Circle():\n",
    "\n",
    "    #CLASS OBJECT ATTRIBUTE\n",
    "    pi = 3.14\n",
    "\n",
    "    def __init__(self, radius=1):\n",
    "\n",
    "        self.radius = radius\n",
    "        self.area = radius**2 * Circle.pi\n",
    "\n",
    "    #METHOD\n",
    "    def get_circumference(self):\n",
    "        return self.radius * self.pi * 2"
   ]
  },
  {
   "cell_type": "code",
   "execution_count": 119,
   "id": "e5a6ef86-3706-4fac-a340-a0709a41fb01",
   "metadata": {},
   "outputs": [],
   "source": [
    "my_circle = Circle(30) #overwrites the radius value"
   ]
  },
  {
   "cell_type": "code",
   "execution_count": 120,
   "id": "d70d9bf8-7b4f-487c-83c3-775701a2593f",
   "metadata": {},
   "outputs": [
    {
     "data": {
      "text/plain": [
       "3.14"
      ]
     },
     "execution_count": 120,
     "metadata": {},
     "output_type": "execute_result"
    }
   ],
   "source": [
    "my_circle.pi"
   ]
  },
  {
   "cell_type": "code",
   "execution_count": 121,
   "id": "d879e8b6-88a9-4321-bc95-33d69849c4ec",
   "metadata": {},
   "outputs": [
    {
     "data": {
      "text/plain": [
       "30"
      ]
     },
     "execution_count": 121,
     "metadata": {},
     "output_type": "execute_result"
    }
   ],
   "source": [
    "my_circle.radius"
   ]
  },
  {
   "cell_type": "code",
   "execution_count": 122,
   "id": "482588ba-9fd2-4406-8c60-9ed2a7753132",
   "metadata": {},
   "outputs": [
    {
     "data": {
      "text/plain": [
       "2826.0"
      ]
     },
     "execution_count": 122,
     "metadata": {},
     "output_type": "execute_result"
    }
   ],
   "source": [
    "my_circle.area"
   ]
  },
  {
   "cell_type": "markdown",
   "id": "9f5b9cdc-50d5-47a5-a982-63e18b1cd8ac",
   "metadata": {},
   "source": [
    "# Inheritence and Polymorphism"
   ]
  },
  {
   "cell_type": "code",
   "execution_count": 124,
   "id": "404b59d0-6ca4-4980-b804-81367ee238f1",
   "metadata": {},
   "outputs": [],
   "source": [
    "class Animal():\n",
    "\n",
    "    def __init__(self):\n",
    "        print('ANIMAL CREATED')\n",
    "\n",
    "    def who_am_i(self):\n",
    "        print('I am an animal')\n",
    "\n",
    "    def eat(self):\n",
    "        print('I am eating')"
   ]
  },
  {
   "cell_type": "code",
   "execution_count": 127,
   "id": "e7ecd762-d2c3-4b9f-9a89-ae486f93d548",
   "metadata": {},
   "outputs": [
    {
     "name": "stdout",
     "output_type": "stream",
     "text": [
      "ANIMAL CREATED\n"
     ]
    }
   ],
   "source": [
    "myanimal = Animal()"
   ]
  },
  {
   "cell_type": "code",
   "execution_count": 131,
   "id": "21283ce6-b497-4ffb-bccb-42f84318c06d",
   "metadata": {},
   "outputs": [
    {
     "name": "stdin",
     "output_type": "stream",
     "text": [
      " 6\n"
     ]
    },
    {
     "name": "stdout",
     "output_type": "stream",
     "text": [
      "0\n",
      "1\n",
      "4\n",
      "9\n",
      "16\n",
      "25\n"
     ]
    }
   ],
   "source": [
    "def SquareNumbers():\n",
    "    n = int(input())\n",
    "    for i in range(n):\n",
    "        print(i**2)\n",
    "SquareNumbers()"
   ]
  },
  {
   "cell_type": "markdown",
   "id": "bce7d932-5ebd-4add-8ccb-f9f5af73676c",
   "metadata": {},
   "source": [
    "In object-oriented programming (OOP):\n",
    "\n",
    "Inheritance allows a class (called a subclass or derived class) to inherit properties and behaviors (methods and attributes) from another class (called a superclass or base class). This promotes code reuse and establishes a parent-child relationship between classes.\n",
    "\n",
    "Polymorphism enables objects of different classes to be treated as instances of the same superclass. It allows methods to be defined in a general way in the superclass but to behave differently based on the specific subclass that implements them, often using method overriding.\n",
    "\n",
    "In summary, inheritance lets classes share functionality, while polymorphism allows for flexible and dynamic method behavior across related classes."
   ]
  },
  {
   "cell_type": "markdown",
   "id": "f538d484-9b4f-4399-8d65-64eea46ca465",
   "metadata": {},
   "source": [
    "## Inheritance"
   ]
  },
  {
   "cell_type": "markdown",
   "id": "1621e748-b6db-43d6-a37e-b84d186ab59c",
   "metadata": {},
   "source": [
    "Inheritance is a way to form new classes using classes that have already been defined. The newly formed classes are called derived classes, the classes that we derive from are called base classes. Important benefits of inheritance are code reuse and reduction of complexity of a program. The derived classes (descendants) override or extend the functionality of base classes (ancestors)."
   ]
  },
  {
   "cell_type": "markdown",
   "id": "b286c77f-3f1a-4e64-a83f-eeeb548d50b6",
   "metadata": {},
   "source": [
    "## Polymorphism"
   ]
  },
  {
   "cell_type": "markdown",
   "id": "cd370f07-c7d2-403d-9da1-4d9f3c88689f",
   "metadata": {},
   "source": [
    "We've learned that while functions can take in different arguments, methods belong to the objects they act on. In Python, polymorphism refers to the way in which different object classes can share the same method name, and those methods can be called from the same place even though a variety of different objects might be passed in. The best way to explain this is by example:"
   ]
  },
  {
   "cell_type": "code",
   "execution_count": 133,
   "id": "05c67f51-d73d-4c74-84e1-0266e7e18f4b",
   "metadata": {},
   "outputs": [
    {
     "name": "stdout",
     "output_type": "stream",
     "text": [
      "Niko says Woof!\n",
      "Felix says Meow!\n"
     ]
    }
   ],
   "source": [
    "class Dog:\n",
    "    def __init__(self, name):\n",
    "        self.name = name\n",
    "\n",
    "    def speak(self):\n",
    "        return self.name+' says Woof!'\n",
    "    \n",
    "class Cat:\n",
    "    def __init__(self, name):\n",
    "        self.name = name\n",
    "\n",
    "    def speak(self):\n",
    "        return self.name+' says Meow!' \n",
    "    \n",
    "niko = Dog('Niko')\n",
    "felix = Cat('Felix')\n",
    "\n",
    "print(niko.speak())\n",
    "print(felix.speak())"
   ]
  },
  {
   "cell_type": "markdown",
   "id": "9d91ad1e-62c5-4f92-8aec-354f7b900cc1",
   "metadata": {},
   "source": [
    "Here we have a Dog class and a Cat class, and each has a .speak() method. When called, each object's .speak() method returns a result unique to the object."
   ]
  },
  {
   "cell_type": "markdown",
   "id": "9efc3b07-6154-4885-8420-a621f4a4e601",
   "metadata": {},
   "source": [
    "## Real life examples of polymorphism include:ion"
   ]
  },
  {
   "cell_type": "markdown",
   "id": "980c0656-d215-4672-8a25-a0626ee6bd86",
   "metadata": {},
   "source": [
    "### opening different file types - \n",
    "different tools are needed to display Word, pdf and Excel files"
   ]
  },
  {
   "cell_type": "markdown",
   "id": "7f0a4cb1-d433-458d-87a4-d3116828b6fa",
   "metadata": {},
   "source": [
    "### Adding different objects - \n",
    "the + operator performs arithmetic and concatenation"
   ]
  },
  {
   "cell_type": "markdown",
   "id": "86ee6538-1915-4ddf-af95-3e41f88e846f",
   "metadata": {},
   "source": [
    "# Special Methods"
   ]
  },
  {
   "cell_type": "markdown",
   "id": "99c626f9-858a-4b21-b989-114814804541",
   "metadata": {},
   "source": [
    "Finally let's go over special methods. Classes in Python can implement certain operations with special method names. These methods are not actually called directly but by Python specific language syntax. For example let's create a Book class:"
   ]
  },
  {
   "cell_type": "code",
   "execution_count": 134,
   "id": "bd758fba-654f-4148-a29e-dedcf2fa4c3d",
   "metadata": {},
   "outputs": [],
   "source": [
    "class Book:\n",
    "    def __init__(self, title, author, pages):\n",
    "        print(\"A book is created\")\n",
    "        self.title = title\n",
    "        self.author = author\n",
    "        self.pages = pages\n",
    "\n",
    "    def __str__(self):\n",
    "        return \"Title: %s, author: %s, pages: %s\" %(self.title, self.author, self.pages)\n",
    "\n",
    "    def __len__(self):\n",
    "        return self.pages\n",
    "\n",
    "    def __del__(self):\n",
    "        print(\"A book is destroyed\")"
   ]
  },
  {
   "cell_type": "code",
   "execution_count": 135,
   "id": "f99f71ab-cb05-443e-8164-ceef004a33cd",
   "metadata": {},
   "outputs": [
    {
     "name": "stdout",
     "output_type": "stream",
     "text": [
      "A book is created\n",
      "Title: Python Rocks!, author: Jose Portilla, pages: 159\n",
      "159\n",
      "A book is destroyed\n"
     ]
    }
   ],
   "source": [
    "book = Book(\"Python Rocks!\", \"Jose Portilla\", 159)\n",
    "\n",
    "#Special Methods\n",
    "print(book)\n",
    "print(len(book))\n",
    "del book"
   ]
  },
  {
   "cell_type": "code",
   "execution_count": null,
   "id": "48577a6e-49f9-44c4-9c98-7df213e448d8",
   "metadata": {},
   "outputs": [],
   "source": []
  }
 ],
 "metadata": {
  "kernelspec": {
   "display_name": "Python 3 (ipykernel)",
   "language": "python",
   "name": "python3"
  },
  "language_info": {
   "codemirror_mode": {
    "name": "ipython",
    "version": 3
   },
   "file_extension": ".py",
   "mimetype": "text/x-python",
   "name": "python",
   "nbconvert_exporter": "python",
   "pygments_lexer": "ipython3",
   "version": "3.12.4"
  }
 },
 "nbformat": 4,
 "nbformat_minor": 5
}
